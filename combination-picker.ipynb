{
 "cells": [
  {
   "cell_type": "markdown",
   "source": [
    "## Extracting Tables from Wikia Site"
   ],
   "metadata": {
    "collapsed": false
   },
   "id": "ed0583c66a9b83db"
  },
  {
   "cell_type": "code",
   "execution_count": 4,
   "outputs": [],
   "source": [
    "import pandas as pd\n",
    "url = \"https://gamedevtycoon.fandom.com/wiki/Game_Development_Based_on_Experience/1.4.3#Multi-Genre_combinations\""
   ],
   "metadata": {
    "collapsed": false,
    "ExecuteTime": {
     "end_time": "2023-11-24T17:43:12.325004Z",
     "start_time": "2023-11-24T17:43:12.290732Z"
    }
   },
   "id": "4ed816d2f94d8555"
  },
  {
   "cell_type": "code",
   "execution_count": 2,
   "outputs": [],
   "source": [
    "list_of_dfs = pd.read_html(url)"
   ],
   "metadata": {
    "collapsed": false,
    "ExecuteTime": {
     "end_time": "2023-11-23T16:54:09.096401Z",
     "start_time": "2023-11-23T16:54:08.348685Z"
    }
   },
   "id": "97cf350ab6813f65"
  },
  {
   "cell_type": "code",
   "execution_count": 3,
   "outputs": [
    {
     "data": {
      "text/plain": "         0       1          2       3           4         5       6   7   \\\n0     Topic  Genres     Genres  Genres      Genres    Genres  Genres NaN   \n1     Topic  Action  Adventure     RPG  Simulation  Strategy  Casual NaN   \n2  Abstract      ++        +++     −−−         −−−         +     −−− NaN   \n3  Airplane     +++        −−−       +         +++       +++     +++ NaN   \n4    Aliens     +++          +     +++         −−−        ++      −− NaN   \n\n          8          9          10  \n0  Audiences  Audiences  Audiences  \n1          Y          E          M  \n2          +         ++        +++  \n3        +++        +++         ++  \n4         ++        +++        +++  ",
      "text/html": "<div>\n<style scoped>\n    .dataframe tbody tr th:only-of-type {\n        vertical-align: middle;\n    }\n\n    .dataframe tbody tr th {\n        vertical-align: top;\n    }\n\n    .dataframe thead th {\n        text-align: right;\n    }\n</style>\n<table border=\"1\" class=\"dataframe\">\n  <thead>\n    <tr style=\"text-align: right;\">\n      <th></th>\n      <th>0</th>\n      <th>1</th>\n      <th>2</th>\n      <th>3</th>\n      <th>4</th>\n      <th>5</th>\n      <th>6</th>\n      <th>7</th>\n      <th>8</th>\n      <th>9</th>\n      <th>10</th>\n    </tr>\n  </thead>\n  <tbody>\n    <tr>\n      <th>0</th>\n      <td>Topic</td>\n      <td>Genres</td>\n      <td>Genres</td>\n      <td>Genres</td>\n      <td>Genres</td>\n      <td>Genres</td>\n      <td>Genres</td>\n      <td>NaN</td>\n      <td>Audiences</td>\n      <td>Audiences</td>\n      <td>Audiences</td>\n    </tr>\n    <tr>\n      <th>1</th>\n      <td>Topic</td>\n      <td>Action</td>\n      <td>Adventure</td>\n      <td>RPG</td>\n      <td>Simulation</td>\n      <td>Strategy</td>\n      <td>Casual</td>\n      <td>NaN</td>\n      <td>Y</td>\n      <td>E</td>\n      <td>M</td>\n    </tr>\n    <tr>\n      <th>2</th>\n      <td>Abstract</td>\n      <td>++</td>\n      <td>+++</td>\n      <td>−−−</td>\n      <td>−−−</td>\n      <td>+</td>\n      <td>−−−</td>\n      <td>NaN</td>\n      <td>+</td>\n      <td>++</td>\n      <td>+++</td>\n    </tr>\n    <tr>\n      <th>3</th>\n      <td>Airplane</td>\n      <td>+++</td>\n      <td>−−−</td>\n      <td>+</td>\n      <td>+++</td>\n      <td>+++</td>\n      <td>+++</td>\n      <td>NaN</td>\n      <td>+++</td>\n      <td>+++</td>\n      <td>++</td>\n    </tr>\n    <tr>\n      <th>4</th>\n      <td>Aliens</td>\n      <td>+++</td>\n      <td>+</td>\n      <td>+++</td>\n      <td>−−−</td>\n      <td>++</td>\n      <td>−−</td>\n      <td>NaN</td>\n      <td>++</td>\n      <td>+++</td>\n      <td>+++</td>\n    </tr>\n  </tbody>\n</table>\n</div>"
     },
     "execution_count": 3,
     "metadata": {},
     "output_type": "execute_result"
    }
   ],
   "source": [
    "df = list_of_dfs[2]\n",
    "df.head()"
   ],
   "metadata": {
    "collapsed": false,
    "ExecuteTime": {
     "end_time": "2023-11-23T16:54:09.912656Z",
     "start_time": "2023-11-23T16:54:09.885286Z"
    }
   },
   "id": "2626b281b9db1420"
  },
  {
   "cell_type": "code",
   "execution_count": 4,
   "outputs": [],
   "source": [
    "topics = df.iloc[1:-2,0:7]"
   ],
   "metadata": {
    "collapsed": false,
    "ExecuteTime": {
     "end_time": "2023-11-23T16:54:12.303226Z",
     "start_time": "2023-11-23T16:54:12.279919Z"
    }
   },
   "id": "3bceef238db86328"
  },
  {
   "cell_type": "code",
   "execution_count": 5,
   "outputs": [],
   "source": [
    "def convert_to_numerical(value):\n",
    "    plus_count = value.count('+')\n",
    "    minus_count = value.count('−')\n",
    "    tilde_count = value.count('~')\n",
    "    \n",
    "    if tilde_count == 1:\n",
    "        return 0\n",
    "    \n",
    "    if plus_count > minus_count:\n",
    "        return plus_count\n",
    "    elif plus_count < minus_count:\n",
    "        return -minus_count\n",
    "    else:\n",
    "        return value\n",
    "\n",
    "topics = topics.applymap(convert_to_numerical)"
   ],
   "metadata": {
    "collapsed": false,
    "ExecuteTime": {
     "end_time": "2023-11-23T16:54:14.357791Z",
     "start_time": "2023-11-23T16:54:14.350396Z"
    }
   },
   "id": "cbe1c84eb91e6a01"
  },
  {
   "cell_type": "code",
   "execution_count": 6,
   "outputs": [
    {
     "data": {
      "text/plain": "                    0       1          2    3           4         5       6\n1               Topic  Action  Adventure  RPG  Simulation  Strategy  Casual\n2            Abstract       2          3   -3          -3         1      -3\n3            Airplane       3         -3    1           3         3       3\n4              Aliens       3          1    3          -3         2      -2\n5   Alternate History       3          1    3           1         2      -3\n..                ...     ...        ...  ...         ...       ...     ...\n64        Virtual Pet      -3          1    2           3         2       3\n65         Vocabulary      -3         -3   -3           3         3       3\n66           Werewolf       3          1    3          -3        -3      -2\n67          Wild West       2         -2    3          -3        -3      -2\n68            Zombies       3         -2   -3          -3         2       3\n\n[68 rows x 7 columns]",
      "text/html": "<div>\n<style scoped>\n    .dataframe tbody tr th:only-of-type {\n        vertical-align: middle;\n    }\n\n    .dataframe tbody tr th {\n        vertical-align: top;\n    }\n\n    .dataframe thead th {\n        text-align: right;\n    }\n</style>\n<table border=\"1\" class=\"dataframe\">\n  <thead>\n    <tr style=\"text-align: right;\">\n      <th></th>\n      <th>0</th>\n      <th>1</th>\n      <th>2</th>\n      <th>3</th>\n      <th>4</th>\n      <th>5</th>\n      <th>6</th>\n    </tr>\n  </thead>\n  <tbody>\n    <tr>\n      <th>1</th>\n      <td>Topic</td>\n      <td>Action</td>\n      <td>Adventure</td>\n      <td>RPG</td>\n      <td>Simulation</td>\n      <td>Strategy</td>\n      <td>Casual</td>\n    </tr>\n    <tr>\n      <th>2</th>\n      <td>Abstract</td>\n      <td>2</td>\n      <td>3</td>\n      <td>-3</td>\n      <td>-3</td>\n      <td>1</td>\n      <td>-3</td>\n    </tr>\n    <tr>\n      <th>3</th>\n      <td>Airplane</td>\n      <td>3</td>\n      <td>-3</td>\n      <td>1</td>\n      <td>3</td>\n      <td>3</td>\n      <td>3</td>\n    </tr>\n    <tr>\n      <th>4</th>\n      <td>Aliens</td>\n      <td>3</td>\n      <td>1</td>\n      <td>3</td>\n      <td>-3</td>\n      <td>2</td>\n      <td>-2</td>\n    </tr>\n    <tr>\n      <th>5</th>\n      <td>Alternate History</td>\n      <td>3</td>\n      <td>1</td>\n      <td>3</td>\n      <td>1</td>\n      <td>2</td>\n      <td>-3</td>\n    </tr>\n    <tr>\n      <th>...</th>\n      <td>...</td>\n      <td>...</td>\n      <td>...</td>\n      <td>...</td>\n      <td>...</td>\n      <td>...</td>\n      <td>...</td>\n    </tr>\n    <tr>\n      <th>64</th>\n      <td>Virtual Pet</td>\n      <td>-3</td>\n      <td>1</td>\n      <td>2</td>\n      <td>3</td>\n      <td>2</td>\n      <td>3</td>\n    </tr>\n    <tr>\n      <th>65</th>\n      <td>Vocabulary</td>\n      <td>-3</td>\n      <td>-3</td>\n      <td>-3</td>\n      <td>3</td>\n      <td>3</td>\n      <td>3</td>\n    </tr>\n    <tr>\n      <th>66</th>\n      <td>Werewolf</td>\n      <td>3</td>\n      <td>1</td>\n      <td>3</td>\n      <td>-3</td>\n      <td>-3</td>\n      <td>-2</td>\n    </tr>\n    <tr>\n      <th>67</th>\n      <td>Wild West</td>\n      <td>2</td>\n      <td>-2</td>\n      <td>3</td>\n      <td>-3</td>\n      <td>-3</td>\n      <td>-2</td>\n    </tr>\n    <tr>\n      <th>68</th>\n      <td>Zombies</td>\n      <td>3</td>\n      <td>-2</td>\n      <td>-3</td>\n      <td>-3</td>\n      <td>2</td>\n      <td>3</td>\n    </tr>\n  </tbody>\n</table>\n<p>68 rows × 7 columns</p>\n</div>"
     },
     "execution_count": 6,
     "metadata": {},
     "output_type": "execute_result"
    }
   ],
   "source": [
    "topics"
   ],
   "metadata": {
    "collapsed": false,
    "ExecuteTime": {
     "end_time": "2023-11-23T16:54:16.478958Z",
     "start_time": "2023-11-23T16:54:16.462964Z"
    }
   },
   "id": "39aad4d415f7a14a"
  },
  {
   "cell_type": "code",
   "execution_count": 7,
   "outputs": [],
   "source": [
    "audience = df.iloc[1:-2,-3:]\n",
    "audience_first_col = df.iloc[1:,0]\n",
    "audience.insert(0,\"Topics\",audience_first_col)"
   ],
   "metadata": {
    "collapsed": false,
    "ExecuteTime": {
     "end_time": "2023-11-23T16:54:26.169401Z",
     "start_time": "2023-11-23T16:54:26.102968Z"
    }
   },
   "id": "7fb437643e5034c6"
  },
  {
   "cell_type": "code",
   "execution_count": 8,
   "outputs": [
    {
     "data": {
      "text/plain": "               Topics   8  9  10\n1               Topic   Y  E   M\n2            Abstract   1  2   3\n3            Airplane   3  3   2\n4              Aliens   2  3   3\n5   Alternate History  -3  3   3\n..                ...  .. ..  ..\n64        Virtual Pet   3  1  -2\n65         Vocabulary   2  3  -3\n66           Werewolf  -2  2   3\n67          Wild West   3  2   3\n68            Zombies   2  1   3\n\n[68 rows x 4 columns]",
      "text/html": "<div>\n<style scoped>\n    .dataframe tbody tr th:only-of-type {\n        vertical-align: middle;\n    }\n\n    .dataframe tbody tr th {\n        vertical-align: top;\n    }\n\n    .dataframe thead th {\n        text-align: right;\n    }\n</style>\n<table border=\"1\" class=\"dataframe\">\n  <thead>\n    <tr style=\"text-align: right;\">\n      <th></th>\n      <th>Topics</th>\n      <th>8</th>\n      <th>9</th>\n      <th>10</th>\n    </tr>\n  </thead>\n  <tbody>\n    <tr>\n      <th>1</th>\n      <td>Topic</td>\n      <td>Y</td>\n      <td>E</td>\n      <td>M</td>\n    </tr>\n    <tr>\n      <th>2</th>\n      <td>Abstract</td>\n      <td>1</td>\n      <td>2</td>\n      <td>3</td>\n    </tr>\n    <tr>\n      <th>3</th>\n      <td>Airplane</td>\n      <td>3</td>\n      <td>3</td>\n      <td>2</td>\n    </tr>\n    <tr>\n      <th>4</th>\n      <td>Aliens</td>\n      <td>2</td>\n      <td>3</td>\n      <td>3</td>\n    </tr>\n    <tr>\n      <th>5</th>\n      <td>Alternate History</td>\n      <td>-3</td>\n      <td>3</td>\n      <td>3</td>\n    </tr>\n    <tr>\n      <th>...</th>\n      <td>...</td>\n      <td>...</td>\n      <td>...</td>\n      <td>...</td>\n    </tr>\n    <tr>\n      <th>64</th>\n      <td>Virtual Pet</td>\n      <td>3</td>\n      <td>1</td>\n      <td>-2</td>\n    </tr>\n    <tr>\n      <th>65</th>\n      <td>Vocabulary</td>\n      <td>2</td>\n      <td>3</td>\n      <td>-3</td>\n    </tr>\n    <tr>\n      <th>66</th>\n      <td>Werewolf</td>\n      <td>-2</td>\n      <td>2</td>\n      <td>3</td>\n    </tr>\n    <tr>\n      <th>67</th>\n      <td>Wild West</td>\n      <td>3</td>\n      <td>2</td>\n      <td>3</td>\n    </tr>\n    <tr>\n      <th>68</th>\n      <td>Zombies</td>\n      <td>2</td>\n      <td>1</td>\n      <td>3</td>\n    </tr>\n  </tbody>\n</table>\n<p>68 rows × 4 columns</p>\n</div>"
     },
     "execution_count": 8,
     "metadata": {},
     "output_type": "execute_result"
    }
   ],
   "source": [
    "audience = audience.applymap(convert_to_numerical)\n",
    "audience"
   ],
   "metadata": {
    "collapsed": false,
    "ExecuteTime": {
     "end_time": "2023-11-23T16:54:27.275366Z",
     "start_time": "2023-11-23T16:54:27.255927Z"
    }
   },
   "id": "fc09949fb06faddc"
  },
  {
   "cell_type": "code",
   "execution_count": 9,
   "outputs": [],
   "source": [
    "system_table = list_of_dfs[3]"
   ],
   "metadata": {
    "collapsed": false,
    "ExecuteTime": {
     "end_time": "2023-11-23T16:54:39.285497Z",
     "start_time": "2023-11-23T16:54:39.125457Z"
    }
   },
   "id": "19ec9ed3489df6e4"
  },
  {
   "cell_type": "code",
   "execution_count": 10,
   "outputs": [
    {
     "data": {
      "text/plain": "               0       1          2    3           4         5       6\n1         System  Action  Adventure  RPG  Simulation  Strategy  Casual\n2             PC       2          3    2           3         3      -3\n3            G64       2          3    2           2         3      -2\n4            TES       1         -2    1           1        -2       3\n5       Master V       2         -2    1           1        -2       3\n6       Gameling       1         -2    2           2        -3       3\n7      Vena Gear       2          1    1           2        -3       3\n8     Vena Oasis       3          1    1           2        -3      -2\n9      Super TES       2          2    2           3        -2       2\n10    Playsystem       3          1    3           2        -2      -3\n11        TES 64       2          1   -2           1        -2       2\n12     DreamVast       3         -2    1           3        -2      -2\n13  Playsystem 2       3          1    3           2        -2       2\n14          mBox       3          1    2           2        -2      -2\n15   Game Sphere       1          1   -2           1        -2       3\n16            GS       2          2    3           2         2       3\n17           PPS       3         -2    3           1         1       1\n18      mBox 360       3          2    3           2        -2       2\n19           Nuu       1         -3   -2           3        -2       3\n20  Playsystem 3       3          2    2           3        -2       1\n21       grPhone       1          1   -2           2        -2       3\n22         grPad       1          2   -2           2         2       3\n23          mPad      -2          2    1           2        -2       2\n24           Wuu       2         -2    1           3        -2       3\n25           OYA       2         -2    1           2         1       3\n26      mBox One       3          1    2           2        -2       2\n27  Playsystem 4       3          1    3           2        -2       2\n28     mBox Next       2          2    2           1        -2       3\n29  Playsystem 5       3         -2    2           3        -2       2",
      "text/html": "<div>\n<style scoped>\n    .dataframe tbody tr th:only-of-type {\n        vertical-align: middle;\n    }\n\n    .dataframe tbody tr th {\n        vertical-align: top;\n    }\n\n    .dataframe thead th {\n        text-align: right;\n    }\n</style>\n<table border=\"1\" class=\"dataframe\">\n  <thead>\n    <tr style=\"text-align: right;\">\n      <th></th>\n      <th>0</th>\n      <th>1</th>\n      <th>2</th>\n      <th>3</th>\n      <th>4</th>\n      <th>5</th>\n      <th>6</th>\n    </tr>\n  </thead>\n  <tbody>\n    <tr>\n      <th>1</th>\n      <td>System</td>\n      <td>Action</td>\n      <td>Adventure</td>\n      <td>RPG</td>\n      <td>Simulation</td>\n      <td>Strategy</td>\n      <td>Casual</td>\n    </tr>\n    <tr>\n      <th>2</th>\n      <td>PC</td>\n      <td>2</td>\n      <td>3</td>\n      <td>2</td>\n      <td>3</td>\n      <td>3</td>\n      <td>-3</td>\n    </tr>\n    <tr>\n      <th>3</th>\n      <td>G64</td>\n      <td>2</td>\n      <td>3</td>\n      <td>2</td>\n      <td>2</td>\n      <td>3</td>\n      <td>-2</td>\n    </tr>\n    <tr>\n      <th>4</th>\n      <td>TES</td>\n      <td>1</td>\n      <td>-2</td>\n      <td>1</td>\n      <td>1</td>\n      <td>-2</td>\n      <td>3</td>\n    </tr>\n    <tr>\n      <th>5</th>\n      <td>Master V</td>\n      <td>2</td>\n      <td>-2</td>\n      <td>1</td>\n      <td>1</td>\n      <td>-2</td>\n      <td>3</td>\n    </tr>\n    <tr>\n      <th>6</th>\n      <td>Gameling</td>\n      <td>1</td>\n      <td>-2</td>\n      <td>2</td>\n      <td>2</td>\n      <td>-3</td>\n      <td>3</td>\n    </tr>\n    <tr>\n      <th>7</th>\n      <td>Vena Gear</td>\n      <td>2</td>\n      <td>1</td>\n      <td>1</td>\n      <td>2</td>\n      <td>-3</td>\n      <td>3</td>\n    </tr>\n    <tr>\n      <th>8</th>\n      <td>Vena Oasis</td>\n      <td>3</td>\n      <td>1</td>\n      <td>1</td>\n      <td>2</td>\n      <td>-3</td>\n      <td>-2</td>\n    </tr>\n    <tr>\n      <th>9</th>\n      <td>Super TES</td>\n      <td>2</td>\n      <td>2</td>\n      <td>2</td>\n      <td>3</td>\n      <td>-2</td>\n      <td>2</td>\n    </tr>\n    <tr>\n      <th>10</th>\n      <td>Playsystem</td>\n      <td>3</td>\n      <td>1</td>\n      <td>3</td>\n      <td>2</td>\n      <td>-2</td>\n      <td>-3</td>\n    </tr>\n    <tr>\n      <th>11</th>\n      <td>TES 64</td>\n      <td>2</td>\n      <td>1</td>\n      <td>-2</td>\n      <td>1</td>\n      <td>-2</td>\n      <td>2</td>\n    </tr>\n    <tr>\n      <th>12</th>\n      <td>DreamVast</td>\n      <td>3</td>\n      <td>-2</td>\n      <td>1</td>\n      <td>3</td>\n      <td>-2</td>\n      <td>-2</td>\n    </tr>\n    <tr>\n      <th>13</th>\n      <td>Playsystem 2</td>\n      <td>3</td>\n      <td>1</td>\n      <td>3</td>\n      <td>2</td>\n      <td>-2</td>\n      <td>2</td>\n    </tr>\n    <tr>\n      <th>14</th>\n      <td>mBox</td>\n      <td>3</td>\n      <td>1</td>\n      <td>2</td>\n      <td>2</td>\n      <td>-2</td>\n      <td>-2</td>\n    </tr>\n    <tr>\n      <th>15</th>\n      <td>Game Sphere</td>\n      <td>1</td>\n      <td>1</td>\n      <td>-2</td>\n      <td>1</td>\n      <td>-2</td>\n      <td>3</td>\n    </tr>\n    <tr>\n      <th>16</th>\n      <td>GS</td>\n      <td>2</td>\n      <td>2</td>\n      <td>3</td>\n      <td>2</td>\n      <td>2</td>\n      <td>3</td>\n    </tr>\n    <tr>\n      <th>17</th>\n      <td>PPS</td>\n      <td>3</td>\n      <td>-2</td>\n      <td>3</td>\n      <td>1</td>\n      <td>1</td>\n      <td>1</td>\n    </tr>\n    <tr>\n      <th>18</th>\n      <td>mBox 360</td>\n      <td>3</td>\n      <td>2</td>\n      <td>3</td>\n      <td>2</td>\n      <td>-2</td>\n      <td>2</td>\n    </tr>\n    <tr>\n      <th>19</th>\n      <td>Nuu</td>\n      <td>1</td>\n      <td>-3</td>\n      <td>-2</td>\n      <td>3</td>\n      <td>-2</td>\n      <td>3</td>\n    </tr>\n    <tr>\n      <th>20</th>\n      <td>Playsystem 3</td>\n      <td>3</td>\n      <td>2</td>\n      <td>2</td>\n      <td>3</td>\n      <td>-2</td>\n      <td>1</td>\n    </tr>\n    <tr>\n      <th>21</th>\n      <td>grPhone</td>\n      <td>1</td>\n      <td>1</td>\n      <td>-2</td>\n      <td>2</td>\n      <td>-2</td>\n      <td>3</td>\n    </tr>\n    <tr>\n      <th>22</th>\n      <td>grPad</td>\n      <td>1</td>\n      <td>2</td>\n      <td>-2</td>\n      <td>2</td>\n      <td>2</td>\n      <td>3</td>\n    </tr>\n    <tr>\n      <th>23</th>\n      <td>mPad</td>\n      <td>-2</td>\n      <td>2</td>\n      <td>1</td>\n      <td>2</td>\n      <td>-2</td>\n      <td>2</td>\n    </tr>\n    <tr>\n      <th>24</th>\n      <td>Wuu</td>\n      <td>2</td>\n      <td>-2</td>\n      <td>1</td>\n      <td>3</td>\n      <td>-2</td>\n      <td>3</td>\n    </tr>\n    <tr>\n      <th>25</th>\n      <td>OYA</td>\n      <td>2</td>\n      <td>-2</td>\n      <td>1</td>\n      <td>2</td>\n      <td>1</td>\n      <td>3</td>\n    </tr>\n    <tr>\n      <th>26</th>\n      <td>mBox One</td>\n      <td>3</td>\n      <td>1</td>\n      <td>2</td>\n      <td>2</td>\n      <td>-2</td>\n      <td>2</td>\n    </tr>\n    <tr>\n      <th>27</th>\n      <td>Playsystem 4</td>\n      <td>3</td>\n      <td>1</td>\n      <td>3</td>\n      <td>2</td>\n      <td>-2</td>\n      <td>2</td>\n    </tr>\n    <tr>\n      <th>28</th>\n      <td>mBox Next</td>\n      <td>2</td>\n      <td>2</td>\n      <td>2</td>\n      <td>1</td>\n      <td>-2</td>\n      <td>3</td>\n    </tr>\n    <tr>\n      <th>29</th>\n      <td>Playsystem 5</td>\n      <td>3</td>\n      <td>-2</td>\n      <td>2</td>\n      <td>3</td>\n      <td>-2</td>\n      <td>2</td>\n    </tr>\n  </tbody>\n</table>\n</div>"
     },
     "execution_count": 10,
     "metadata": {},
     "output_type": "execute_result"
    }
   ],
   "source": [
    "systems_topics = system_table.iloc[1:-3,0:7]\n",
    "systems_topics = systems_topics.applymap(convert_to_numerical)\n",
    "systems_topics"
   ],
   "metadata": {
    "collapsed": false,
    "ExecuteTime": {
     "end_time": "2023-11-23T16:54:41.983268Z",
     "start_time": "2023-11-23T16:54:41.961978Z"
    }
   },
   "id": "8cc323551f9f7bf2"
  },
  {
   "cell_type": "code",
   "execution_count": 11,
   "outputs": [
    {
     "data": {
      "text/plain": "          System   8  9  10\n1         System   Y  E   M\n2             PC   1  2   3\n3            G64   1  2   3\n4            TES   3  2  -3\n5       Master V   2  3  -2\n6       Gameling   3  2  -3\n7      Vena Gear   2  3   1\n8     Vena Oasis   1  3   2\n9      Super TES   3  2  -2\n10    Playsystem   1  3   2\n11        TES 64   3  2   2\n12     DreamVast  -2  3   3\n13  Playsystem 2   2  3   1\n14          mBox   1  3   2\n15   Game Sphere   2  2   1\n16            GS   3  2   1\n17           PPS   1  2   3\n18      mBox 360   1  2   3\n19           Nuu   3  3  -2\n20  Playsystem 3   1  3   2\n21       grPhone   2  3  -3\n22         grPad   2  3  -3\n23          mPad  -2  2   1\n24           Wuu   2  3  -2\n25           OYA   1  3   2\n26      mBox One  -2  3   1\n27  Playsystem 4   1  3   2\n28     mBox Next   2  3   1\n29  Playsystem 5   1  3   2",
      "text/html": "<div>\n<style scoped>\n    .dataframe tbody tr th:only-of-type {\n        vertical-align: middle;\n    }\n\n    .dataframe tbody tr th {\n        vertical-align: top;\n    }\n\n    .dataframe thead th {\n        text-align: right;\n    }\n</style>\n<table border=\"1\" class=\"dataframe\">\n  <thead>\n    <tr style=\"text-align: right;\">\n      <th></th>\n      <th>System</th>\n      <th>8</th>\n      <th>9</th>\n      <th>10</th>\n    </tr>\n  </thead>\n  <tbody>\n    <tr>\n      <th>1</th>\n      <td>System</td>\n      <td>Y</td>\n      <td>E</td>\n      <td>M</td>\n    </tr>\n    <tr>\n      <th>2</th>\n      <td>PC</td>\n      <td>1</td>\n      <td>2</td>\n      <td>3</td>\n    </tr>\n    <tr>\n      <th>3</th>\n      <td>G64</td>\n      <td>1</td>\n      <td>2</td>\n      <td>3</td>\n    </tr>\n    <tr>\n      <th>4</th>\n      <td>TES</td>\n      <td>3</td>\n      <td>2</td>\n      <td>-3</td>\n    </tr>\n    <tr>\n      <th>5</th>\n      <td>Master V</td>\n      <td>2</td>\n      <td>3</td>\n      <td>-2</td>\n    </tr>\n    <tr>\n      <th>6</th>\n      <td>Gameling</td>\n      <td>3</td>\n      <td>2</td>\n      <td>-3</td>\n    </tr>\n    <tr>\n      <th>7</th>\n      <td>Vena Gear</td>\n      <td>2</td>\n      <td>3</td>\n      <td>1</td>\n    </tr>\n    <tr>\n      <th>8</th>\n      <td>Vena Oasis</td>\n      <td>1</td>\n      <td>3</td>\n      <td>2</td>\n    </tr>\n    <tr>\n      <th>9</th>\n      <td>Super TES</td>\n      <td>3</td>\n      <td>2</td>\n      <td>-2</td>\n    </tr>\n    <tr>\n      <th>10</th>\n      <td>Playsystem</td>\n      <td>1</td>\n      <td>3</td>\n      <td>2</td>\n    </tr>\n    <tr>\n      <th>11</th>\n      <td>TES 64</td>\n      <td>3</td>\n      <td>2</td>\n      <td>2</td>\n    </tr>\n    <tr>\n      <th>12</th>\n      <td>DreamVast</td>\n      <td>-2</td>\n      <td>3</td>\n      <td>3</td>\n    </tr>\n    <tr>\n      <th>13</th>\n      <td>Playsystem 2</td>\n      <td>2</td>\n      <td>3</td>\n      <td>1</td>\n    </tr>\n    <tr>\n      <th>14</th>\n      <td>mBox</td>\n      <td>1</td>\n      <td>3</td>\n      <td>2</td>\n    </tr>\n    <tr>\n      <th>15</th>\n      <td>Game Sphere</td>\n      <td>2</td>\n      <td>2</td>\n      <td>1</td>\n    </tr>\n    <tr>\n      <th>16</th>\n      <td>GS</td>\n      <td>3</td>\n      <td>2</td>\n      <td>1</td>\n    </tr>\n    <tr>\n      <th>17</th>\n      <td>PPS</td>\n      <td>1</td>\n      <td>2</td>\n      <td>3</td>\n    </tr>\n    <tr>\n      <th>18</th>\n      <td>mBox 360</td>\n      <td>1</td>\n      <td>2</td>\n      <td>3</td>\n    </tr>\n    <tr>\n      <th>19</th>\n      <td>Nuu</td>\n      <td>3</td>\n      <td>3</td>\n      <td>-2</td>\n    </tr>\n    <tr>\n      <th>20</th>\n      <td>Playsystem 3</td>\n      <td>1</td>\n      <td>3</td>\n      <td>2</td>\n    </tr>\n    <tr>\n      <th>21</th>\n      <td>grPhone</td>\n      <td>2</td>\n      <td>3</td>\n      <td>-3</td>\n    </tr>\n    <tr>\n      <th>22</th>\n      <td>grPad</td>\n      <td>2</td>\n      <td>3</td>\n      <td>-3</td>\n    </tr>\n    <tr>\n      <th>23</th>\n      <td>mPad</td>\n      <td>-2</td>\n      <td>2</td>\n      <td>1</td>\n    </tr>\n    <tr>\n      <th>24</th>\n      <td>Wuu</td>\n      <td>2</td>\n      <td>3</td>\n      <td>-2</td>\n    </tr>\n    <tr>\n      <th>25</th>\n      <td>OYA</td>\n      <td>1</td>\n      <td>3</td>\n      <td>2</td>\n    </tr>\n    <tr>\n      <th>26</th>\n      <td>mBox One</td>\n      <td>-2</td>\n      <td>3</td>\n      <td>1</td>\n    </tr>\n    <tr>\n      <th>27</th>\n      <td>Playsystem 4</td>\n      <td>1</td>\n      <td>3</td>\n      <td>2</td>\n    </tr>\n    <tr>\n      <th>28</th>\n      <td>mBox Next</td>\n      <td>2</td>\n      <td>3</td>\n      <td>1</td>\n    </tr>\n    <tr>\n      <th>29</th>\n      <td>Playsystem 5</td>\n      <td>1</td>\n      <td>3</td>\n      <td>2</td>\n    </tr>\n  </tbody>\n</table>\n</div>"
     },
     "execution_count": 11,
     "metadata": {},
     "output_type": "execute_result"
    }
   ],
   "source": [
    "systems_audience = system_table.iloc[1:-3,-3:]\n",
    "systems_audience_first_col = system_table.iloc[1:,0]\n",
    "systems_audience.insert(0,\"System\",systems_audience_first_col)\n",
    "systems_audience = systems_audience.applymap(convert_to_numerical)\n",
    "systems_audience"
   ],
   "metadata": {
    "collapsed": false,
    "ExecuteTime": {
     "end_time": "2023-11-23T16:54:57.118552Z",
     "start_time": "2023-11-23T16:54:57.045301Z"
    }
   },
   "id": "7f461e08d4e21cef"
  },
  {
   "cell_type": "code",
   "execution_count": 44,
   "outputs": [],
   "source": [
    "#topics.to_csv(\"topics.csv\")"
   ],
   "metadata": {
    "collapsed": false,
    "ExecuteTime": {
     "start_time": "2023-11-23T16:53:45.981046Z"
    }
   },
   "id": "3f30f32f72b49244"
  },
  {
   "cell_type": "code",
   "execution_count": 45,
   "outputs": [],
   "source": [
    "#audience.to_csv(\"audience.csv\")\n",
    "#systems_topics.to_csv(\"systems_topics.csv\")\n",
    "#systems_audience.to_csv(\"systems_audience.csv\")"
   ],
   "metadata": {
    "collapsed": false,
    "ExecuteTime": {
     "start_time": "2023-11-23T16:53:45.981182Z"
    }
   },
   "id": "4a2104058580742b"
  },
  {
   "cell_type": "code",
   "execution_count": 46,
   "outputs": [],
   "source": [
    "release_dates = [\n",
    "    'Release_Date',\n",
    "    '1/1/0001',\n",
    "    '1/1/0001',\n",
    "    '3/2/0002',\n",
    "    '6/4/0003',\n",
    "    '2/4/0004',\n",
    "    '9/2/0004',\n",
    "    '11/1/0005',\n",
    "    '10/4/0006',\n",
    "    '8/1/0008',\n",
    "    '6/2/0010',\n",
    "    '9/4/0011',\n",
    "    '2/1/0013',\n",
    "    '10/4/0013',\n",
    "    '11/4/0014',\n",
    "    '10/1/0015',\n",
    "    '6/2/0016',\n",
    "    '4/1/0019',\n",
    "    '1/3/0020',\n",
    "    '4/4/0020',\n",
    "    '10/4/0020',\n",
    "    '8/2/0021',\n",
    "    '9/1/0022',\n",
    "    '2/3/0024',\n",
    "    '6/2/0026',\n",
    "    '6/1/0027',\n",
    "    '8/2/0027',\n",
    "    '2/1/0032',\n",
    "    '4/3/0032'\n",
    "]"
   ],
   "metadata": {
    "collapsed": false,
    "ExecuteTime": {
     "start_time": "2023-11-23T16:53:45.981292Z"
    }
   },
   "id": "b8149f815ff3cbb6"
  },
  {
   "cell_type": "code",
   "execution_count": 47,
   "outputs": [],
   "source": [
    "systems_topics"
   ],
   "metadata": {
    "collapsed": false,
    "ExecuteTime": {
     "start_time": "2023-11-23T16:53:45.981615Z"
    }
   },
   "id": "e2dde0ab2f986811"
  },
  {
   "cell_type": "code",
   "execution_count": 47,
   "outputs": [],
   "source": [],
   "metadata": {
    "collapsed": false,
    "ExecuteTime": {
     "start_time": "2023-11-23T16:53:45.981965Z"
    }
   },
   "id": "49d729a7c56084ba"
  },
  {
   "cell_type": "code",
   "execution_count": 13,
   "outputs": [
    {
     "name": "stdout",
     "output_type": "stream",
     "text": [
      "['Action - Airplane', 'Action - Aliens', 'Action - Alternate History', 'Action - Assassin', 'Action - Crime', 'Action - Cyberpunk', 'Action - Dungeon', 'Action - Extreme Sports', 'Action - Fantasy', 'Action - Horror', 'Action - Hunting', 'Action - Martial Arts', 'Action - Medieval', 'Action - Military', 'Action - Music*', 'Action - Mythology', 'Action - Ninja', 'Action - Post Apocalyptic', 'Action - Prison', 'Action - Rhythm*', 'Action - Sci-Fi', 'Action - Space', 'Action - Sports*', 'Action - Spy', 'Action - Superheroes', 'Action - UFO', 'Action - Vampire', 'Action - Werewolf', 'Action - Zombies', 'Adventure - Abstract', 'Adventure - Comedy', 'Adventure - Detective*', 'Adventure - Fantasy', 'Adventure - Horror', 'Adventure - Law*', 'Adventure - Life', 'Adventure - Mad Science', 'Adventure - Medieval', 'Adventure - Mystery*', 'Adventure - Pirate', 'Adventure - Prison', 'Adventure - Romance', 'Adventure - School', 'Adventure - Sci-Fi', 'Adventure - Spy', 'Adventure - Time Travel', 'Casual - Airplane', 'Casual - Comedy', 'Casual - Cooking', 'Casual - Dance', 'Casual - Farming', 'Casual - Fashion', 'Casual - Martial Arts', 'Casual - Movies', 'Casual - Music*', 'Casual - Racing*', 'Casual - Rhythm*', 'Casual - Sports*', 'Casual - Virtual Pet', 'Casual - Vocabulary', 'Casual - Zombies', 'RPG - Aliens', 'RPG - Alternate History', 'RPG - Assassin', 'RPG - Cyberpunk', 'RPG - Detective*', 'RPG - Dungeon', 'RPG - Fantasy', 'RPG - Fashion', 'RPG - Martial Arts', 'RPG - Medieval', 'RPG - Mystery*', 'RPG - Post Apocalyptic', 'RPG - School', 'RPG - Sci-Fi', 'RPG - Spy', 'RPG - Thief', 'RPG - Time Travel', 'RPG - Vampire', 'RPG - Werewolf', 'RPG - Wild West', 'Simulation - Airplane', 'Simulation - Business', 'Simulation - City', 'Simulation - Colonization', 'Simulation - Construction', 'Simulation - Cooking', 'Simulation - Dance', 'Simulation - Disasters', 'Simulation - Dungeon', 'Simulation - Dystopian', 'Simulation - Evolution', 'Simulation - Extreme Sports', 'Simulation - Farming', 'Simulation - Fashion', 'Simulation - Game Dev', 'Simulation - Government', 'Simulation - Hacking', 'Simulation - History', 'Simulation - Hospital', 'Simulation - Hunting', 'Simulation - Life', 'Simulation - Martial Arts', 'Simulation - Military', 'Simulation - Movies', 'Simulation - Music*', 'Simulation - Prison', 'Simulation - Racing*', 'Simulation - Rhythm*', 'Simulation - School', 'Simulation - Sci-Fi', 'Simulation - Space', 'Simulation - Sports*', 'Simulation - Surgery', 'Simulation - Technology', 'Simulation - Transport', 'Simulation - Virtual Pet', 'Simulation - Vocabulary', 'Strategy - Airplane', 'Strategy - Business', 'Strategy - City', 'Strategy - Colonization', 'Strategy - Disasters', 'Strategy - Dungeon', 'Strategy - Evolution', 'Strategy - Expedition', 'Strategy - Fantasy', 'Strategy - Government', 'Strategy - Hacking', 'Strategy - History', 'Strategy - Medieval', 'Strategy - Military', 'Strategy - School', 'Strategy - Sci-Fi', 'Strategy - Space', 'Strategy - Transport', 'Strategy - UFO', 'Strategy - Vocabulary']\n"
     ]
    }
   ],
   "source": [
    "systems_topics.to_csv(\"systems_topics.csv\")\n",
    "systems_audience.to_csv(\"systems_audience.csv\")"
   ],
   "metadata": {
    "collapsed": false,
    "ExecuteTime": {
     "end_time": "2023-11-23T17:02:04.586430Z",
     "start_time": "2023-11-23T17:02:04.505481Z"
    }
   },
   "id": "91eeba70a7d7f03f"
  },
  {
   "cell_type": "code",
   "execution_count": 14,
   "outputs": [
    {
     "data": {
      "text/plain": "                Topic   Y  E   M\n0            Abstract   1  2   3\n1            Airplane   3  3   2\n2              Aliens   2  3   3\n3   Alternate History  -3  3   3\n4            Assassin  -3  1   3\n..                ...  .. ..  ..\n62        Virtual Pet   3  1  -2\n63         Vocabulary   2  3  -3\n64           Werewolf  -2  2   3\n65          Wild West   3  2   3\n66            Zombies   2  1   3\n\n[67 rows x 4 columns]",
      "text/html": "<div>\n<style scoped>\n    .dataframe tbody tr th:only-of-type {\n        vertical-align: middle;\n    }\n\n    .dataframe tbody tr th {\n        vertical-align: top;\n    }\n\n    .dataframe thead th {\n        text-align: right;\n    }\n</style>\n<table border=\"1\" class=\"dataframe\">\n  <thead>\n    <tr style=\"text-align: right;\">\n      <th></th>\n      <th>Topic</th>\n      <th>Y</th>\n      <th>E</th>\n      <th>M</th>\n    </tr>\n  </thead>\n  <tbody>\n    <tr>\n      <th>0</th>\n      <td>Abstract</td>\n      <td>1</td>\n      <td>2</td>\n      <td>3</td>\n    </tr>\n    <tr>\n      <th>1</th>\n      <td>Airplane</td>\n      <td>3</td>\n      <td>3</td>\n      <td>2</td>\n    </tr>\n    <tr>\n      <th>2</th>\n      <td>Aliens</td>\n      <td>2</td>\n      <td>3</td>\n      <td>3</td>\n    </tr>\n    <tr>\n      <th>3</th>\n      <td>Alternate History</td>\n      <td>-3</td>\n      <td>3</td>\n      <td>3</td>\n    </tr>\n    <tr>\n      <th>4</th>\n      <td>Assassin</td>\n      <td>-3</td>\n      <td>1</td>\n      <td>3</td>\n    </tr>\n    <tr>\n      <th>...</th>\n      <td>...</td>\n      <td>...</td>\n      <td>...</td>\n      <td>...</td>\n    </tr>\n    <tr>\n      <th>62</th>\n      <td>Virtual Pet</td>\n      <td>3</td>\n      <td>1</td>\n      <td>-2</td>\n    </tr>\n    <tr>\n      <th>63</th>\n      <td>Vocabulary</td>\n      <td>2</td>\n      <td>3</td>\n      <td>-3</td>\n    </tr>\n    <tr>\n      <th>64</th>\n      <td>Werewolf</td>\n      <td>-2</td>\n      <td>2</td>\n      <td>3</td>\n    </tr>\n    <tr>\n      <th>65</th>\n      <td>Wild West</td>\n      <td>3</td>\n      <td>2</td>\n      <td>3</td>\n    </tr>\n    <tr>\n      <th>66</th>\n      <td>Zombies</td>\n      <td>2</td>\n      <td>1</td>\n      <td>3</td>\n    </tr>\n  </tbody>\n</table>\n<p>67 rows × 4 columns</p>\n</div>"
     },
     "execution_count": 14,
     "metadata": {},
     "output_type": "execute_result"
    }
   ],
   "source": [
    "systems_audience"
   ],
   "metadata": {
    "collapsed": false,
    "ExecuteTime": {
     "end_time": "2023-11-23T17:02:12.151432Z",
     "start_time": "2023-11-23T17:02:12.122419Z"
    }
   },
   "id": "612da72ef2cc3447"
  },
  {
   "cell_type": "code",
   "execution_count": 5,
   "outputs": [
    {
     "name": "stdout",
     "output_type": "stream",
     "text": [
      "['Action - Airplane', 'Action - Aliens', 'Action - Alternate History', 'Action - Assassin', 'Action - Crime', 'Action - Cyberpunk', 'Action - Dungeon', 'Action - Extreme Sports', 'Action - Fantasy', 'Action - Horror', 'Action - Hunting', 'Action - Martial Arts', 'Action - Medieval', 'Action - Military', 'Action - Music*', 'Action - Mythology', 'Action - Ninja', 'Action - Post Apocalyptic', 'Action - Prison', 'Action - Rhythm*', 'Action - ScienceFiction', 'Action - Space', 'Action - Sports*', 'Action - Spy', 'Action - Superheroes', 'Action - UFO', 'Action - Vampire', 'Action - Werewolf', 'Action - Zombies', 'Adventure - Abstract', 'Adventure - Comedy', 'Adventure - Detective*', 'Adventure - Fantasy', 'Adventure - Horror', 'Adventure - Law*', 'Adventure - Life', 'Adventure - Mad Science', 'Adventure - Medieval', 'Adventure - Mystery*', 'Adventure - Pirate', 'Adventure - Prison', 'Adventure - Romance', 'Adventure - School', 'Adventure - ScienceFiction', 'Adventure - Spy', 'Adventure - Time Travel', 'Casual - Airplane', 'Casual - Comedy', 'Casual - Cooking', 'Casual - Dance', 'Casual - Farming', 'Casual - Fashion', 'Casual - Martial Arts', 'Casual - Movies', 'Casual - Music*', 'Casual - Racing*', 'Casual - Rhythm*', 'Casual - Sports*', 'Casual - Virtual Pet', 'Casual - Vocabulary', 'Casual - Zombies', 'RPG - Aliens', 'RPG - Alternate History', 'RPG - Assassin', 'RPG - Cyberpunk', 'RPG - Detective*', 'RPG - Dungeon', 'RPG - Fantasy', 'RPG - Fashion', 'RPG - Martial Arts', 'RPG - Medieval', 'RPG - Mystery*', 'RPG - Post Apocalyptic', 'RPG - School', 'RPG - ScienceFiction', 'RPG - Spy', 'RPG - Thief', 'RPG - Time Travel', 'RPG - Vampire', 'RPG - Werewolf', 'RPG - Wild West', 'Simulation - Airplane', 'Simulation - Business', 'Simulation - City', 'Simulation - Colonization', 'Simulation - Construction', 'Simulation - Cooking', 'Simulation - Dance', 'Simulation - Disasters', 'Simulation - Dungeon', 'Simulation - Dystopian', 'Simulation - Evolution', 'Simulation - Extreme Sports', 'Simulation - Farming', 'Simulation - Fashion', 'Simulation - Game Dev', 'Simulation - Government', 'Simulation - Hacking', 'Simulation - History', 'Simulation - Hospital', 'Simulation - Hunting', 'Simulation - Life', 'Simulation - Martial Arts', 'Simulation - Military', 'Simulation - Movies', 'Simulation - Music*', 'Simulation - Prison', 'Simulation - Racing*', 'Simulation - Rhythm*', 'Simulation - School', 'Simulation - ScienceFiction', 'Simulation - Space', 'Simulation - Sports*', 'Simulation - Surgery', 'Simulation - Technology', 'Simulation - Transport', 'Simulation - Virtual Pet', 'Simulation - Vocabulary', 'Strategy - Airplane', 'Strategy - Business', 'Strategy - City', 'Strategy - Colonization', 'Strategy - Disasters', 'Strategy - Dungeon', 'Strategy - Evolution', 'Strategy - Expedition', 'Strategy - Fantasy', 'Strategy - Government', 'Strategy - Hacking', 'Strategy - History', 'Strategy - Medieval', 'Strategy - Military', 'Strategy - School', 'Strategy - ScienceFiction', 'Strategy - Space', 'Strategy - Transport', 'Strategy - UFO', 'Strategy - Vocabulary']\n"
     ]
    }
   ],
   "source": [
    "topics = pd.read_csv('topics.csv')\n",
    "audience = pd.read_csv('audience.csv')\n",
    "systems_topics = pd.read_csv('systems_topics.csv')\n",
    "systems_audience = pd.read_csv('systems_audience.csv')\n",
    "\n",
    "topics = topics.iloc[:,1:]\n",
    "topics['Topic'] = topics['Topic'].replace(\"Sci-Fi\",\"ScienceFiction\")\n",
    "\n",
    "topics.iloc[0,0]\n",
    "topics_combinations = []\n",
    "\n",
    "for i in range(0,len(topics)):\n",
    "     for j in range(1,len(topics.columns)):\n",
    "         if(topics.iloc[i,j]==3):\n",
    "             topics_combinations.append(f\"{topics.columns[j]} - {topics.iloc[i,0]}\")\n",
    "\n",
    "topics_combinations.sort()\n",
    "print(topics_combinations)"
   ],
   "metadata": {
    "collapsed": false,
    "ExecuteTime": {
     "end_time": "2023-11-24T17:43:21.720907Z",
     "start_time": "2023-11-24T17:43:21.675100Z"
    }
   },
   "id": "a8061ae791a97be"
  },
  {
   "cell_type": "code",
   "execution_count": 6,
   "outputs": [
    {
     "data": {
      "text/plain": "                Topic  Y  E  M\n0            Abstract  1  2  3\n1            Airplane  3  3  2\n2              Aliens  2  3  3\n3   Alternate History -3  3  3\n4            Assassin -3  1  3\n..                ... .. .. ..\n61        Virtual Pet  3  1 -2\n62         Vocabulary  2  3 -3\n63           Werewolf -2  2  3\n64          Wild West  3  2  3\n65            Zombies  2  1  3\n\n[66 rows x 4 columns]",
      "text/html": "<div>\n<style scoped>\n    .dataframe tbody tr th:only-of-type {\n        vertical-align: middle;\n    }\n\n    .dataframe tbody tr th {\n        vertical-align: top;\n    }\n\n    .dataframe thead th {\n        text-align: right;\n    }\n</style>\n<table border=\"1\" class=\"dataframe\">\n  <thead>\n    <tr style=\"text-align: right;\">\n      <th></th>\n      <th>Topic</th>\n      <th>Y</th>\n      <th>E</th>\n      <th>M</th>\n    </tr>\n  </thead>\n  <tbody>\n    <tr>\n      <th>0</th>\n      <td>Abstract</td>\n      <td>1</td>\n      <td>2</td>\n      <td>3</td>\n    </tr>\n    <tr>\n      <th>1</th>\n      <td>Airplane</td>\n      <td>3</td>\n      <td>3</td>\n      <td>2</td>\n    </tr>\n    <tr>\n      <th>2</th>\n      <td>Aliens</td>\n      <td>2</td>\n      <td>3</td>\n      <td>3</td>\n    </tr>\n    <tr>\n      <th>3</th>\n      <td>Alternate History</td>\n      <td>-3</td>\n      <td>3</td>\n      <td>3</td>\n    </tr>\n    <tr>\n      <th>4</th>\n      <td>Assassin</td>\n      <td>-3</td>\n      <td>1</td>\n      <td>3</td>\n    </tr>\n    <tr>\n      <th>...</th>\n      <td>...</td>\n      <td>...</td>\n      <td>...</td>\n      <td>...</td>\n    </tr>\n    <tr>\n      <th>61</th>\n      <td>Virtual Pet</td>\n      <td>3</td>\n      <td>1</td>\n      <td>-2</td>\n    </tr>\n    <tr>\n      <th>62</th>\n      <td>Vocabulary</td>\n      <td>2</td>\n      <td>3</td>\n      <td>-3</td>\n    </tr>\n    <tr>\n      <th>63</th>\n      <td>Werewolf</td>\n      <td>-2</td>\n      <td>2</td>\n      <td>3</td>\n    </tr>\n    <tr>\n      <th>64</th>\n      <td>Wild West</td>\n      <td>3</td>\n      <td>2</td>\n      <td>3</td>\n    </tr>\n    <tr>\n      <th>65</th>\n      <td>Zombies</td>\n      <td>2</td>\n      <td>1</td>\n      <td>3</td>\n    </tr>\n  </tbody>\n</table>\n<p>66 rows × 4 columns</p>\n</div>"
     },
     "execution_count": 6,
     "metadata": {},
     "output_type": "execute_result"
    }
   ],
   "source": [
    "audience = audience.iloc[:,1:]\n",
    "audience"
   ],
   "metadata": {
    "collapsed": false,
    "ExecuteTime": {
     "end_time": "2023-11-24T17:43:38.092909Z",
     "start_time": "2023-11-24T17:43:38.011004Z"
    }
   },
   "id": "121511d170050a22"
  },
  {
   "cell_type": "code",
   "execution_count": 7,
   "outputs": [],
   "source": [
    "audience['Topic'] = audience['Topic'].replace(\"Sci-Fi\", \"ScienceFiction\")\n",
    "\n",
    "audience_combinations = []\n",
    "for i in range(0,len(audience)):\n",
    "     for j in range(1,len(audience.columns)):\n",
    "         if(audience.iloc[i,j]==3):\n",
    "             audience_combinations.append(f\"{audience.columns[j]} - {audience.iloc[i,0]}\")"
   ],
   "metadata": {
    "collapsed": false,
    "ExecuteTime": {
     "end_time": "2023-11-24T17:43:40.710729Z",
     "start_time": "2023-11-24T17:43:40.632750Z"
    }
   },
   "id": "93ea6741ad260cba"
  },
  {
   "cell_type": "code",
   "execution_count": 8,
   "outputs": [
    {
     "name": "stdout",
     "output_type": "stream",
     "text": [
      "['E - Airplane', 'E - Aliens', 'E - Alternate History', 'E - Business', 'E - City', 'E - Colonization', 'E - Construction', 'E - Cooking', 'E - Detective*', 'E - Dungeon', 'E - Evolution', 'E - Expedition', 'E - Fantasy', 'E - Farming', 'E - Game Dev', 'E - Government', 'E - History', 'E - Hospital', 'E - Hunting', 'E - Law*', 'E - Life', 'E - Medieval', 'E - Movies', 'E - Mythology', 'E - Pirate', 'E - Racing*', 'E - Romance', 'E - ScienceFiction', 'E - Space', 'E - Sports*', 'E - Superheroes', 'E - Surgery', 'E - Technology', 'E - Thief', 'E - Time Travel', 'E - Transport', 'E - UFO', 'E - Vampire', 'E - Vocabulary', 'M - Abstract', 'M - Aliens', 'M - Alternate History', 'M - Assassin', 'M - Comedy', 'M - Crime', 'M - Cyberpunk', 'M - Disasters', 'M - Dungeon', 'M - Dystopian', 'M - Extreme Sports', 'M - Fantasy', 'M - Hacking', 'M - Horror', 'M - Mad Science', 'M - Martial Arts', 'M - Military', 'M - Mystery*', 'M - Mythology', 'M - Post Apocalyptic', 'M - Prison', 'M - Romance', 'M - ScienceFiction', 'M - Space', 'M - Spy', 'M - Superheroes', 'M - Thief', 'M - Vampire', 'M - Werewolf', 'M - Wild West', 'M - Zombies', 'Y - Airplane', 'Y - Dance', 'Y - Extreme Sports', 'Y - Fantasy', 'Y - Fashion', 'Y - Life', 'Y - Medieval', 'Y - Music*', 'Y - Ninja', 'Y - Pirate', 'Y - Racing*', 'Y - Rhythm*', 'Y - School', 'Y - Sports*', 'Y - Superheroes', 'Y - Virtual Pet', 'Y - Wild West']\n"
     ]
    }
   ],
   "source": [
    "audience_combinations.sort()\n",
    "print(audience_combinations)"
   ],
   "metadata": {
    "collapsed": false,
    "ExecuteTime": {
     "end_time": "2023-11-24T17:43:42.942965Z",
     "start_time": "2023-11-24T17:43:42.923945Z"
    }
   },
   "id": "c54fa49074ee05b"
  },
  {
   "cell_type": "code",
   "execution_count": 9,
   "outputs": [],
   "source": [
    "topics_combinations = [x.replace(' ','') for x in topics_combinations]\n",
    "audience_combinations = [x.replace(' ','') for x in audience_combinations]\n",
    "# print(topics_combinations)\n",
    "# print(audience_combinations)"
   ],
   "metadata": {
    "collapsed": false,
    "ExecuteTime": {
     "end_time": "2023-11-24T17:43:44.603357Z",
     "start_time": "2023-11-24T17:43:44.581928Z"
    }
   },
   "id": "f10acce810397e90"
  },
  {
   "cell_type": "code",
   "execution_count": 10,
   "outputs": [
    {
     "name": "stdout",
     "output_type": "stream",
     "text": [
      "['Action-Airplane - E', 'Action-Aliens - E', 'Action-AlternateHistory - E', 'Action-Assassin - M', 'Action-Crime - M', 'Action-Cyberpunk - M', 'Action-Dungeon - E', 'Action-ExtremeSports - M', 'Action-Fantasy - E', 'Action-Horror - M', 'Action-Hunting - E', 'Action-MartialArts - M', 'Action-Medieval - E', 'Action-Military - M', 'Action-Music* - Y', 'Action-Mythology - E', 'Action-Ninja - Y', 'Action-PostApocalyptic - M', 'Action-Prison - M', 'Action-Rhythm* - Y', 'Action-ScienceFiction - E', 'Action-Space - E', 'Action-Sports* - E', 'Action-Spy - M', 'Action-Superheroes - E', 'Action-UFO - E', 'Action-Vampire - E', 'Action-Werewolf - M', 'Action-Zombies - M', 'Adventure-Abstract - M', 'Adventure-Comedy - M', 'Adventure-Detective* - E', 'Adventure-Fantasy - E', 'Adventure-Horror - M', 'Adventure-Law* - E', 'Adventure-Life - E', 'Adventure-MadScience - M', 'Adventure-Medieval - E', 'Adventure-Mystery* - M', 'Adventure-Pirate - E', 'Adventure-Prison - M', 'Adventure-Romance - E', 'Adventure-School - Y', 'Adventure-ScienceFiction - E', 'Adventure-Spy - M', 'Adventure-TimeTravel - E', 'Casual-Airplane - E', 'Casual-Comedy - M', 'Casual-Cooking - E', 'Casual-Dance - Y', 'Casual-Farming - E', 'Casual-Fashion - Y', 'Casual-MartialArts - M', 'Casual-Movies - E', 'Casual-Music* - Y', 'Casual-Racing* - E', 'Casual-Rhythm* - Y', 'Casual-Sports* - E', 'Casual-VirtualPet - Y', 'Casual-Vocabulary - E', 'Casual-Zombies - M', 'RPG-Aliens - E', 'RPG-AlternateHistory - E', 'RPG-Assassin - M', 'RPG-Cyberpunk - M', 'RPG-Detective* - E', 'RPG-Dungeon - E', 'RPG-Fantasy - E', 'RPG-Fashion - Y', 'RPG-MartialArts - M', 'RPG-Medieval - E', 'RPG-Mystery* - M', 'RPG-PostApocalyptic - M', 'RPG-School - Y', 'RPG-ScienceFiction - E', 'RPG-Spy - M', 'RPG-Thief - E', 'RPG-TimeTravel - E', 'RPG-Vampire - E', 'RPG-Werewolf - M', 'RPG-WildWest - M', 'Simulation-Airplane - E', 'Simulation-Business - E', 'Simulation-City - E', 'Simulation-Colonization - E', 'Simulation-Construction - E', 'Simulation-Cooking - E', 'Simulation-Dance - Y', 'Simulation-Disasters - M', 'Simulation-Dungeon - E', 'Simulation-Dystopian - M', 'Simulation-Evolution - E', 'Simulation-ExtremeSports - M', 'Simulation-Farming - E', 'Simulation-Fashion - Y', 'Simulation-GameDev - E', 'Simulation-Government - E', 'Simulation-Hacking - M', 'Simulation-History - E', 'Simulation-Hospital - E', 'Simulation-Hunting - E', 'Simulation-Life - E', 'Simulation-MartialArts - M', 'Simulation-Military - M', 'Simulation-Movies - E', 'Simulation-Music* - Y', 'Simulation-Prison - M', 'Simulation-Racing* - E', 'Simulation-Rhythm* - Y', 'Simulation-School - Y', 'Simulation-ScienceFiction - E', 'Simulation-Space - E', 'Simulation-Sports* - E', 'Simulation-Surgery - E', 'Simulation-Technology - E', 'Simulation-Transport - E', 'Simulation-VirtualPet - Y', 'Simulation-Vocabulary - E', 'Strategy-Airplane - E', 'Strategy-Business - E', 'Strategy-City - E', 'Strategy-Colonization - E', 'Strategy-Disasters - M', 'Strategy-Dungeon - E', 'Strategy-Evolution - E', 'Strategy-Expedition - E', 'Strategy-Fantasy - E', 'Strategy-Government - E', 'Strategy-Hacking - M', 'Strategy-History - E', 'Strategy-Medieval - E', 'Strategy-Military - M', 'Strategy-School - Y', 'Strategy-ScienceFiction - E', 'Strategy-Space - E', 'Strategy-Transport - E', 'Strategy-UFO - E', 'Strategy-Vocabulary - E']\n"
     ]
    }
   ],
   "source": [
    "topics_comb_copy = topics_combinations.copy()\n",
    "for i in range(len(topics_comb_copy)):\n",
    "    for j in range(len(audience_combinations)):\n",
    "        topics_words = topics_comb_copy[i].split('-')\n",
    "        audience_words = audience_combinations[j].split('-')\n",
    "        # print(topics_words)\n",
    "        # print(audience_words)\n",
    "        if audience_words[-1] == topics_words[-1]:\n",
    "            # print(\"Entered IF:\")\n",
    "            # print(type(topics_comb_copy[i]))\n",
    "            topics_comb_copy[i] = \" \".join([topics_comb_copy[i],f\"- {audience_words[0]}\"]) \n",
    "            # print(f\"topics_comb_copy[i] = {topics_comb_copy[i]}\\n\"\n",
    "            #       f\"audience_words[0] = {audience_words[0]}\")\n",
    "print(topics_comb_copy)"
   ],
   "metadata": {
    "collapsed": false,
    "ExecuteTime": {
     "end_time": "2023-11-24T17:43:46.589937Z",
     "start_time": "2023-11-24T17:43:46.579187Z"
    }
   },
   "id": "d57dd30e3e76f228"
  },
  {
   "cell_type": "code",
   "execution_count": 11,
   "outputs": [],
   "source": [
    "final_combination = topics_comb_copy"
   ],
   "metadata": {
    "collapsed": false,
    "ExecuteTime": {
     "end_time": "2023-11-24T17:43:55.839717Z",
     "start_time": "2023-11-24T17:43:55.825140Z"
    }
   },
   "id": "bd923ba1b4270667"
  },
  {
   "cell_type": "code",
   "execution_count": 12,
   "outputs": [
    {
     "name": "stdout",
     "output_type": "stream",
     "text": [
      "          System  Y  E  M\n",
      "0             PC  1  2  3\n",
      "1            G64  1  2  3\n",
      "2            TES  3  2 -3\n",
      "3       Master V  2  3 -2\n",
      "4       Gameling  3  2 -3\n",
      "5      Vena Gear  2  3  1\n",
      "6     Vena Oasis  1  3  2\n",
      "7      Super TES  3  2 -2\n",
      "8     Playsystem  1  3  2\n",
      "9         TES 64  3  2  2\n",
      "10     DreamVast -2  3  3\n",
      "11  Playsystem 2  2  3  1\n",
      "12          mBox  1  3  2\n",
      "13   Game Sphere  2  2  1\n",
      "14            GS  3  2  1\n",
      "15           PPS  1  2  3\n",
      "16      mBox 360  1  2  3\n",
      "17           Nuu  3  3 -2\n",
      "18  Playsystem 3  1  3  2\n",
      "19       grPhone  2  3 -3\n",
      "20         grPad  2  3 -3\n",
      "21          mPad -2  2  1\n",
      "22           Wuu  2  3 -2\n",
      "23           OYA  1  3  2\n",
      "24      mBox One -2  3  1\n",
      "25  Playsystem 4  1  3  2\n",
      "26     mBox Next  2  3  1\n",
      "27  Playsystem 5  1  3  2\n"
     ]
    }
   ],
   "source": [
    "# topics.iloc[0,0]\n",
    "# topics_combinations = []\n",
    "# \n",
    "# for i in range(0,len(topics)):\n",
    "#      for j in range(1,len(topics.columns)):\n",
    "#          if(topics.iloc[i,j]==3):\n",
    "#              topics_combinations.append(f\"{topics.columns[j]} - {topics.iloc[i,0]}\")\n",
    "# \n",
    "# topics_combinations.sort()\n",
    "# print(topics_combinations)\n",
    "\n",
    "systems_audience = systems_audience.drop(systems_audience.columns[0],axis=1)\n",
    "print(systems_audience)"
   ],
   "metadata": {
    "collapsed": false,
    "ExecuteTime": {
     "end_time": "2023-11-24T17:44:01.085032Z",
     "start_time": "2023-11-24T17:44:00.951425Z"
    }
   },
   "id": "6a98de8194222128"
  },
  {
   "cell_type": "code",
   "execution_count": 13,
   "outputs": [
    {
     "name": "stdout",
     "output_type": "stream",
     "text": [
      "['E - DreamVast', 'E - Master V', 'E - Nuu', 'E - OYA', 'E - Playsystem', 'E - Playsystem 2', 'E - Playsystem 3', 'E - Playsystem 4', 'E - Playsystem 5', 'E - Vena Gear', 'E - Vena Oasis', 'E - Wuu', 'E - grPad', 'E - grPhone', 'E - mBox', 'E - mBox Next', 'E - mBox One', 'M - DreamVast', 'M - G64', 'M - PC', 'M - PPS', 'M - mBox 360', 'Y - GS', 'Y - Gameling', 'Y - Nuu', 'Y - Super TES', 'Y - TES', 'Y - TES 64']\n"
     ]
    }
   ],
   "source": [
    "sys_audience_comb = []\n",
    "\n",
    "for i in range(0,len(systems_audience)):\n",
    "     for j in range(1,len(systems_audience.columns)):\n",
    "         if(systems_audience.iloc[i,j]==3):\n",
    "             sys_audience_comb.append(f\"{systems_audience.columns[j]} - {systems_audience.iloc[i,0]}\")\n",
    "             \n",
    "sys_audience_comb.sort()\n",
    "print(sys_audience_comb)"
   ],
   "metadata": {
    "collapsed": false,
    "ExecuteTime": {
     "end_time": "2023-11-24T17:44:09.634296Z",
     "start_time": "2023-11-24T17:44:09.607786Z"
    }
   },
   "id": "27cf646ac2d3f9b6"
  },
  {
   "cell_type": "code",
   "execution_count": 14,
   "outputs": [
    {
     "name": "stdout",
     "output_type": "stream",
     "text": [
      "['Action-Airplane-E-DreamVast', 'Action-Aliens-E-DreamVast', 'Action-AlternateHistory-E-DreamVast', 'Action-Assassin-M-DreamVast', 'Action-Crime-M-DreamVast', 'Action-Cyberpunk-M-DreamVast', 'Action-Dungeon-E-DreamVast', 'Action-ExtremeSports-M-DreamVast', 'Action-Fantasy-E-DreamVast', 'Action-Horror-M-DreamVast', 'Action-Hunting-E-DreamVast', 'Action-MartialArts-M-DreamVast', 'Action-Medieval-E-DreamVast', 'Action-Military-M-DreamVast', 'Action-Music*-Y-GS', 'Action-Mythology-E-DreamVast', 'Action-Ninja-Y-GS', 'Action-PostApocalyptic-M-DreamVast', 'Action-Prison-M-DreamVast', 'Action-Rhythm*-Y-GS', 'Action-ScienceFiction-E-DreamVast', 'Action-Space-E-DreamVast', 'Action-Sports*-E-DreamVast', 'Action-Spy-M-DreamVast', 'Action-Superheroes-E-DreamVast', 'Action-UFO-E-DreamVast', 'Action-Vampire-E-DreamVast', 'Action-Werewolf-M-DreamVast', 'Action-Zombies-M-DreamVast', 'Adventure-Abstract-M-DreamVast', 'Adventure-Comedy-M-DreamVast', 'Adventure-Detective*-E-DreamVast', 'Adventure-Fantasy-E-DreamVast', 'Adventure-Horror-M-DreamVast', 'Adventure-Law*-E-DreamVast', 'Adventure-Life-E-DreamVast', 'Adventure-MadScience-M-DreamVast', 'Adventure-Medieval-E-DreamVast', 'Adventure-Mystery*-M-DreamVast', 'Adventure-Pirate-E-DreamVast', 'Adventure-Prison-M-DreamVast', 'Adventure-Romance-E-DreamVast', 'Adventure-School-Y-GS', 'Adventure-ScienceFiction-E-DreamVast', 'Adventure-Spy-M-DreamVast', 'Adventure-TimeTravel-E-DreamVast', 'Casual-Airplane-E-DreamVast', 'Casual-Comedy-M-DreamVast', 'Casual-Cooking-E-DreamVast', 'Casual-Dance-Y-GS', 'Casual-Farming-E-DreamVast', 'Casual-Fashion-Y-GS', 'Casual-MartialArts-M-DreamVast', 'Casual-Movies-E-DreamVast', 'Casual-Music*-Y-GS', 'Casual-Racing*-E-DreamVast', 'Casual-Rhythm*-Y-GS', 'Casual-Sports*-E-DreamVast', 'Casual-VirtualPet-Y-GS', 'Casual-Vocabulary-E-DreamVast', 'Casual-Zombies-M-DreamVast', 'RPG-Aliens-E-DreamVast', 'RPG-AlternateHistory-E-DreamVast', 'RPG-Assassin-M-DreamVast', 'RPG-Cyberpunk-M-DreamVast', 'RPG-Detective*-E-DreamVast', 'RPG-Dungeon-E-DreamVast', 'RPG-Fantasy-E-DreamVast', 'RPG-Fashion-Y-GS', 'RPG-MartialArts-M-DreamVast', 'RPG-Medieval-E-DreamVast', 'RPG-Mystery*-M-DreamVast', 'RPG-PostApocalyptic-M-DreamVast', 'RPG-School-Y-GS', 'RPG-ScienceFiction-E-DreamVast', 'RPG-Spy-M-DreamVast', 'RPG-Thief-E-DreamVast', 'RPG-TimeTravel-E-DreamVast', 'RPG-Vampire-E-DreamVast', 'RPG-Werewolf-M-DreamVast', 'RPG-WildWest-M-DreamVast', 'Simulation-Airplane-E-DreamVast', 'Simulation-Business-E-DreamVast', 'Simulation-City-E-DreamVast', 'Simulation-Colonization-E-DreamVast', 'Simulation-Construction-E-DreamVast', 'Simulation-Cooking-E-DreamVast', 'Simulation-Dance-Y-GS', 'Simulation-Disasters-M-DreamVast', 'Simulation-Dungeon-E-DreamVast', 'Simulation-Dystopian-M-DreamVast', 'Simulation-Evolution-E-DreamVast', 'Simulation-ExtremeSports-M-DreamVast', 'Simulation-Farming-E-DreamVast', 'Simulation-Fashion-Y-GS', 'Simulation-GameDev-E-DreamVast', 'Simulation-Government-E-DreamVast', 'Simulation-Hacking-M-DreamVast', 'Simulation-History-E-DreamVast', 'Simulation-Hospital-E-DreamVast', 'Simulation-Hunting-E-DreamVast', 'Simulation-Life-E-DreamVast', 'Simulation-MartialArts-M-DreamVast', 'Simulation-Military-M-DreamVast', 'Simulation-Movies-E-DreamVast', 'Simulation-Music*-Y-GS', 'Simulation-Prison-M-DreamVast', 'Simulation-Racing*-E-DreamVast', 'Simulation-Rhythm*-Y-GS', 'Simulation-School-Y-GS', 'Simulation-ScienceFiction-E-DreamVast', 'Simulation-Space-E-DreamVast', 'Simulation-Sports*-E-DreamVast', 'Simulation-Surgery-E-DreamVast', 'Simulation-Technology-E-DreamVast', 'Simulation-Transport-E-DreamVast', 'Simulation-VirtualPet-Y-GS', 'Simulation-Vocabulary-E-DreamVast', 'Strategy-Airplane-E-DreamVast', 'Strategy-Business-E-DreamVast', 'Strategy-City-E-DreamVast', 'Strategy-Colonization-E-DreamVast', 'Strategy-Disasters-M-DreamVast', 'Strategy-Dungeon-E-DreamVast', 'Strategy-Evolution-E-DreamVast', 'Strategy-Expedition-E-DreamVast', 'Strategy-Fantasy-E-DreamVast', 'Strategy-Government-E-DreamVast', 'Strategy-Hacking-M-DreamVast', 'Strategy-History-E-DreamVast', 'Strategy-Medieval-E-DreamVast', 'Strategy-Military-M-DreamVast', 'Strategy-School-Y-GS', 'Strategy-ScienceFiction-E-DreamVast', 'Strategy-Space-E-DreamVast', 'Strategy-Transport-E-DreamVast', 'Strategy-UFO-E-DreamVast', 'Strategy-Vocabulary-E-DreamVast']\n"
     ]
    }
   ],
   "source": [
    "# for i in range(len(topics_comb_copy)):\n",
    "#     for j in range(len(audience_combinations)):\n",
    "#         topics_words = topics_comb_copy[i].split('-')\n",
    "#         audience_words = audience_combinations[j].split('-')\n",
    "#         # print(topics_words)\n",
    "#         # print(audience_words)\n",
    "#         if audience_words[-1] == topics_words[-1]:\n",
    "#             # print(\"Entered IF:\")\n",
    "#             # print(type(topics_comb_copy[i]))\n",
    "#             topics_comb_copy[i] = \" \".join([topics_comb_copy[i],f\"- {audience_words[0]}\"]) \n",
    "#             # print(f\"topics_comb_copy[i] = {topics_comb_copy[i]}\\n\"\n",
    "#             #       f\"audience_words[0] = {audience_words[0]}\")\n",
    "final_combination = [x.replace(\" \",\"\") for x in final_combination]\n",
    "sys_audience_comb = [x.replace(\" \",\"\") for x in sys_audience_comb]\n",
    "\n",
    "for i in range(len(final_combination)):\n",
    "    for j in range(len(sys_audience_comb)):\n",
    "        final_comb_words = final_combination[i].split('-')\n",
    "        sys_audience_words = sys_audience_comb[j].split('-')\n",
    "        if final_comb_words[-1] == sys_audience_words[0]:\n",
    "            final_combination[i] = \"\".join([final_combination[i],f\"-{sys_audience_words[1]}\"])\n",
    "            \n",
    "print(final_combination)"
   ],
   "metadata": {
    "collapsed": false,
    "ExecuteTime": {
     "end_time": "2023-11-24T17:44:17.811867Z",
     "start_time": "2023-11-24T17:44:17.744837Z"
    }
   },
   "id": "604f473e301c79fc"
  },
  {
   "cell_type": "code",
   "execution_count": 18,
   "outputs": [
    {
     "name": "stdout",
     "output_type": "stream",
     "text": [
      "        Genre             Topic Audience     System\n",
      "0      Action          Airplane        E  DreamVast\n",
      "1      Action            Aliens        E  DreamVast\n",
      "2      Action  AlternateHistory        E  DreamVast\n",
      "3      Action          Assassin        M  DreamVast\n",
      "4      Action             Crime        M  DreamVast\n",
      "..        ...               ...      ...        ...\n",
      "133  Strategy    ScienceFiction        E  DreamVast\n",
      "134  Strategy             Space        E  DreamVast\n",
      "135  Strategy         Transport        E  DreamVast\n",
      "136  Strategy               UFO        E  DreamVast\n",
      "137  Strategy        Vocabulary        E  DreamVast\n",
      "\n",
      "[138 rows x 4 columns]\n"
     ]
    }
   ],
   "source": [
    "df = pd.DataFrame(columns=['Genre','Topic','Audience','System'])\n",
    "\n",
    "data = [part.split(\"-\") for part in final_combination]\n",
    "new_df = pd.DataFrame(data,columns=df.columns)\n",
    "\n",
    "df = pd.concat([df,new_df], ignore_index=True)\n",
    "print(df)\n",
    "\n",
    "df.to_csv('Final_Combinations.csv')"
   ],
   "metadata": {
    "collapsed": false,
    "ExecuteTime": {
     "end_time": "2023-11-24T17:58:06.860354Z",
     "start_time": "2023-11-24T17:58:06.844716Z"
    }
   },
   "id": "7b918fbfe71cef19"
  },
  {
   "cell_type": "code",
   "execution_count": null,
   "outputs": [],
   "source": [],
   "metadata": {
    "collapsed": false
   },
   "id": "253ded94efcc5bba"
  }
 ],
 "metadata": {
  "kernelspec": {
   "display_name": "Python 3",
   "language": "python",
   "name": "python3"
  },
  "language_info": {
   "codemirror_mode": {
    "name": "ipython",
    "version": 2
   },
   "file_extension": ".py",
   "mimetype": "text/x-python",
   "name": "python",
   "nbconvert_exporter": "python",
   "pygments_lexer": "ipython2",
   "version": "2.7.6"
  }
 },
 "nbformat": 4,
 "nbformat_minor": 5
}
