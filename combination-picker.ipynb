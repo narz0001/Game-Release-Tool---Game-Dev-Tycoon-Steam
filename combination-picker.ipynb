{
 "cells": [
  {
   "cell_type": "markdown",
   "source": [
    "## Extracting Tables from Wikia Site"
   ],
   "metadata": {
    "collapsed": false
   },
   "id": "ed0583c66a9b83db"
  },
  {
   "cell_type": "code",
   "execution_count": 1,
   "outputs": [],
   "source": [
    "import pandas as pd\n",
    "url = \"https://gamedevtycoon.fandom.com/wiki/Game_Development_Based_on_Experience/1.4.3#Multi-Genre_combinations\""
   ],
   "metadata": {
    "collapsed": false,
    "ExecuteTime": {
     "end_time": "2023-11-24T23:46:40.337622Z",
     "start_time": "2023-11-24T23:46:40.113340Z"
    }
   },
   "id": "4ed816d2f94d8555"
  },
  {
   "cell_type": "code",
   "execution_count": 2,
   "outputs": [],
   "source": [
    "list_of_dfs = pd.read_html(url)"
   ],
   "metadata": {
    "collapsed": false,
    "ExecuteTime": {
     "end_time": "2023-11-23T16:54:09.096401Z",
     "start_time": "2023-11-23T16:54:08.348685Z"
    }
   },
   "id": "97cf350ab6813f65"
  },
  {
   "cell_type": "code",
   "execution_count": 3,
   "outputs": [
    {
     "data": {
      "text/plain": "         0       1          2       3           4         5       6   7   \\\n0     Topic  Genres     Genres  Genres      Genres    Genres  Genres NaN   \n1     Topic  Action  Adventure     RPG  Simulation  Strategy  Casual NaN   \n2  Abstract      ++        +++     −−−         −−−         +     −−− NaN   \n3  Airplane     +++        −−−       +         +++       +++     +++ NaN   \n4    Aliens     +++          +     +++         −−−        ++      −− NaN   \n\n          8          9          10  \n0  Audiences  Audiences  Audiences  \n1          Y          E          M  \n2          +         ++        +++  \n3        +++        +++         ++  \n4         ++        +++        +++  ",
      "text/html": "<div>\n<style scoped>\n    .dataframe tbody tr th:only-of-type {\n        vertical-align: middle;\n    }\n\n    .dataframe tbody tr th {\n        vertical-align: top;\n    }\n\n    .dataframe thead th {\n        text-align: right;\n    }\n</style>\n<table border=\"1\" class=\"dataframe\">\n  <thead>\n    <tr style=\"text-align: right;\">\n      <th></th>\n      <th>0</th>\n      <th>1</th>\n      <th>2</th>\n      <th>3</th>\n      <th>4</th>\n      <th>5</th>\n      <th>6</th>\n      <th>7</th>\n      <th>8</th>\n      <th>9</th>\n      <th>10</th>\n    </tr>\n  </thead>\n  <tbody>\n    <tr>\n      <th>0</th>\n      <td>Topic</td>\n      <td>Genres</td>\n      <td>Genres</td>\n      <td>Genres</td>\n      <td>Genres</td>\n      <td>Genres</td>\n      <td>Genres</td>\n      <td>NaN</td>\n      <td>Audiences</td>\n      <td>Audiences</td>\n      <td>Audiences</td>\n    </tr>\n    <tr>\n      <th>1</th>\n      <td>Topic</td>\n      <td>Action</td>\n      <td>Adventure</td>\n      <td>RPG</td>\n      <td>Simulation</td>\n      <td>Strategy</td>\n      <td>Casual</td>\n      <td>NaN</td>\n      <td>Y</td>\n      <td>E</td>\n      <td>M</td>\n    </tr>\n    <tr>\n      <th>2</th>\n      <td>Abstract</td>\n      <td>++</td>\n      <td>+++</td>\n      <td>−−−</td>\n      <td>−−−</td>\n      <td>+</td>\n      <td>−−−</td>\n      <td>NaN</td>\n      <td>+</td>\n      <td>++</td>\n      <td>+++</td>\n    </tr>\n    <tr>\n      <th>3</th>\n      <td>Airplane</td>\n      <td>+++</td>\n      <td>−−−</td>\n      <td>+</td>\n      <td>+++</td>\n      <td>+++</td>\n      <td>+++</td>\n      <td>NaN</td>\n      <td>+++</td>\n      <td>+++</td>\n      <td>++</td>\n    </tr>\n    <tr>\n      <th>4</th>\n      <td>Aliens</td>\n      <td>+++</td>\n      <td>+</td>\n      <td>+++</td>\n      <td>−−−</td>\n      <td>++</td>\n      <td>−−</td>\n      <td>NaN</td>\n      <td>++</td>\n      <td>+++</td>\n      <td>+++</td>\n    </tr>\n  </tbody>\n</table>\n</div>"
     },
     "execution_count": 3,
     "metadata": {},
     "output_type": "execute_result"
    }
   ],
   "source": [
    "df = list_of_dfs[2]\n",
    "df.head()"
   ],
   "metadata": {
    "collapsed": false,
    "ExecuteTime": {
     "end_time": "2023-11-23T16:54:09.912656Z",
     "start_time": "2023-11-23T16:54:09.885286Z"
    }
   },
   "id": "2626b281b9db1420"
  },
  {
   "cell_type": "code",
   "execution_count": 4,
   "outputs": [],
   "source": [
    "topics = df.iloc[1:-2,0:7]"
   ],
   "metadata": {
    "collapsed": false,
    "ExecuteTime": {
     "end_time": "2023-11-23T16:54:12.303226Z",
     "start_time": "2023-11-23T16:54:12.279919Z"
    }
   },
   "id": "3bceef238db86328"
  },
  {
   "cell_type": "code",
   "execution_count": 5,
   "outputs": [],
   "source": [
    "def convert_to_numerical(value):\n",
    "    plus_count = value.count('+')\n",
    "    minus_count = value.count('−')\n",
    "    tilde_count = value.count('~')\n",
    "    \n",
    "    if tilde_count == 1:\n",
    "        return 0\n",
    "    \n",
    "    if plus_count > minus_count:\n",
    "        return plus_count\n",
    "    elif plus_count < minus_count:\n",
    "        return -minus_count\n",
    "    else:\n",
    "        return value\n",
    "\n",
    "topics = topics.applymap(convert_to_numerical)"
   ],
   "metadata": {
    "collapsed": false,
    "ExecuteTime": {
     "end_time": "2023-11-23T16:54:14.357791Z",
     "start_time": "2023-11-23T16:54:14.350396Z"
    }
   },
   "id": "cbe1c84eb91e6a01"
  },
  {
   "cell_type": "code",
   "execution_count": 6,
   "outputs": [
    {
     "data": {
      "text/plain": "                    0       1          2    3           4         5       6\n1               Topic  Action  Adventure  RPG  Simulation  Strategy  Casual\n2            Abstract       2          3   -3          -3         1      -3\n3            Airplane       3         -3    1           3         3       3\n4              Aliens       3          1    3          -3         2      -2\n5   Alternate History       3          1    3           1         2      -3\n..                ...     ...        ...  ...         ...       ...     ...\n64        Virtual Pet      -3          1    2           3         2       3\n65         Vocabulary      -3         -3   -3           3         3       3\n66           Werewolf       3          1    3          -3        -3      -2\n67          Wild West       2         -2    3          -3        -3      -2\n68            Zombies       3         -2   -3          -3         2       3\n\n[68 rows x 7 columns]",
      "text/html": "<div>\n<style scoped>\n    .dataframe tbody tr th:only-of-type {\n        vertical-align: middle;\n    }\n\n    .dataframe tbody tr th {\n        vertical-align: top;\n    }\n\n    .dataframe thead th {\n        text-align: right;\n    }\n</style>\n<table border=\"1\" class=\"dataframe\">\n  <thead>\n    <tr style=\"text-align: right;\">\n      <th></th>\n      <th>0</th>\n      <th>1</th>\n      <th>2</th>\n      <th>3</th>\n      <th>4</th>\n      <th>5</th>\n      <th>6</th>\n    </tr>\n  </thead>\n  <tbody>\n    <tr>\n      <th>1</th>\n      <td>Topic</td>\n      <td>Action</td>\n      <td>Adventure</td>\n      <td>RPG</td>\n      <td>Simulation</td>\n      <td>Strategy</td>\n      <td>Casual</td>\n    </tr>\n    <tr>\n      <th>2</th>\n      <td>Abstract</td>\n      <td>2</td>\n      <td>3</td>\n      <td>-3</td>\n      <td>-3</td>\n      <td>1</td>\n      <td>-3</td>\n    </tr>\n    <tr>\n      <th>3</th>\n      <td>Airplane</td>\n      <td>3</td>\n      <td>-3</td>\n      <td>1</td>\n      <td>3</td>\n      <td>3</td>\n      <td>3</td>\n    </tr>\n    <tr>\n      <th>4</th>\n      <td>Aliens</td>\n      <td>3</td>\n      <td>1</td>\n      <td>3</td>\n      <td>-3</td>\n      <td>2</td>\n      <td>-2</td>\n    </tr>\n    <tr>\n      <th>5</th>\n      <td>Alternate History</td>\n      <td>3</td>\n      <td>1</td>\n      <td>3</td>\n      <td>1</td>\n      <td>2</td>\n      <td>-3</td>\n    </tr>\n    <tr>\n      <th>...</th>\n      <td>...</td>\n      <td>...</td>\n      <td>...</td>\n      <td>...</td>\n      <td>...</td>\n      <td>...</td>\n      <td>...</td>\n    </tr>\n    <tr>\n      <th>64</th>\n      <td>Virtual Pet</td>\n      <td>-3</td>\n      <td>1</td>\n      <td>2</td>\n      <td>3</td>\n      <td>2</td>\n      <td>3</td>\n    </tr>\n    <tr>\n      <th>65</th>\n      <td>Vocabulary</td>\n      <td>-3</td>\n      <td>-3</td>\n      <td>-3</td>\n      <td>3</td>\n      <td>3</td>\n      <td>3</td>\n    </tr>\n    <tr>\n      <th>66</th>\n      <td>Werewolf</td>\n      <td>3</td>\n      <td>1</td>\n      <td>3</td>\n      <td>-3</td>\n      <td>-3</td>\n      <td>-2</td>\n    </tr>\n    <tr>\n      <th>67</th>\n      <td>Wild West</td>\n      <td>2</td>\n      <td>-2</td>\n      <td>3</td>\n      <td>-3</td>\n      <td>-3</td>\n      <td>-2</td>\n    </tr>\n    <tr>\n      <th>68</th>\n      <td>Zombies</td>\n      <td>3</td>\n      <td>-2</td>\n      <td>-3</td>\n      <td>-3</td>\n      <td>2</td>\n      <td>3</td>\n    </tr>\n  </tbody>\n</table>\n<p>68 rows × 7 columns</p>\n</div>"
     },
     "execution_count": 6,
     "metadata": {},
     "output_type": "execute_result"
    }
   ],
   "source": [
    "topics"
   ],
   "metadata": {
    "collapsed": false,
    "ExecuteTime": {
     "end_time": "2023-11-23T16:54:16.478958Z",
     "start_time": "2023-11-23T16:54:16.462964Z"
    }
   },
   "id": "39aad4d415f7a14a"
  },
  {
   "cell_type": "code",
   "execution_count": 7,
   "outputs": [],
   "source": [
    "audience = df.iloc[1:-2,-3:]\n",
    "audience_first_col = df.iloc[1:,0]\n",
    "audience.insert(0,\"Topics\",audience_first_col)"
   ],
   "metadata": {
    "collapsed": false,
    "ExecuteTime": {
     "end_time": "2023-11-23T16:54:26.169401Z",
     "start_time": "2023-11-23T16:54:26.102968Z"
    }
   },
   "id": "7fb437643e5034c6"
  },
  {
   "cell_type": "code",
   "execution_count": 8,
   "outputs": [
    {
     "data": {
      "text/plain": "               Topics   8  9  10\n1               Topic   Y  E   M\n2            Abstract   1  2   3\n3            Airplane   3  3   2\n4              Aliens   2  3   3\n5   Alternate History  -3  3   3\n..                ...  .. ..  ..\n64        Virtual Pet   3  1  -2\n65         Vocabulary   2  3  -3\n66           Werewolf  -2  2   3\n67          Wild West   3  2   3\n68            Zombies   2  1   3\n\n[68 rows x 4 columns]",
      "text/html": "<div>\n<style scoped>\n    .dataframe tbody tr th:only-of-type {\n        vertical-align: middle;\n    }\n\n    .dataframe tbody tr th {\n        vertical-align: top;\n    }\n\n    .dataframe thead th {\n        text-align: right;\n    }\n</style>\n<table border=\"1\" class=\"dataframe\">\n  <thead>\n    <tr style=\"text-align: right;\">\n      <th></th>\n      <th>Topics</th>\n      <th>8</th>\n      <th>9</th>\n      <th>10</th>\n    </tr>\n  </thead>\n  <tbody>\n    <tr>\n      <th>1</th>\n      <td>Topic</td>\n      <td>Y</td>\n      <td>E</td>\n      <td>M</td>\n    </tr>\n    <tr>\n      <th>2</th>\n      <td>Abstract</td>\n      <td>1</td>\n      <td>2</td>\n      <td>3</td>\n    </tr>\n    <tr>\n      <th>3</th>\n      <td>Airplane</td>\n      <td>3</td>\n      <td>3</td>\n      <td>2</td>\n    </tr>\n    <tr>\n      <th>4</th>\n      <td>Aliens</td>\n      <td>2</td>\n      <td>3</td>\n      <td>3</td>\n    </tr>\n    <tr>\n      <th>5</th>\n      <td>Alternate History</td>\n      <td>-3</td>\n      <td>3</td>\n      <td>3</td>\n    </tr>\n    <tr>\n      <th>...</th>\n      <td>...</td>\n      <td>...</td>\n      <td>...</td>\n      <td>...</td>\n    </tr>\n    <tr>\n      <th>64</th>\n      <td>Virtual Pet</td>\n      <td>3</td>\n      <td>1</td>\n      <td>-2</td>\n    </tr>\n    <tr>\n      <th>65</th>\n      <td>Vocabulary</td>\n      <td>2</td>\n      <td>3</td>\n      <td>-3</td>\n    </tr>\n    <tr>\n      <th>66</th>\n      <td>Werewolf</td>\n      <td>-2</td>\n      <td>2</td>\n      <td>3</td>\n    </tr>\n    <tr>\n      <th>67</th>\n      <td>Wild West</td>\n      <td>3</td>\n      <td>2</td>\n      <td>3</td>\n    </tr>\n    <tr>\n      <th>68</th>\n      <td>Zombies</td>\n      <td>2</td>\n      <td>1</td>\n      <td>3</td>\n    </tr>\n  </tbody>\n</table>\n<p>68 rows × 4 columns</p>\n</div>"
     },
     "execution_count": 8,
     "metadata": {},
     "output_type": "execute_result"
    }
   ],
   "source": [
    "audience = audience.applymap(convert_to_numerical)\n",
    "audience"
   ],
   "metadata": {
    "collapsed": false,
    "ExecuteTime": {
     "end_time": "2023-11-23T16:54:27.275366Z",
     "start_time": "2023-11-23T16:54:27.255927Z"
    }
   },
   "id": "fc09949fb06faddc"
  },
  {
   "cell_type": "code",
   "execution_count": 9,
   "outputs": [],
   "source": [
    "system_table = list_of_dfs[3]"
   ],
   "metadata": {
    "collapsed": false,
    "ExecuteTime": {
     "end_time": "2023-11-23T16:54:39.285497Z",
     "start_time": "2023-11-23T16:54:39.125457Z"
    }
   },
   "id": "19ec9ed3489df6e4"
  },
  {
   "cell_type": "code",
   "execution_count": 10,
   "outputs": [
    {
     "data": {
      "text/plain": "               0       1          2    3           4         5       6\n1         System  Action  Adventure  RPG  Simulation  Strategy  Casual\n2             PC       2          3    2           3         3      -3\n3            G64       2          3    2           2         3      -2\n4            TES       1         -2    1           1        -2       3\n5       Master V       2         -2    1           1        -2       3\n6       Gameling       1         -2    2           2        -3       3\n7      Vena Gear       2          1    1           2        -3       3\n8     Vena Oasis       3          1    1           2        -3      -2\n9      Super TES       2          2    2           3        -2       2\n10    Playsystem       3          1    3           2        -2      -3\n11        TES 64       2          1   -2           1        -2       2\n12     DreamVast       3         -2    1           3        -2      -2\n13  Playsystem 2       3          1    3           2        -2       2\n14          mBox       3          1    2           2        -2      -2\n15   Game Sphere       1          1   -2           1        -2       3\n16            GS       2          2    3           2         2       3\n17           PPS       3         -2    3           1         1       1\n18      mBox 360       3          2    3           2        -2       2\n19           Nuu       1         -3   -2           3        -2       3\n20  Playsystem 3       3          2    2           3        -2       1\n21       grPhone       1          1   -2           2        -2       3\n22         grPad       1          2   -2           2         2       3\n23          mPad      -2          2    1           2        -2       2\n24           Wuu       2         -2    1           3        -2       3\n25           OYA       2         -2    1           2         1       3\n26      mBox One       3          1    2           2        -2       2\n27  Playsystem 4       3          1    3           2        -2       2\n28     mBox Next       2          2    2           1        -2       3\n29  Playsystem 5       3         -2    2           3        -2       2",
      "text/html": "<div>\n<style scoped>\n    .dataframe tbody tr th:only-of-type {\n        vertical-align: middle;\n    }\n\n    .dataframe tbody tr th {\n        vertical-align: top;\n    }\n\n    .dataframe thead th {\n        text-align: right;\n    }\n</style>\n<table border=\"1\" class=\"dataframe\">\n  <thead>\n    <tr style=\"text-align: right;\">\n      <th></th>\n      <th>0</th>\n      <th>1</th>\n      <th>2</th>\n      <th>3</th>\n      <th>4</th>\n      <th>5</th>\n      <th>6</th>\n    </tr>\n  </thead>\n  <tbody>\n    <tr>\n      <th>1</th>\n      <td>System</td>\n      <td>Action</td>\n      <td>Adventure</td>\n      <td>RPG</td>\n      <td>Simulation</td>\n      <td>Strategy</td>\n      <td>Casual</td>\n    </tr>\n    <tr>\n      <th>2</th>\n      <td>PC</td>\n      <td>2</td>\n      <td>3</td>\n      <td>2</td>\n      <td>3</td>\n      <td>3</td>\n      <td>-3</td>\n    </tr>\n    <tr>\n      <th>3</th>\n      <td>G64</td>\n      <td>2</td>\n      <td>3</td>\n      <td>2</td>\n      <td>2</td>\n      <td>3</td>\n      <td>-2</td>\n    </tr>\n    <tr>\n      <th>4</th>\n      <td>TES</td>\n      <td>1</td>\n      <td>-2</td>\n      <td>1</td>\n      <td>1</td>\n      <td>-2</td>\n      <td>3</td>\n    </tr>\n    <tr>\n      <th>5</th>\n      <td>Master V</td>\n      <td>2</td>\n      <td>-2</td>\n      <td>1</td>\n      <td>1</td>\n      <td>-2</td>\n      <td>3</td>\n    </tr>\n    <tr>\n      <th>6</th>\n      <td>Gameling</td>\n      <td>1</td>\n      <td>-2</td>\n      <td>2</td>\n      <td>2</td>\n      <td>-3</td>\n      <td>3</td>\n    </tr>\n    <tr>\n      <th>7</th>\n      <td>Vena Gear</td>\n      <td>2</td>\n      <td>1</td>\n      <td>1</td>\n      <td>2</td>\n      <td>-3</td>\n      <td>3</td>\n    </tr>\n    <tr>\n      <th>8</th>\n      <td>Vena Oasis</td>\n      <td>3</td>\n      <td>1</td>\n      <td>1</td>\n      <td>2</td>\n      <td>-3</td>\n      <td>-2</td>\n    </tr>\n    <tr>\n      <th>9</th>\n      <td>Super TES</td>\n      <td>2</td>\n      <td>2</td>\n      <td>2</td>\n      <td>3</td>\n      <td>-2</td>\n      <td>2</td>\n    </tr>\n    <tr>\n      <th>10</th>\n      <td>Playsystem</td>\n      <td>3</td>\n      <td>1</td>\n      <td>3</td>\n      <td>2</td>\n      <td>-2</td>\n      <td>-3</td>\n    </tr>\n    <tr>\n      <th>11</th>\n      <td>TES 64</td>\n      <td>2</td>\n      <td>1</td>\n      <td>-2</td>\n      <td>1</td>\n      <td>-2</td>\n      <td>2</td>\n    </tr>\n    <tr>\n      <th>12</th>\n      <td>DreamVast</td>\n      <td>3</td>\n      <td>-2</td>\n      <td>1</td>\n      <td>3</td>\n      <td>-2</td>\n      <td>-2</td>\n    </tr>\n    <tr>\n      <th>13</th>\n      <td>Playsystem 2</td>\n      <td>3</td>\n      <td>1</td>\n      <td>3</td>\n      <td>2</td>\n      <td>-2</td>\n      <td>2</td>\n    </tr>\n    <tr>\n      <th>14</th>\n      <td>mBox</td>\n      <td>3</td>\n      <td>1</td>\n      <td>2</td>\n      <td>2</td>\n      <td>-2</td>\n      <td>-2</td>\n    </tr>\n    <tr>\n      <th>15</th>\n      <td>Game Sphere</td>\n      <td>1</td>\n      <td>1</td>\n      <td>-2</td>\n      <td>1</td>\n      <td>-2</td>\n      <td>3</td>\n    </tr>\n    <tr>\n      <th>16</th>\n      <td>GS</td>\n      <td>2</td>\n      <td>2</td>\n      <td>3</td>\n      <td>2</td>\n      <td>2</td>\n      <td>3</td>\n    </tr>\n    <tr>\n      <th>17</th>\n      <td>PPS</td>\n      <td>3</td>\n      <td>-2</td>\n      <td>3</td>\n      <td>1</td>\n      <td>1</td>\n      <td>1</td>\n    </tr>\n    <tr>\n      <th>18</th>\n      <td>mBox 360</td>\n      <td>3</td>\n      <td>2</td>\n      <td>3</td>\n      <td>2</td>\n      <td>-2</td>\n      <td>2</td>\n    </tr>\n    <tr>\n      <th>19</th>\n      <td>Nuu</td>\n      <td>1</td>\n      <td>-3</td>\n      <td>-2</td>\n      <td>3</td>\n      <td>-2</td>\n      <td>3</td>\n    </tr>\n    <tr>\n      <th>20</th>\n      <td>Playsystem 3</td>\n      <td>3</td>\n      <td>2</td>\n      <td>2</td>\n      <td>3</td>\n      <td>-2</td>\n      <td>1</td>\n    </tr>\n    <tr>\n      <th>21</th>\n      <td>grPhone</td>\n      <td>1</td>\n      <td>1</td>\n      <td>-2</td>\n      <td>2</td>\n      <td>-2</td>\n      <td>3</td>\n    </tr>\n    <tr>\n      <th>22</th>\n      <td>grPad</td>\n      <td>1</td>\n      <td>2</td>\n      <td>-2</td>\n      <td>2</td>\n      <td>2</td>\n      <td>3</td>\n    </tr>\n    <tr>\n      <th>23</th>\n      <td>mPad</td>\n      <td>-2</td>\n      <td>2</td>\n      <td>1</td>\n      <td>2</td>\n      <td>-2</td>\n      <td>2</td>\n    </tr>\n    <tr>\n      <th>24</th>\n      <td>Wuu</td>\n      <td>2</td>\n      <td>-2</td>\n      <td>1</td>\n      <td>3</td>\n      <td>-2</td>\n      <td>3</td>\n    </tr>\n    <tr>\n      <th>25</th>\n      <td>OYA</td>\n      <td>2</td>\n      <td>-2</td>\n      <td>1</td>\n      <td>2</td>\n      <td>1</td>\n      <td>3</td>\n    </tr>\n    <tr>\n      <th>26</th>\n      <td>mBox One</td>\n      <td>3</td>\n      <td>1</td>\n      <td>2</td>\n      <td>2</td>\n      <td>-2</td>\n      <td>2</td>\n    </tr>\n    <tr>\n      <th>27</th>\n      <td>Playsystem 4</td>\n      <td>3</td>\n      <td>1</td>\n      <td>3</td>\n      <td>2</td>\n      <td>-2</td>\n      <td>2</td>\n    </tr>\n    <tr>\n      <th>28</th>\n      <td>mBox Next</td>\n      <td>2</td>\n      <td>2</td>\n      <td>2</td>\n      <td>1</td>\n      <td>-2</td>\n      <td>3</td>\n    </tr>\n    <tr>\n      <th>29</th>\n      <td>Playsystem 5</td>\n      <td>3</td>\n      <td>-2</td>\n      <td>2</td>\n      <td>3</td>\n      <td>-2</td>\n      <td>2</td>\n    </tr>\n  </tbody>\n</table>\n</div>"
     },
     "execution_count": 10,
     "metadata": {},
     "output_type": "execute_result"
    }
   ],
   "source": [
    "systems_topics = system_table.iloc[1:-3,0:7]\n",
    "systems_topics = systems_topics.applymap(convert_to_numerical)\n",
    "systems_topics"
   ],
   "metadata": {
    "collapsed": false,
    "ExecuteTime": {
     "end_time": "2023-11-23T16:54:41.983268Z",
     "start_time": "2023-11-23T16:54:41.961978Z"
    }
   },
   "id": "8cc323551f9f7bf2"
  },
  {
   "cell_type": "code",
   "execution_count": 11,
   "outputs": [
    {
     "data": {
      "text/plain": "          System   8  9  10\n1         System   Y  E   M\n2             PC   1  2   3\n3            G64   1  2   3\n4            TES   3  2  -3\n5       Master V   2  3  -2\n6       Gameling   3  2  -3\n7      Vena Gear   2  3   1\n8     Vena Oasis   1  3   2\n9      Super TES   3  2  -2\n10    Playsystem   1  3   2\n11        TES 64   3  2   2\n12     DreamVast  -2  3   3\n13  Playsystem 2   2  3   1\n14          mBox   1  3   2\n15   Game Sphere   2  2   1\n16            GS   3  2   1\n17           PPS   1  2   3\n18      mBox 360   1  2   3\n19           Nuu   3  3  -2\n20  Playsystem 3   1  3   2\n21       grPhone   2  3  -3\n22         grPad   2  3  -3\n23          mPad  -2  2   1\n24           Wuu   2  3  -2\n25           OYA   1  3   2\n26      mBox One  -2  3   1\n27  Playsystem 4   1  3   2\n28     mBox Next   2  3   1\n29  Playsystem 5   1  3   2",
      "text/html": "<div>\n<style scoped>\n    .dataframe tbody tr th:only-of-type {\n        vertical-align: middle;\n    }\n\n    .dataframe tbody tr th {\n        vertical-align: top;\n    }\n\n    .dataframe thead th {\n        text-align: right;\n    }\n</style>\n<table border=\"1\" class=\"dataframe\">\n  <thead>\n    <tr style=\"text-align: right;\">\n      <th></th>\n      <th>System</th>\n      <th>8</th>\n      <th>9</th>\n      <th>10</th>\n    </tr>\n  </thead>\n  <tbody>\n    <tr>\n      <th>1</th>\n      <td>System</td>\n      <td>Y</td>\n      <td>E</td>\n      <td>M</td>\n    </tr>\n    <tr>\n      <th>2</th>\n      <td>PC</td>\n      <td>1</td>\n      <td>2</td>\n      <td>3</td>\n    </tr>\n    <tr>\n      <th>3</th>\n      <td>G64</td>\n      <td>1</td>\n      <td>2</td>\n      <td>3</td>\n    </tr>\n    <tr>\n      <th>4</th>\n      <td>TES</td>\n      <td>3</td>\n      <td>2</td>\n      <td>-3</td>\n    </tr>\n    <tr>\n      <th>5</th>\n      <td>Master V</td>\n      <td>2</td>\n      <td>3</td>\n      <td>-2</td>\n    </tr>\n    <tr>\n      <th>6</th>\n      <td>Gameling</td>\n      <td>3</td>\n      <td>2</td>\n      <td>-3</td>\n    </tr>\n    <tr>\n      <th>7</th>\n      <td>Vena Gear</td>\n      <td>2</td>\n      <td>3</td>\n      <td>1</td>\n    </tr>\n    <tr>\n      <th>8</th>\n      <td>Vena Oasis</td>\n      <td>1</td>\n      <td>3</td>\n      <td>2</td>\n    </tr>\n    <tr>\n      <th>9</th>\n      <td>Super TES</td>\n      <td>3</td>\n      <td>2</td>\n      <td>-2</td>\n    </tr>\n    <tr>\n      <th>10</th>\n      <td>Playsystem</td>\n      <td>1</td>\n      <td>3</td>\n      <td>2</td>\n    </tr>\n    <tr>\n      <th>11</th>\n      <td>TES 64</td>\n      <td>3</td>\n      <td>2</td>\n      <td>2</td>\n    </tr>\n    <tr>\n      <th>12</th>\n      <td>DreamVast</td>\n      <td>-2</td>\n      <td>3</td>\n      <td>3</td>\n    </tr>\n    <tr>\n      <th>13</th>\n      <td>Playsystem 2</td>\n      <td>2</td>\n      <td>3</td>\n      <td>1</td>\n    </tr>\n    <tr>\n      <th>14</th>\n      <td>mBox</td>\n      <td>1</td>\n      <td>3</td>\n      <td>2</td>\n    </tr>\n    <tr>\n      <th>15</th>\n      <td>Game Sphere</td>\n      <td>2</td>\n      <td>2</td>\n      <td>1</td>\n    </tr>\n    <tr>\n      <th>16</th>\n      <td>GS</td>\n      <td>3</td>\n      <td>2</td>\n      <td>1</td>\n    </tr>\n    <tr>\n      <th>17</th>\n      <td>PPS</td>\n      <td>1</td>\n      <td>2</td>\n      <td>3</td>\n    </tr>\n    <tr>\n      <th>18</th>\n      <td>mBox 360</td>\n      <td>1</td>\n      <td>2</td>\n      <td>3</td>\n    </tr>\n    <tr>\n      <th>19</th>\n      <td>Nuu</td>\n      <td>3</td>\n      <td>3</td>\n      <td>-2</td>\n    </tr>\n    <tr>\n      <th>20</th>\n      <td>Playsystem 3</td>\n      <td>1</td>\n      <td>3</td>\n      <td>2</td>\n    </tr>\n    <tr>\n      <th>21</th>\n      <td>grPhone</td>\n      <td>2</td>\n      <td>3</td>\n      <td>-3</td>\n    </tr>\n    <tr>\n      <th>22</th>\n      <td>grPad</td>\n      <td>2</td>\n      <td>3</td>\n      <td>-3</td>\n    </tr>\n    <tr>\n      <th>23</th>\n      <td>mPad</td>\n      <td>-2</td>\n      <td>2</td>\n      <td>1</td>\n    </tr>\n    <tr>\n      <th>24</th>\n      <td>Wuu</td>\n      <td>2</td>\n      <td>3</td>\n      <td>-2</td>\n    </tr>\n    <tr>\n      <th>25</th>\n      <td>OYA</td>\n      <td>1</td>\n      <td>3</td>\n      <td>2</td>\n    </tr>\n    <tr>\n      <th>26</th>\n      <td>mBox One</td>\n      <td>-2</td>\n      <td>3</td>\n      <td>1</td>\n    </tr>\n    <tr>\n      <th>27</th>\n      <td>Playsystem 4</td>\n      <td>1</td>\n      <td>3</td>\n      <td>2</td>\n    </tr>\n    <tr>\n      <th>28</th>\n      <td>mBox Next</td>\n      <td>2</td>\n      <td>3</td>\n      <td>1</td>\n    </tr>\n    <tr>\n      <th>29</th>\n      <td>Playsystem 5</td>\n      <td>1</td>\n      <td>3</td>\n      <td>2</td>\n    </tr>\n  </tbody>\n</table>\n</div>"
     },
     "execution_count": 11,
     "metadata": {},
     "output_type": "execute_result"
    }
   ],
   "source": [
    "systems_audience = system_table.iloc[1:-3,-3:]\n",
    "systems_audience_first_col = system_table.iloc[1:,0]\n",
    "systems_audience.insert(0,\"System\",systems_audience_first_col)\n",
    "systems_audience = systems_audience.applymap(convert_to_numerical)\n",
    "systems_audience"
   ],
   "metadata": {
    "collapsed": false,
    "ExecuteTime": {
     "end_time": "2023-11-23T16:54:57.118552Z",
     "start_time": "2023-11-23T16:54:57.045301Z"
    }
   },
   "id": "7f461e08d4e21cef"
  },
  {
   "cell_type": "code",
   "execution_count": 44,
   "outputs": [],
   "source": [
    "#topics.to_csv(\"topics.csv\")"
   ],
   "metadata": {
    "collapsed": false,
    "ExecuteTime": {
     "start_time": "2023-11-23T16:53:45.981046Z"
    }
   },
   "id": "3f30f32f72b49244"
  },
  {
   "cell_type": "code",
   "execution_count": 45,
   "outputs": [],
   "source": [
    "#audience.to_csv(\"audience.csv\")\n",
    "#systems_topics.to_csv(\"systems_topics.csv\")\n",
    "#systems_audience.to_csv(\"systems_audience.csv\")"
   ],
   "metadata": {
    "collapsed": false,
    "ExecuteTime": {
     "start_time": "2023-11-23T16:53:45.981182Z"
    }
   },
   "id": "4a2104058580742b"
  },
  {
   "cell_type": "code",
   "execution_count": 46,
   "outputs": [],
   "source": [
    "release_dates = [\n",
    "    'Release_Date',\n",
    "    '1/1/0001',\n",
    "    '1/1/0001',\n",
    "    '3/2/0002',\n",
    "    '6/4/0003',\n",
    "    '2/4/0004',\n",
    "    '9/2/0004',\n",
    "    '11/1/0005',\n",
    "    '10/4/0006',\n",
    "    '8/1/0008',\n",
    "    '6/2/0010',\n",
    "    '9/4/0011',\n",
    "    '2/1/0013',\n",
    "    '10/4/0013',\n",
    "    '11/4/0014',\n",
    "    '10/1/0015',\n",
    "    '6/2/0016',\n",
    "    '4/1/0019',\n",
    "    '1/3/0020',\n",
    "    '4/4/0020',\n",
    "    '10/4/0020',\n",
    "    '8/2/0021',\n",
    "    '9/1/0022',\n",
    "    '2/3/0024',\n",
    "    '6/2/0026',\n",
    "    '6/1/0027',\n",
    "    '8/2/0027',\n",
    "    '2/1/0032',\n",
    "    '4/3/0032'\n",
    "]"
   ],
   "metadata": {
    "collapsed": false,
    "ExecuteTime": {
     "start_time": "2023-11-23T16:53:45.981292Z"
    }
   },
   "id": "b8149f815ff3cbb6"
  },
  {
   "cell_type": "code",
   "execution_count": 47,
   "outputs": [],
   "source": [
    "systems_topics"
   ],
   "metadata": {
    "collapsed": false,
    "ExecuteTime": {
     "start_time": "2023-11-23T16:53:45.981615Z"
    }
   },
   "id": "e2dde0ab2f986811"
  },
  {
   "cell_type": "code",
   "execution_count": 47,
   "outputs": [],
   "source": [],
   "metadata": {
    "collapsed": false,
    "ExecuteTime": {
     "start_time": "2023-11-23T16:53:45.981965Z"
    }
   },
   "id": "49d729a7c56084ba"
  },
  {
   "cell_type": "code",
   "execution_count": 13,
   "outputs": [
    {
     "name": "stdout",
     "output_type": "stream",
     "text": [
      "['Action - Airplane', 'Action - Aliens', 'Action - Alternate History', 'Action - Assassin', 'Action - Crime', 'Action - Cyberpunk', 'Action - Dungeon', 'Action - Extreme Sports', 'Action - Fantasy', 'Action - Horror', 'Action - Hunting', 'Action - Martial Arts', 'Action - Medieval', 'Action - Military', 'Action - Music*', 'Action - Mythology', 'Action - Ninja', 'Action - Post Apocalyptic', 'Action - Prison', 'Action - Rhythm*', 'Action - Sci-Fi', 'Action - Space', 'Action - Sports*', 'Action - Spy', 'Action - Superheroes', 'Action - UFO', 'Action - Vampire', 'Action - Werewolf', 'Action - Zombies', 'Adventure - Abstract', 'Adventure - Comedy', 'Adventure - Detective*', 'Adventure - Fantasy', 'Adventure - Horror', 'Adventure - Law*', 'Adventure - Life', 'Adventure - Mad Science', 'Adventure - Medieval', 'Adventure - Mystery*', 'Adventure - Pirate', 'Adventure - Prison', 'Adventure - Romance', 'Adventure - School', 'Adventure - Sci-Fi', 'Adventure - Spy', 'Adventure - Time Travel', 'Casual - Airplane', 'Casual - Comedy', 'Casual - Cooking', 'Casual - Dance', 'Casual - Farming', 'Casual - Fashion', 'Casual - Martial Arts', 'Casual - Movies', 'Casual - Music*', 'Casual - Racing*', 'Casual - Rhythm*', 'Casual - Sports*', 'Casual - Virtual Pet', 'Casual - Vocabulary', 'Casual - Zombies', 'RPG - Aliens', 'RPG - Alternate History', 'RPG - Assassin', 'RPG - Cyberpunk', 'RPG - Detective*', 'RPG - Dungeon', 'RPG - Fantasy', 'RPG - Fashion', 'RPG - Martial Arts', 'RPG - Medieval', 'RPG - Mystery*', 'RPG - Post Apocalyptic', 'RPG - School', 'RPG - Sci-Fi', 'RPG - Spy', 'RPG - Thief', 'RPG - Time Travel', 'RPG - Vampire', 'RPG - Werewolf', 'RPG - Wild West', 'Simulation - Airplane', 'Simulation - Business', 'Simulation - City', 'Simulation - Colonization', 'Simulation - Construction', 'Simulation - Cooking', 'Simulation - Dance', 'Simulation - Disasters', 'Simulation - Dungeon', 'Simulation - Dystopian', 'Simulation - Evolution', 'Simulation - Extreme Sports', 'Simulation - Farming', 'Simulation - Fashion', 'Simulation - Game Dev', 'Simulation - Government', 'Simulation - Hacking', 'Simulation - History', 'Simulation - Hospital', 'Simulation - Hunting', 'Simulation - Life', 'Simulation - Martial Arts', 'Simulation - Military', 'Simulation - Movies', 'Simulation - Music*', 'Simulation - Prison', 'Simulation - Racing*', 'Simulation - Rhythm*', 'Simulation - School', 'Simulation - Sci-Fi', 'Simulation - Space', 'Simulation - Sports*', 'Simulation - Surgery', 'Simulation - Technology', 'Simulation - Transport', 'Simulation - Virtual Pet', 'Simulation - Vocabulary', 'Strategy - Airplane', 'Strategy - Business', 'Strategy - City', 'Strategy - Colonization', 'Strategy - Disasters', 'Strategy - Dungeon', 'Strategy - Evolution', 'Strategy - Expedition', 'Strategy - Fantasy', 'Strategy - Government', 'Strategy - Hacking', 'Strategy - History', 'Strategy - Medieval', 'Strategy - Military', 'Strategy - School', 'Strategy - Sci-Fi', 'Strategy - Space', 'Strategy - Transport', 'Strategy - UFO', 'Strategy - Vocabulary']\n"
     ]
    }
   ],
   "source": [
    "systems_topics.to_csv(\"systems_topics.csv\")\n",
    "systems_audience.to_csv(\"systems_audience.csv\")"
   ],
   "metadata": {
    "collapsed": false,
    "ExecuteTime": {
     "end_time": "2023-11-23T17:02:04.586430Z",
     "start_time": "2023-11-23T17:02:04.505481Z"
    }
   },
   "id": "91eeba70a7d7f03f"
  },
  {
   "cell_type": "code",
   "execution_count": 14,
   "outputs": [
    {
     "data": {
      "text/plain": "                Topic   Y  E   M\n0            Abstract   1  2   3\n1            Airplane   3  3   2\n2              Aliens   2  3   3\n3   Alternate History  -3  3   3\n4            Assassin  -3  1   3\n..                ...  .. ..  ..\n62        Virtual Pet   3  1  -2\n63         Vocabulary   2  3  -3\n64           Werewolf  -2  2   3\n65          Wild West   3  2   3\n66            Zombies   2  1   3\n\n[67 rows x 4 columns]",
      "text/html": "<div>\n<style scoped>\n    .dataframe tbody tr th:only-of-type {\n        vertical-align: middle;\n    }\n\n    .dataframe tbody tr th {\n        vertical-align: top;\n    }\n\n    .dataframe thead th {\n        text-align: right;\n    }\n</style>\n<table border=\"1\" class=\"dataframe\">\n  <thead>\n    <tr style=\"text-align: right;\">\n      <th></th>\n      <th>Topic</th>\n      <th>Y</th>\n      <th>E</th>\n      <th>M</th>\n    </tr>\n  </thead>\n  <tbody>\n    <tr>\n      <th>0</th>\n      <td>Abstract</td>\n      <td>1</td>\n      <td>2</td>\n      <td>3</td>\n    </tr>\n    <tr>\n      <th>1</th>\n      <td>Airplane</td>\n      <td>3</td>\n      <td>3</td>\n      <td>2</td>\n    </tr>\n    <tr>\n      <th>2</th>\n      <td>Aliens</td>\n      <td>2</td>\n      <td>3</td>\n      <td>3</td>\n    </tr>\n    <tr>\n      <th>3</th>\n      <td>Alternate History</td>\n      <td>-3</td>\n      <td>3</td>\n      <td>3</td>\n    </tr>\n    <tr>\n      <th>4</th>\n      <td>Assassin</td>\n      <td>-3</td>\n      <td>1</td>\n      <td>3</td>\n    </tr>\n    <tr>\n      <th>...</th>\n      <td>...</td>\n      <td>...</td>\n      <td>...</td>\n      <td>...</td>\n    </tr>\n    <tr>\n      <th>62</th>\n      <td>Virtual Pet</td>\n      <td>3</td>\n      <td>1</td>\n      <td>-2</td>\n    </tr>\n    <tr>\n      <th>63</th>\n      <td>Vocabulary</td>\n      <td>2</td>\n      <td>3</td>\n      <td>-3</td>\n    </tr>\n    <tr>\n      <th>64</th>\n      <td>Werewolf</td>\n      <td>-2</td>\n      <td>2</td>\n      <td>3</td>\n    </tr>\n    <tr>\n      <th>65</th>\n      <td>Wild West</td>\n      <td>3</td>\n      <td>2</td>\n      <td>3</td>\n    </tr>\n    <tr>\n      <th>66</th>\n      <td>Zombies</td>\n      <td>2</td>\n      <td>1</td>\n      <td>3</td>\n    </tr>\n  </tbody>\n</table>\n<p>67 rows × 4 columns</p>\n</div>"
     },
     "execution_count": 14,
     "metadata": {},
     "output_type": "execute_result"
    }
   ],
   "source": [
    "systems_audience"
   ],
   "metadata": {
    "collapsed": false,
    "ExecuteTime": {
     "end_time": "2023-11-23T17:02:12.151432Z",
     "start_time": "2023-11-23T17:02:12.122419Z"
    }
   },
   "id": "612da72ef2cc3447"
  },
  {
   "cell_type": "code",
   "execution_count": 17,
   "outputs": [
    {
     "name": "stdout",
     "output_type": "stream",
     "text": [
      "['Action-Airplane', 'Action-Aliens', 'Action-Alternate History', 'Action-Assassin', 'Action-Crime', 'Action-Cyberpunk', 'Action-Dungeon', 'Action-Extreme Sports', 'Action-Fantasy', 'Action-Horror', 'Action-Hunting', 'Action-Martial Arts', 'Action-Medieval', 'Action-Military', 'Action-Music*', 'Action-Mythology', 'Action-Ninja', 'Action-Post Apocalyptic', 'Action-Prison', 'Action-Rhythm*', 'Action-ScienceFiction', 'Action-Space', 'Action-Sports*', 'Action-Spy', 'Action-Superheroes', 'Action-UFO', 'Action-Vampire', 'Action-Werewolf', 'Action-Zombies', 'Adventure-Abstract', 'Adventure-Comedy', 'Adventure-Detective*', 'Adventure-Fantasy', 'Adventure-Horror', 'Adventure-Law*', 'Adventure-Life', 'Adventure-Mad Science', 'Adventure-Medieval', 'Adventure-Mystery*', 'Adventure-Pirate', 'Adventure-Prison', 'Adventure-Romance', 'Adventure-School', 'Adventure-ScienceFiction', 'Adventure-Spy', 'Adventure-Time Travel', 'Casual-Airplane', 'Casual-Comedy', 'Casual-Cooking', 'Casual-Dance', 'Casual-Farming', 'Casual-Fashion', 'Casual-Martial Arts', 'Casual-Movies', 'Casual-Music*', 'Casual-Racing*', 'Casual-Rhythm*', 'Casual-Sports*', 'Casual-Virtual Pet', 'Casual-Vocabulary', 'Casual-Zombies', 'RPG-Aliens', 'RPG-Alternate History', 'RPG-Assassin', 'RPG-Cyberpunk', 'RPG-Detective*', 'RPG-Dungeon', 'RPG-Fantasy', 'RPG-Fashion', 'RPG-Martial Arts', 'RPG-Medieval', 'RPG-Mystery*', 'RPG-Post Apocalyptic', 'RPG-School', 'RPG-ScienceFiction', 'RPG-Spy', 'RPG-Thief', 'RPG-Time Travel', 'RPG-Vampire', 'RPG-Werewolf', 'RPG-Wild West', 'Simulation-Airplane', 'Simulation-Business', 'Simulation-City', 'Simulation-Colonization', 'Simulation-Construction', 'Simulation-Cooking', 'Simulation-Dance', 'Simulation-Disasters', 'Simulation-Dungeon', 'Simulation-Dystopian', 'Simulation-Evolution', 'Simulation-Extreme Sports', 'Simulation-Farming', 'Simulation-Fashion', 'Simulation-Game Dev', 'Simulation-Government', 'Simulation-Hacking', 'Simulation-History', 'Simulation-Hospital', 'Simulation-Hunting', 'Simulation-Life', 'Simulation-Martial Arts', 'Simulation-Military', 'Simulation-Movies', 'Simulation-Music*', 'Simulation-Prison', 'Simulation-Racing*', 'Simulation-Rhythm*', 'Simulation-School', 'Simulation-ScienceFiction', 'Simulation-Space', 'Simulation-Sports*', 'Simulation-Surgery', 'Simulation-Technology', 'Simulation-Transport', 'Simulation-Virtual Pet', 'Simulation-Vocabulary', 'Strategy-Airplane', 'Strategy-Business', 'Strategy-City', 'Strategy-Colonization', 'Strategy-Disasters', 'Strategy-Dungeon', 'Strategy-Evolution', 'Strategy-Expedition', 'Strategy-Fantasy', 'Strategy-Government', 'Strategy-Hacking', 'Strategy-History', 'Strategy-Medieval', 'Strategy-Military', 'Strategy-School', 'Strategy-ScienceFiction', 'Strategy-Space', 'Strategy-Transport', 'Strategy-UFO', 'Strategy-Vocabulary']\n"
     ]
    }
   ],
   "source": [
    "topics = pd.read_csv('topics.csv')\n",
    "audience = pd.read_csv('audience.csv')\n",
    "systems_genre = pd.read_csv('systems_genre.csv')\n",
    "systems_audience = pd.read_csv('systems_audience.csv')\n",
    "\n",
    "topics = topics.iloc[:,1:]\n",
    "topics['Topic'] = topics['Topic'].replace(\"Sci-Fi\",\"ScienceFiction\")\n",
    "\n",
    "topics.iloc[0,0]\n",
    "topics_combinations = [\n",
    "    f\"{topics.columns[j]}-{row[0]}\"\n",
    "    for _, row in topics.iterrows()\n",
    "    for j in range(1, len(topics.columns))\n",
    "    if row[j] == 3\n",
    "]\n",
    "\n",
    "topics_combinations.sort()\n",
    "print(topics_combinations)"
   ],
   "metadata": {
    "collapsed": false,
    "ExecuteTime": {
     "end_time": "2023-11-25T00:51:21.113512Z",
     "start_time": "2023-11-25T00:51:21.094165Z"
    }
   },
   "id": "a8061ae791a97be"
  },
  {
   "cell_type": "code",
   "execution_count": 18,
   "outputs": [
    {
     "data": {
      "text/plain": "                Topic  Y  E  M\n0            Abstract  1  2  3\n1            Airplane  3  3  2\n2              Aliens  2  3  3\n3   Alternate History -3  3  3\n4            Assassin -3  1  3\n..                ... .. .. ..\n61        Virtual Pet  3  1 -2\n62         Vocabulary  2  3 -3\n63           Werewolf -2  2  3\n64          Wild West  3  2  3\n65            Zombies  2  1  3\n\n[66 rows x 4 columns]",
      "text/html": "<div>\n<style scoped>\n    .dataframe tbody tr th:only-of-type {\n        vertical-align: middle;\n    }\n\n    .dataframe tbody tr th {\n        vertical-align: top;\n    }\n\n    .dataframe thead th {\n        text-align: right;\n    }\n</style>\n<table border=\"1\" class=\"dataframe\">\n  <thead>\n    <tr style=\"text-align: right;\">\n      <th></th>\n      <th>Topic</th>\n      <th>Y</th>\n      <th>E</th>\n      <th>M</th>\n    </tr>\n  </thead>\n  <tbody>\n    <tr>\n      <th>0</th>\n      <td>Abstract</td>\n      <td>1</td>\n      <td>2</td>\n      <td>3</td>\n    </tr>\n    <tr>\n      <th>1</th>\n      <td>Airplane</td>\n      <td>3</td>\n      <td>3</td>\n      <td>2</td>\n    </tr>\n    <tr>\n      <th>2</th>\n      <td>Aliens</td>\n      <td>2</td>\n      <td>3</td>\n      <td>3</td>\n    </tr>\n    <tr>\n      <th>3</th>\n      <td>Alternate History</td>\n      <td>-3</td>\n      <td>3</td>\n      <td>3</td>\n    </tr>\n    <tr>\n      <th>4</th>\n      <td>Assassin</td>\n      <td>-3</td>\n      <td>1</td>\n      <td>3</td>\n    </tr>\n    <tr>\n      <th>...</th>\n      <td>...</td>\n      <td>...</td>\n      <td>...</td>\n      <td>...</td>\n    </tr>\n    <tr>\n      <th>61</th>\n      <td>Virtual Pet</td>\n      <td>3</td>\n      <td>1</td>\n      <td>-2</td>\n    </tr>\n    <tr>\n      <th>62</th>\n      <td>Vocabulary</td>\n      <td>2</td>\n      <td>3</td>\n      <td>-3</td>\n    </tr>\n    <tr>\n      <th>63</th>\n      <td>Werewolf</td>\n      <td>-2</td>\n      <td>2</td>\n      <td>3</td>\n    </tr>\n    <tr>\n      <th>64</th>\n      <td>Wild West</td>\n      <td>3</td>\n      <td>2</td>\n      <td>3</td>\n    </tr>\n    <tr>\n      <th>65</th>\n      <td>Zombies</td>\n      <td>2</td>\n      <td>1</td>\n      <td>3</td>\n    </tr>\n  </tbody>\n</table>\n<p>66 rows × 4 columns</p>\n</div>"
     },
     "execution_count": 18,
     "metadata": {},
     "output_type": "execute_result"
    }
   ],
   "source": [
    "audience = audience.iloc[:,1:]\n",
    "audience"
   ],
   "metadata": {
    "collapsed": false,
    "ExecuteTime": {
     "end_time": "2023-11-25T00:51:34.452991Z",
     "start_time": "2023-11-25T00:51:34.410060Z"
    }
   },
   "id": "121511d170050a22"
  },
  {
   "cell_type": "code",
   "execution_count": 19,
   "outputs": [],
   "source": [
    "audience['Topic'] = audience['Topic'].replace(\"Sci-Fi\", \"ScienceFiction\")\n",
    "\n",
    "audience_combinations = [\n",
    "    f\"{audience.columns[j]}-{row[0]}\"\n",
    "    for _, row in audience.iterrows()\n",
    "    for j in range(1, len(audience.columns))\n",
    "    if row[j] == 3\n",
    "]"
   ],
   "metadata": {
    "collapsed": false,
    "ExecuteTime": {
     "end_time": "2023-11-25T00:52:21.928714Z",
     "start_time": "2023-11-25T00:52:21.843486Z"
    }
   },
   "id": "93ea6741ad260cba"
  },
  {
   "cell_type": "code",
   "execution_count": 20,
   "outputs": [
    {
     "name": "stdout",
     "output_type": "stream",
     "text": [
      "['E-Airplane', 'E-Aliens', 'E-Alternate History', 'E-Business', 'E-City', 'E-Colonization', 'E-Construction', 'E-Cooking', 'E-Detective*', 'E-Dungeon', 'E-Evolution', 'E-Expedition', 'E-Fantasy', 'E-Farming', 'E-Game Dev', 'E-Government', 'E-History', 'E-Hospital', 'E-Hunting', 'E-Law*', 'E-Life', 'E-Medieval', 'E-Movies', 'E-Mythology', 'E-Pirate', 'E-Racing*', 'E-Romance', 'E-ScienceFiction', 'E-Space', 'E-Sports*', 'E-Superheroes', 'E-Surgery', 'E-Technology', 'E-Thief', 'E-Time Travel', 'E-Transport', 'E-UFO', 'E-Vampire', 'E-Vocabulary', 'M-Abstract', 'M-Aliens', 'M-Alternate History', 'M-Assassin', 'M-Comedy', 'M-Crime', 'M-Cyberpunk', 'M-Disasters', 'M-Dungeon', 'M-Dystopian', 'M-Extreme Sports', 'M-Fantasy', 'M-Hacking', 'M-Horror', 'M-Mad Science', 'M-Martial Arts', 'M-Military', 'M-Mystery*', 'M-Mythology', 'M-Post Apocalyptic', 'M-Prison', 'M-Romance', 'M-ScienceFiction', 'M-Space', 'M-Spy', 'M-Superheroes', 'M-Thief', 'M-Vampire', 'M-Werewolf', 'M-Wild West', 'M-Zombies', 'Y-Airplane', 'Y-Dance', 'Y-Extreme Sports', 'Y-Fantasy', 'Y-Fashion', 'Y-Life', 'Y-Medieval', 'Y-Music*', 'Y-Ninja', 'Y-Pirate', 'Y-Racing*', 'Y-Rhythm*', 'Y-School', 'Y-Sports*', 'Y-Superheroes', 'Y-Virtual Pet', 'Y-Wild West']\n"
     ]
    }
   ],
   "source": [
    "audience_combinations.sort()\n",
    "print(audience_combinations)"
   ],
   "metadata": {
    "collapsed": false,
    "ExecuteTime": {
     "end_time": "2023-11-25T00:52:24.151239Z",
     "start_time": "2023-11-25T00:52:24.118696Z"
    }
   },
   "id": "c54fa49074ee05b"
  },
  {
   "cell_type": "code",
   "execution_count": 21,
   "outputs": [],
   "source": [
    "topics_combinations = [x.replace(' ','') for x in topics_combinations]\n",
    "audience_combinations = [x.replace(' ','') for x in audience_combinations]"
   ],
   "metadata": {
    "collapsed": false,
    "ExecuteTime": {
     "end_time": "2023-11-25T00:52:30.243840Z",
     "start_time": "2023-11-25T00:52:30.225163Z"
    }
   },
   "id": "f10acce810397e90"
  },
  {
   "cell_type": "code",
   "execution_count": 22,
   "outputs": [
    {
     "name": "stdout",
     "output_type": "stream",
     "text": [
      "['Action-Airplane-E', 'Action-Airplane-Y', 'Action-Aliens-E', 'Action-Aliens-M', 'Action-AlternateHistory-E', 'Action-AlternateHistory-M', 'Action-Assassin-M', 'Action-Crime-M', 'Action-Cyberpunk-M', 'Action-Dungeon-E', 'Action-Dungeon-M', 'Action-ExtremeSports-M', 'Action-ExtremeSports-Y', 'Action-Fantasy-E', 'Action-Fantasy-M', 'Action-Fantasy-Y', 'Action-Horror-M', 'Action-Hunting-E', 'Action-MartialArts-M', 'Action-Medieval-E', 'Action-Medieval-Y', 'Action-Military-M', 'Action-Music*-Y', 'Action-Mythology-E', 'Action-Mythology-M', 'Action-Ninja-Y', 'Action-PostApocalyptic-M', 'Action-Prison-M', 'Action-Rhythm*-Y', 'Action-ScienceFiction-E', 'Action-ScienceFiction-M', 'Action-Space-E', 'Action-Space-M', 'Action-Sports*-E', 'Action-Sports*-Y', 'Action-Spy-M', 'Action-Superheroes-E', 'Action-Superheroes-M', 'Action-Superheroes-Y', 'Action-UFO-E', 'Action-Vampire-E', 'Action-Vampire-M', 'Action-Werewolf-M', 'Action-Zombies-M', 'Adventure-Abstract-M', 'Adventure-Comedy-M', 'Adventure-Detective*-E', 'Adventure-Fantasy-E', 'Adventure-Fantasy-M', 'Adventure-Fantasy-Y', 'Adventure-Horror-M', 'Adventure-Law*-E', 'Adventure-Life-E', 'Adventure-Life-Y', 'Adventure-MadScience-M', 'Adventure-Medieval-E', 'Adventure-Medieval-Y', 'Adventure-Mystery*-M', 'Adventure-Pirate-E', 'Adventure-Pirate-Y', 'Adventure-Prison-M', 'Adventure-Romance-E', 'Adventure-Romance-M', 'Adventure-School-Y', 'Adventure-ScienceFiction-E', 'Adventure-ScienceFiction-M', 'Adventure-Spy-M', 'Adventure-TimeTravel-E', 'Casual-Airplane-E', 'Casual-Airplane-Y', 'Casual-Comedy-M', 'Casual-Cooking-E', 'Casual-Dance-Y', 'Casual-Farming-E', 'Casual-Fashion-Y', 'Casual-MartialArts-M', 'Casual-Movies-E', 'Casual-Music*-Y', 'Casual-Racing*-E', 'Casual-Racing*-Y', 'Casual-Rhythm*-Y', 'Casual-Sports*-E', 'Casual-Sports*-Y', 'Casual-VirtualPet-Y', 'Casual-Vocabulary-E', 'Casual-Zombies-M', 'RPG-Aliens-E', 'RPG-Aliens-M', 'RPG-AlternateHistory-E', 'RPG-AlternateHistory-M', 'RPG-Assassin-M', 'RPG-Cyberpunk-M', 'RPG-Detective*-E', 'RPG-Dungeon-E', 'RPG-Dungeon-M', 'RPG-Fantasy-E', 'RPG-Fantasy-M', 'RPG-Fantasy-Y', 'RPG-Fashion-Y', 'RPG-MartialArts-M', 'RPG-Medieval-E', 'RPG-Medieval-Y', 'RPG-Mystery*-M', 'RPG-PostApocalyptic-M', 'RPG-School-Y', 'RPG-ScienceFiction-E', 'RPG-ScienceFiction-M', 'RPG-Spy-M', 'RPG-Thief-E', 'RPG-Thief-M', 'RPG-TimeTravel-E', 'RPG-Vampire-E', 'RPG-Vampire-M', 'RPG-Werewolf-M', 'RPG-WildWest-M', 'RPG-WildWest-Y', 'Simulation-Airplane-E', 'Simulation-Airplane-Y', 'Simulation-Business-E', 'Simulation-City-E', 'Simulation-Colonization-E', 'Simulation-Construction-E', 'Simulation-Cooking-E', 'Simulation-Dance-Y', 'Simulation-Disasters-M', 'Simulation-Dungeon-E', 'Simulation-Dungeon-M', 'Simulation-Dystopian-M', 'Simulation-Evolution-E', 'Simulation-ExtremeSports-M', 'Simulation-ExtremeSports-Y', 'Simulation-Farming-E', 'Simulation-Fashion-Y', 'Simulation-GameDev-E', 'Simulation-Government-E', 'Simulation-Hacking-M', 'Simulation-History-E', 'Simulation-History-E', 'Simulation-History-M', 'Simulation-Hospital-E', 'Simulation-Hunting-E', 'Simulation-Life-E', 'Simulation-Life-Y', 'Simulation-MartialArts-M', 'Simulation-Military-M', 'Simulation-Movies-E', 'Simulation-Music*-Y', 'Simulation-Prison-M', 'Simulation-Racing*-E', 'Simulation-Racing*-Y', 'Simulation-Rhythm*-Y', 'Simulation-School-Y', 'Simulation-ScienceFiction-E', 'Simulation-ScienceFiction-M', 'Simulation-Space-E', 'Simulation-Space-M', 'Simulation-Sports*-E', 'Simulation-Sports*-Y', 'Simulation-Surgery-E', 'Simulation-Technology-E', 'Simulation-Transport-E', 'Simulation-VirtualPet-Y', 'Simulation-Vocabulary-E', 'Strategy-Airplane-E', 'Strategy-Airplane-Y', 'Strategy-Business-E', 'Strategy-City-E', 'Strategy-Colonization-E', 'Strategy-Disasters-M', 'Strategy-Dungeon-E', 'Strategy-Dungeon-M', 'Strategy-Evolution-E', 'Strategy-Expedition-E', 'Strategy-Fantasy-E', 'Strategy-Fantasy-M', 'Strategy-Fantasy-Y', 'Strategy-Government-E', 'Strategy-Hacking-M', 'Strategy-History-E', 'Strategy-History-E', 'Strategy-History-M', 'Strategy-Medieval-E', 'Strategy-Medieval-Y', 'Strategy-Military-M', 'Strategy-School-Y', 'Strategy-ScienceFiction-E', 'Strategy-ScienceFiction-M', 'Strategy-Space-E', 'Strategy-Space-M', 'Strategy-Transport-E', 'Strategy-UFO-E', 'Strategy-Vocabulary-E']\n"
     ]
    }
   ],
   "source": [
    "topics_comb_copy = topics_combinations.copy()\n",
    "\n",
    "half_combinations=[]\n",
    "\n",
    "topics_set = set(topics_comb_copy)\n",
    "audience_set = set(audience_combinations)\n",
    "\n",
    "for topic in topics_set:\n",
    "    topic_words = topic.split('-')\n",
    "    last_word = topic_words[-1]\n",
    "    \n",
    "    matching_audience = [aud for aud in audience_set if aud.endswith(last_word)]\n",
    "    \n",
    "    if matching_audience:\n",
    "        half_combinations.extend([f\"{topic}-{audience.split('-')[0]}\" for audience in matching_audience])\n",
    "\n",
    "half_combinations.sort()\n",
    "print(half_combinations)"
   ],
   "metadata": {
    "collapsed": false,
    "ExecuteTime": {
     "end_time": "2023-11-25T00:56:02.258249Z",
     "start_time": "2023-11-25T00:56:02.204826Z"
    }
   },
   "id": "d57dd30e3e76f228"
  },
  {
   "cell_type": "code",
   "execution_count": 23,
   "outputs": [
    {
     "name": "stdout",
     "output_type": "stream",
     "text": [
      "          System  Y  E  M\n",
      "0             PC  1  2  3\n",
      "1            G64  1  2  3\n",
      "2            TES  3  2 -3\n",
      "3       Master V  2  3 -2\n",
      "4       Gameling  3  2 -3\n",
      "5      Vena Gear  2  3  1\n",
      "6     Vena Oasis  1  3  2\n",
      "7      Super TES  3  2 -2\n",
      "8     Playsystem  1  3  2\n",
      "9         TES 64  3  2  2\n",
      "10     DreamVast -2  3  3\n",
      "11  Playsystem 2  2  3  1\n",
      "12          mBox  1  3  2\n",
      "13   Game Sphere  2  2  1\n",
      "14            GS  3  2  1\n",
      "15           PPS  1  2  3\n",
      "16      mBox 360  1  2  3\n",
      "17           Nuu  3  3 -2\n",
      "18  Playsystem 3  1  3  2\n",
      "19       grPhone  2  3 -3\n",
      "20         grPad  2  3 -3\n",
      "21          mPad -2  2  1\n",
      "22           Wuu  2  3 -2\n",
      "23           OYA  1  3  2\n",
      "24      mBox One -2  3  1\n",
      "25  Playsystem 4  1  3  2\n",
      "26     mBox Next  2  3  1\n",
      "27  Playsystem 5  1  3  2\n"
     ]
    }
   ],
   "source": [
    "systems_audience = systems_audience.drop(systems_audience.columns[0],axis=1)\n",
    "print(systems_audience)"
   ],
   "metadata": {
    "collapsed": false,
    "ExecuteTime": {
     "end_time": "2023-11-25T00:56:19.754246Z",
     "start_time": "2023-11-25T00:56:19.729708Z"
    }
   },
   "id": "6a98de8194222128"
  },
  {
   "cell_type": "code",
   "execution_count": 24,
   "outputs": [
    {
     "name": "stdout",
     "output_type": "stream",
     "text": [
      "['E-DreamVast', 'E-Master V', 'E-Nuu', 'E-OYA', 'E-Playsystem', 'E-Playsystem 2', 'E-Playsystem 3', 'E-Playsystem 4', 'E-Playsystem 5', 'E-Vena Gear', 'E-Vena Oasis', 'E-Wuu', 'E-grPad', 'E-grPhone', 'E-mBox', 'E-mBox Next', 'E-mBox One', 'M-DreamVast', 'M-G64', 'M-PC', 'M-PPS', 'M-mBox 360', 'Y-GS', 'Y-Gameling', 'Y-Nuu', 'Y-Super TES', 'Y-TES', 'Y-TES 64']\n"
     ]
    }
   ],
   "source": [
    "sys_audience_comb = [\n",
    "    f\"{systems_audience.columns[j]}-{systems_audience.iloc[i, 0]}\"\n",
    "    for i in range(len(systems_audience))\n",
    "    for j in range(1, len(systems_audience.columns))\n",
    "    if systems_audience.iloc[i, j] == 3\n",
    "]\n",
    "\n",
    "sys_audience_comb.sort()\n",
    "print(sys_audience_comb)"
   ],
   "metadata": {
    "collapsed": false,
    "ExecuteTime": {
     "end_time": "2023-11-25T00:57:59.870439Z",
     "start_time": "2023-11-25T00:57:59.842261Z"
    }
   },
   "id": "27cf646ac2d3f9b6"
  },
  {
   "cell_type": "code",
   "execution_count": 27,
   "outputs": [
    {
     "name": "stdout",
     "output_type": "stream",
     "text": [
      "['DreamVast-Action-Airplane-E', 'DreamVast-Action-Aliens-E', 'DreamVast-Action-Aliens-M', 'DreamVast-Action-AlternateHistory-E', 'DreamVast-Action-AlternateHistory-M', 'DreamVast-Action-Assassin-M', 'DreamVast-Action-Crime-M', 'DreamVast-Action-Cyberpunk-M', 'DreamVast-Action-Dungeon-E', 'DreamVast-Action-Dungeon-M', 'DreamVast-Action-ExtremeSports-M', 'DreamVast-Action-Fantasy-E', 'DreamVast-Action-Fantasy-M', 'DreamVast-Action-Horror-M', 'DreamVast-Action-Hunting-E', 'DreamVast-Action-MartialArts-M', 'DreamVast-Action-Medieval-E', 'DreamVast-Action-Military-M', 'DreamVast-Action-Mythology-E', 'DreamVast-Action-Mythology-M', 'DreamVast-Action-PostApocalyptic-M', 'DreamVast-Action-Prison-M', 'DreamVast-Action-ScienceFiction-E', 'DreamVast-Action-ScienceFiction-M', 'DreamVast-Action-Space-E', 'DreamVast-Action-Space-M', 'DreamVast-Action-Sports*-E', 'DreamVast-Action-Spy-M', 'DreamVast-Action-Superheroes-E', 'DreamVast-Action-Superheroes-M', 'DreamVast-Action-UFO-E', 'DreamVast-Action-Vampire-E', 'DreamVast-Action-Vampire-M', 'DreamVast-Action-Werewolf-M', 'DreamVast-Action-Zombies-M', 'DreamVast-Adventure-Abstract-M', 'DreamVast-Adventure-Comedy-M', 'DreamVast-Adventure-Detective*-E', 'DreamVast-Adventure-Fantasy-E', 'DreamVast-Adventure-Fantasy-M', 'DreamVast-Adventure-Horror-M', 'DreamVast-Adventure-Law*-E', 'DreamVast-Adventure-Life-E', 'DreamVast-Adventure-MadScience-M', 'DreamVast-Adventure-Medieval-E', 'DreamVast-Adventure-Mystery*-M', 'DreamVast-Adventure-Pirate-E', 'DreamVast-Adventure-Prison-M', 'DreamVast-Adventure-Romance-E', 'DreamVast-Adventure-Romance-M', 'DreamVast-Adventure-ScienceFiction-E', 'DreamVast-Adventure-ScienceFiction-M', 'DreamVast-Adventure-Spy-M', 'DreamVast-Adventure-TimeTravel-E', 'DreamVast-Casual-Airplane-E', 'DreamVast-Casual-Comedy-M', 'DreamVast-Casual-Cooking-E', 'DreamVast-Casual-Farming-E', 'DreamVast-Casual-MartialArts-M', 'DreamVast-Casual-Movies-E', 'DreamVast-Casual-Racing*-E', 'DreamVast-Casual-Sports*-E', 'DreamVast-Casual-Vocabulary-E', 'DreamVast-Casual-Zombies-M', 'DreamVast-RPG-Aliens-E', 'DreamVast-RPG-Aliens-M', 'DreamVast-RPG-AlternateHistory-E', 'DreamVast-RPG-AlternateHistory-M', 'DreamVast-RPG-Assassin-M', 'DreamVast-RPG-Cyberpunk-M', 'DreamVast-RPG-Detective*-E', 'DreamVast-RPG-Dungeon-E', 'DreamVast-RPG-Dungeon-M', 'DreamVast-RPG-Fantasy-E', 'DreamVast-RPG-Fantasy-M', 'DreamVast-RPG-MartialArts-M', 'DreamVast-RPG-Medieval-E', 'DreamVast-RPG-Mystery*-M', 'DreamVast-RPG-PostApocalyptic-M', 'DreamVast-RPG-ScienceFiction-E', 'DreamVast-RPG-ScienceFiction-M', 'DreamVast-RPG-Spy-M', 'DreamVast-RPG-Thief-E', 'DreamVast-RPG-Thief-M', 'DreamVast-RPG-TimeTravel-E', 'DreamVast-RPG-Vampire-E', 'DreamVast-RPG-Vampire-M', 'DreamVast-RPG-Werewolf-M', 'DreamVast-RPG-WildWest-M', 'DreamVast-Simulation-Airplane-E', 'DreamVast-Simulation-Business-E', 'DreamVast-Simulation-City-E', 'DreamVast-Simulation-Colonization-E', 'DreamVast-Simulation-Construction-E', 'DreamVast-Simulation-Cooking-E', 'DreamVast-Simulation-Disasters-M', 'DreamVast-Simulation-Dungeon-E', 'DreamVast-Simulation-Dungeon-M', 'DreamVast-Simulation-Dystopian-M', 'DreamVast-Simulation-Evolution-E', 'DreamVast-Simulation-ExtremeSports-M', 'DreamVast-Simulation-Farming-E', 'DreamVast-Simulation-GameDev-E', 'DreamVast-Simulation-Government-E', 'DreamVast-Simulation-Hacking-M', 'DreamVast-Simulation-History-E', 'DreamVast-Simulation-History-M', 'DreamVast-Simulation-Hospital-E', 'DreamVast-Simulation-Hunting-E', 'DreamVast-Simulation-Life-E', 'DreamVast-Simulation-MartialArts-M', 'DreamVast-Simulation-Military-M', 'DreamVast-Simulation-Movies-E', 'DreamVast-Simulation-Prison-M', 'DreamVast-Simulation-Racing*-E', 'DreamVast-Simulation-ScienceFiction-E', 'DreamVast-Simulation-ScienceFiction-M', 'DreamVast-Simulation-Space-E', 'DreamVast-Simulation-Space-M', 'DreamVast-Simulation-Sports*-E', 'DreamVast-Simulation-Surgery-E', 'DreamVast-Simulation-Technology-E', 'DreamVast-Simulation-Transport-E', 'DreamVast-Simulation-Vocabulary-E', 'DreamVast-Strategy-Airplane-E', 'DreamVast-Strategy-Business-E', 'DreamVast-Strategy-City-E', 'DreamVast-Strategy-Colonization-E', 'DreamVast-Strategy-Disasters-M', 'DreamVast-Strategy-Dungeon-E', 'DreamVast-Strategy-Dungeon-M', 'DreamVast-Strategy-Evolution-E', 'DreamVast-Strategy-Expedition-E', 'DreamVast-Strategy-Fantasy-E', 'DreamVast-Strategy-Fantasy-M', 'DreamVast-Strategy-Government-E', 'DreamVast-Strategy-Hacking-M', 'DreamVast-Strategy-History-E', 'DreamVast-Strategy-History-M', 'DreamVast-Strategy-Medieval-E', 'DreamVast-Strategy-Military-M', 'DreamVast-Strategy-ScienceFiction-E', 'DreamVast-Strategy-ScienceFiction-M', 'DreamVast-Strategy-Space-E', 'DreamVast-Strategy-Space-M', 'DreamVast-Strategy-Transport-E', 'DreamVast-Strategy-UFO-E', 'DreamVast-Strategy-Vocabulary-E', 'G64-Action-Aliens-M', 'G64-Action-AlternateHistory-M', 'G64-Action-Assassin-M', 'G64-Action-Crime-M', 'G64-Action-Cyberpunk-M', 'G64-Action-Dungeon-M', 'G64-Action-ExtremeSports-M', 'G64-Action-Fantasy-M', 'G64-Action-Horror-M', 'G64-Action-MartialArts-M', 'G64-Action-Military-M', 'G64-Action-Mythology-M', 'G64-Action-PostApocalyptic-M', 'G64-Action-Prison-M', 'G64-Action-ScienceFiction-M', 'G64-Action-Space-M', 'G64-Action-Spy-M', 'G64-Action-Superheroes-M', 'G64-Action-Vampire-M', 'G64-Action-Werewolf-M', 'G64-Action-Zombies-M', 'G64-Adventure-Abstract-M', 'G64-Adventure-Comedy-M', 'G64-Adventure-Fantasy-M', 'G64-Adventure-Horror-M', 'G64-Adventure-MadScience-M', 'G64-Adventure-Mystery*-M', 'G64-Adventure-Prison-M', 'G64-Adventure-Romance-M', 'G64-Adventure-ScienceFiction-M', 'G64-Adventure-Spy-M', 'G64-Casual-Comedy-M', 'G64-Casual-MartialArts-M', 'G64-Casual-Zombies-M', 'G64-RPG-Aliens-M', 'G64-RPG-AlternateHistory-M', 'G64-RPG-Assassin-M', 'G64-RPG-Cyberpunk-M', 'G64-RPG-Dungeon-M', 'G64-RPG-Fantasy-M', 'G64-RPG-MartialArts-M', 'G64-RPG-Mystery*-M', 'G64-RPG-PostApocalyptic-M', 'G64-RPG-ScienceFiction-M', 'G64-RPG-Spy-M', 'G64-RPG-Thief-M', 'G64-RPG-Vampire-M', 'G64-RPG-Werewolf-M', 'G64-RPG-WildWest-M', 'G64-Simulation-Disasters-M', 'G64-Simulation-Dungeon-M', 'G64-Simulation-Dystopian-M', 'G64-Simulation-ExtremeSports-M', 'G64-Simulation-Hacking-M', 'G64-Simulation-History-M', 'G64-Simulation-MartialArts-M', 'G64-Simulation-Military-M', 'G64-Simulation-Prison-M', 'G64-Simulation-ScienceFiction-M', 'G64-Simulation-Space-M', 'G64-Strategy-Disasters-M', 'G64-Strategy-Dungeon-M', 'G64-Strategy-Fantasy-M', 'G64-Strategy-Hacking-M', 'G64-Strategy-History-M', 'G64-Strategy-Military-M', 'G64-Strategy-ScienceFiction-M', 'G64-Strategy-Space-M', 'GS-Action-Airplane-Y', 'GS-Action-ExtremeSports-Y', 'GS-Action-Fantasy-Y', 'GS-Action-Medieval-Y', 'GS-Action-Music*-Y', 'GS-Action-Ninja-Y', 'GS-Action-Rhythm*-Y', 'GS-Action-Sports*-Y', 'GS-Action-Superheroes-Y', 'GS-Adventure-Fantasy-Y', 'GS-Adventure-Life-Y', 'GS-Adventure-Medieval-Y', 'GS-Adventure-Pirate-Y', 'GS-Adventure-School-Y', 'GS-Casual-Airplane-Y', 'GS-Casual-Dance-Y', 'GS-Casual-Fashion-Y', 'GS-Casual-Music*-Y', 'GS-Casual-Racing*-Y', 'GS-Casual-Rhythm*-Y', 'GS-Casual-Sports*-Y', 'GS-Casual-VirtualPet-Y', 'GS-RPG-Fantasy-Y', 'GS-RPG-Fashion-Y', 'GS-RPG-Medieval-Y', 'GS-RPG-School-Y', 'GS-RPG-WildWest-Y', 'GS-Simulation-Airplane-Y', 'GS-Simulation-Dance-Y', 'GS-Simulation-ExtremeSports-Y', 'GS-Simulation-Fashion-Y', 'GS-Simulation-Life-Y', 'GS-Simulation-Music*-Y', 'GS-Simulation-Racing*-Y', 'GS-Simulation-Rhythm*-Y', 'GS-Simulation-School-Y', 'GS-Simulation-Sports*-Y', 'GS-Simulation-VirtualPet-Y', 'GS-Strategy-Airplane-Y', 'GS-Strategy-Fantasy-Y', 'GS-Strategy-Medieval-Y', 'GS-Strategy-School-Y', 'Gameling-Action-Airplane-Y', 'Gameling-Action-ExtremeSports-Y', 'Gameling-Action-Fantasy-Y', 'Gameling-Action-Medieval-Y', 'Gameling-Action-Music*-Y', 'Gameling-Action-Ninja-Y', 'Gameling-Action-Rhythm*-Y', 'Gameling-Action-Sports*-Y', 'Gameling-Action-Superheroes-Y', 'Gameling-Adventure-Fantasy-Y', 'Gameling-Adventure-Life-Y', 'Gameling-Adventure-Medieval-Y', 'Gameling-Adventure-Pirate-Y', 'Gameling-Adventure-School-Y', 'Gameling-Casual-Airplane-Y', 'Gameling-Casual-Dance-Y', 'Gameling-Casual-Fashion-Y', 'Gameling-Casual-Music*-Y', 'Gameling-Casual-Racing*-Y', 'Gameling-Casual-Rhythm*-Y', 'Gameling-Casual-Sports*-Y', 'Gameling-Casual-VirtualPet-Y', 'Gameling-RPG-Fantasy-Y', 'Gameling-RPG-Fashion-Y', 'Gameling-RPG-Medieval-Y', 'Gameling-RPG-School-Y', 'Gameling-RPG-WildWest-Y', 'Gameling-Simulation-Airplane-Y', 'Gameling-Simulation-Dance-Y', 'Gameling-Simulation-ExtremeSports-Y', 'Gameling-Simulation-Fashion-Y', 'Gameling-Simulation-Life-Y', 'Gameling-Simulation-Music*-Y', 'Gameling-Simulation-Racing*-Y', 'Gameling-Simulation-Rhythm*-Y', 'Gameling-Simulation-School-Y', 'Gameling-Simulation-Sports*-Y', 'Gameling-Simulation-VirtualPet-Y', 'Gameling-Strategy-Airplane-Y', 'Gameling-Strategy-Fantasy-Y', 'Gameling-Strategy-Medieval-Y', 'Gameling-Strategy-School-Y', 'Master V-Action-Airplane-E', 'Master V-Action-Aliens-E', 'Master V-Action-AlternateHistory-E', 'Master V-Action-Dungeon-E', 'Master V-Action-Fantasy-E', 'Master V-Action-Hunting-E', 'Master V-Action-Medieval-E', 'Master V-Action-Mythology-E', 'Master V-Action-ScienceFiction-E', 'Master V-Action-Space-E', 'Master V-Action-Sports*-E', 'Master V-Action-Superheroes-E', 'Master V-Action-UFO-E', 'Master V-Action-Vampire-E', 'Master V-Adventure-Detective*-E', 'Master V-Adventure-Fantasy-E', 'Master V-Adventure-Law*-E', 'Master V-Adventure-Life-E', 'Master V-Adventure-Medieval-E', 'Master V-Adventure-Pirate-E', 'Master V-Adventure-Romance-E', 'Master V-Adventure-ScienceFiction-E', 'Master V-Adventure-TimeTravel-E', 'Master V-Casual-Airplane-E', 'Master V-Casual-Cooking-E', 'Master V-Casual-Farming-E', 'Master V-Casual-Movies-E', 'Master V-Casual-Racing*-E', 'Master V-Casual-Sports*-E', 'Master V-Casual-Vocabulary-E', 'Master V-RPG-Aliens-E', 'Master V-RPG-AlternateHistory-E', 'Master V-RPG-Detective*-E', 'Master V-RPG-Dungeon-E', 'Master V-RPG-Fantasy-E', 'Master V-RPG-Medieval-E', 'Master V-RPG-ScienceFiction-E', 'Master V-RPG-Thief-E', 'Master V-RPG-TimeTravel-E', 'Master V-RPG-Vampire-E', 'Master V-Simulation-Airplane-E', 'Master V-Simulation-Business-E', 'Master V-Simulation-City-E', 'Master V-Simulation-Colonization-E', 'Master V-Simulation-Construction-E', 'Master V-Simulation-Cooking-E', 'Master V-Simulation-Dungeon-E', 'Master V-Simulation-Evolution-E', 'Master V-Simulation-Farming-E', 'Master V-Simulation-GameDev-E', 'Master V-Simulation-Government-E', 'Master V-Simulation-History-E', 'Master V-Simulation-Hospital-E', 'Master V-Simulation-Hunting-E', 'Master V-Simulation-Life-E', 'Master V-Simulation-Movies-E', 'Master V-Simulation-Racing*-E', 'Master V-Simulation-ScienceFiction-E', 'Master V-Simulation-Space-E', 'Master V-Simulation-Sports*-E', 'Master V-Simulation-Surgery-E', 'Master V-Simulation-Technology-E', 'Master V-Simulation-Transport-E', 'Master V-Simulation-Vocabulary-E', 'Master V-Strategy-Airplane-E', 'Master V-Strategy-Business-E', 'Master V-Strategy-City-E', 'Master V-Strategy-Colonization-E', 'Master V-Strategy-Dungeon-E', 'Master V-Strategy-Evolution-E', 'Master V-Strategy-Expedition-E', 'Master V-Strategy-Fantasy-E', 'Master V-Strategy-Government-E', 'Master V-Strategy-History-E', 'Master V-Strategy-Medieval-E', 'Master V-Strategy-ScienceFiction-E', 'Master V-Strategy-Space-E', 'Master V-Strategy-Transport-E', 'Master V-Strategy-UFO-E', 'Master V-Strategy-Vocabulary-E', 'Nuu-Action-Airplane-E', 'Nuu-Action-Airplane-Y', 'Nuu-Action-Aliens-E', 'Nuu-Action-AlternateHistory-E', 'Nuu-Action-Dungeon-E', 'Nuu-Action-ExtremeSports-Y', 'Nuu-Action-Fantasy-E', 'Nuu-Action-Fantasy-Y', 'Nuu-Action-Hunting-E', 'Nuu-Action-Medieval-E', 'Nuu-Action-Medieval-Y', 'Nuu-Action-Music*-Y', 'Nuu-Action-Mythology-E', 'Nuu-Action-Ninja-Y', 'Nuu-Action-Rhythm*-Y', 'Nuu-Action-ScienceFiction-E', 'Nuu-Action-Space-E', 'Nuu-Action-Sports*-E', 'Nuu-Action-Sports*-Y', 'Nuu-Action-Superheroes-E', 'Nuu-Action-Superheroes-Y', 'Nuu-Action-UFO-E', 'Nuu-Action-Vampire-E', 'Nuu-Adventure-Detective*-E', 'Nuu-Adventure-Fantasy-E', 'Nuu-Adventure-Fantasy-Y', 'Nuu-Adventure-Law*-E', 'Nuu-Adventure-Life-E', 'Nuu-Adventure-Life-Y', 'Nuu-Adventure-Medieval-E', 'Nuu-Adventure-Medieval-Y', 'Nuu-Adventure-Pirate-E', 'Nuu-Adventure-Pirate-Y', 'Nuu-Adventure-Romance-E', 'Nuu-Adventure-School-Y', 'Nuu-Adventure-ScienceFiction-E', 'Nuu-Adventure-TimeTravel-E', 'Nuu-Casual-Airplane-E', 'Nuu-Casual-Airplane-Y', 'Nuu-Casual-Cooking-E', 'Nuu-Casual-Dance-Y', 'Nuu-Casual-Farming-E', 'Nuu-Casual-Fashion-Y', 'Nuu-Casual-Movies-E', 'Nuu-Casual-Music*-Y', 'Nuu-Casual-Racing*-E', 'Nuu-Casual-Racing*-Y', 'Nuu-Casual-Rhythm*-Y', 'Nuu-Casual-Sports*-E', 'Nuu-Casual-Sports*-Y', 'Nuu-Casual-VirtualPet-Y', 'Nuu-Casual-Vocabulary-E', 'Nuu-RPG-Aliens-E', 'Nuu-RPG-AlternateHistory-E', 'Nuu-RPG-Detective*-E', 'Nuu-RPG-Dungeon-E', 'Nuu-RPG-Fantasy-E', 'Nuu-RPG-Fantasy-Y', 'Nuu-RPG-Fashion-Y', 'Nuu-RPG-Medieval-E', 'Nuu-RPG-Medieval-Y', 'Nuu-RPG-School-Y', 'Nuu-RPG-ScienceFiction-E', 'Nuu-RPG-Thief-E', 'Nuu-RPG-TimeTravel-E', 'Nuu-RPG-Vampire-E', 'Nuu-RPG-WildWest-Y', 'Nuu-Simulation-Airplane-E', 'Nuu-Simulation-Airplane-Y', 'Nuu-Simulation-Business-E', 'Nuu-Simulation-City-E', 'Nuu-Simulation-Colonization-E', 'Nuu-Simulation-Construction-E', 'Nuu-Simulation-Cooking-E', 'Nuu-Simulation-Dance-Y', 'Nuu-Simulation-Dungeon-E', 'Nuu-Simulation-Evolution-E', 'Nuu-Simulation-ExtremeSports-Y', 'Nuu-Simulation-Farming-E', 'Nuu-Simulation-Fashion-Y', 'Nuu-Simulation-GameDev-E', 'Nuu-Simulation-Government-E', 'Nuu-Simulation-History-E', 'Nuu-Simulation-Hospital-E', 'Nuu-Simulation-Hunting-E', 'Nuu-Simulation-Life-E', 'Nuu-Simulation-Life-Y', 'Nuu-Simulation-Movies-E', 'Nuu-Simulation-Music*-Y', 'Nuu-Simulation-Racing*-E', 'Nuu-Simulation-Racing*-Y', 'Nuu-Simulation-Rhythm*-Y', 'Nuu-Simulation-School-Y', 'Nuu-Simulation-ScienceFiction-E', 'Nuu-Simulation-Space-E', 'Nuu-Simulation-Sports*-E', 'Nuu-Simulation-Sports*-Y', 'Nuu-Simulation-Surgery-E', 'Nuu-Simulation-Technology-E', 'Nuu-Simulation-Transport-E', 'Nuu-Simulation-VirtualPet-Y', 'Nuu-Simulation-Vocabulary-E', 'Nuu-Strategy-Airplane-E', 'Nuu-Strategy-Airplane-Y', 'Nuu-Strategy-Business-E', 'Nuu-Strategy-City-E', 'Nuu-Strategy-Colonization-E', 'Nuu-Strategy-Dungeon-E', 'Nuu-Strategy-Evolution-E', 'Nuu-Strategy-Expedition-E', 'Nuu-Strategy-Fantasy-E', 'Nuu-Strategy-Fantasy-Y', 'Nuu-Strategy-Government-E', 'Nuu-Strategy-History-E', 'Nuu-Strategy-Medieval-E', 'Nuu-Strategy-Medieval-Y', 'Nuu-Strategy-School-Y', 'Nuu-Strategy-ScienceFiction-E', 'Nuu-Strategy-Space-E', 'Nuu-Strategy-Transport-E', 'Nuu-Strategy-UFO-E', 'Nuu-Strategy-Vocabulary-E', 'OYA-Action-Airplane-E', 'OYA-Action-Aliens-E', 'OYA-Action-AlternateHistory-E', 'OYA-Action-Dungeon-E', 'OYA-Action-Fantasy-E', 'OYA-Action-Hunting-E', 'OYA-Action-Medieval-E', 'OYA-Action-Mythology-E', 'OYA-Action-ScienceFiction-E', 'OYA-Action-Space-E', 'OYA-Action-Sports*-E', 'OYA-Action-Superheroes-E', 'OYA-Action-UFO-E', 'OYA-Action-Vampire-E', 'OYA-Adventure-Detective*-E', 'OYA-Adventure-Fantasy-E', 'OYA-Adventure-Law*-E', 'OYA-Adventure-Life-E', 'OYA-Adventure-Medieval-E', 'OYA-Adventure-Pirate-E', 'OYA-Adventure-Romance-E', 'OYA-Adventure-ScienceFiction-E', 'OYA-Adventure-TimeTravel-E', 'OYA-Casual-Airplane-E', 'OYA-Casual-Cooking-E', 'OYA-Casual-Farming-E', 'OYA-Casual-Movies-E', 'OYA-Casual-Racing*-E', 'OYA-Casual-Sports*-E', 'OYA-Casual-Vocabulary-E', 'OYA-RPG-Aliens-E', 'OYA-RPG-AlternateHistory-E', 'OYA-RPG-Detective*-E', 'OYA-RPG-Dungeon-E', 'OYA-RPG-Fantasy-E', 'OYA-RPG-Medieval-E', 'OYA-RPG-ScienceFiction-E', 'OYA-RPG-Thief-E', 'OYA-RPG-TimeTravel-E', 'OYA-RPG-Vampire-E', 'OYA-Simulation-Airplane-E', 'OYA-Simulation-Business-E', 'OYA-Simulation-City-E', 'OYA-Simulation-Colonization-E', 'OYA-Simulation-Construction-E', 'OYA-Simulation-Cooking-E', 'OYA-Simulation-Dungeon-E', 'OYA-Simulation-Evolution-E', 'OYA-Simulation-Farming-E', 'OYA-Simulation-GameDev-E', 'OYA-Simulation-Government-E', 'OYA-Simulation-History-E', 'OYA-Simulation-Hospital-E', 'OYA-Simulation-Hunting-E', 'OYA-Simulation-Life-E', 'OYA-Simulation-Movies-E', 'OYA-Simulation-Racing*-E', 'OYA-Simulation-ScienceFiction-E', 'OYA-Simulation-Space-E', 'OYA-Simulation-Sports*-E', 'OYA-Simulation-Surgery-E', 'OYA-Simulation-Technology-E', 'OYA-Simulation-Transport-E', 'OYA-Simulation-Vocabulary-E', 'OYA-Strategy-Airplane-E', 'OYA-Strategy-Business-E', 'OYA-Strategy-City-E', 'OYA-Strategy-Colonization-E', 'OYA-Strategy-Dungeon-E', 'OYA-Strategy-Evolution-E', 'OYA-Strategy-Expedition-E', 'OYA-Strategy-Fantasy-E', 'OYA-Strategy-Government-E', 'OYA-Strategy-History-E', 'OYA-Strategy-Medieval-E', 'OYA-Strategy-ScienceFiction-E', 'OYA-Strategy-Space-E', 'OYA-Strategy-Transport-E', 'OYA-Strategy-UFO-E', 'OYA-Strategy-Vocabulary-E', 'PC-Action-Aliens-M', 'PC-Action-AlternateHistory-M', 'PC-Action-Assassin-M', 'PC-Action-Crime-M', 'PC-Action-Cyberpunk-M', 'PC-Action-Dungeon-M', 'PC-Action-ExtremeSports-M', 'PC-Action-Fantasy-M', 'PC-Action-Horror-M', 'PC-Action-MartialArts-M', 'PC-Action-Military-M', 'PC-Action-Mythology-M', 'PC-Action-PostApocalyptic-M', 'PC-Action-Prison-M', 'PC-Action-ScienceFiction-M', 'PC-Action-Space-M', 'PC-Action-Spy-M', 'PC-Action-Superheroes-M', 'PC-Action-Vampire-M', 'PC-Action-Werewolf-M', 'PC-Action-Zombies-M', 'PC-Adventure-Abstract-M', 'PC-Adventure-Comedy-M', 'PC-Adventure-Fantasy-M', 'PC-Adventure-Horror-M', 'PC-Adventure-MadScience-M', 'PC-Adventure-Mystery*-M', 'PC-Adventure-Prison-M', 'PC-Adventure-Romance-M', 'PC-Adventure-ScienceFiction-M', 'PC-Adventure-Spy-M', 'PC-Casual-Comedy-M', 'PC-Casual-MartialArts-M', 'PC-Casual-Zombies-M', 'PC-RPG-Aliens-M', 'PC-RPG-AlternateHistory-M', 'PC-RPG-Assassin-M', 'PC-RPG-Cyberpunk-M', 'PC-RPG-Dungeon-M', 'PC-RPG-Fantasy-M', 'PC-RPG-MartialArts-M', 'PC-RPG-Mystery*-M', 'PC-RPG-PostApocalyptic-M', 'PC-RPG-ScienceFiction-M', 'PC-RPG-Spy-M', 'PC-RPG-Thief-M', 'PC-RPG-Vampire-M', 'PC-RPG-Werewolf-M', 'PC-RPG-WildWest-M', 'PC-Simulation-Disasters-M', 'PC-Simulation-Dungeon-M', 'PC-Simulation-Dystopian-M', 'PC-Simulation-ExtremeSports-M', 'PC-Simulation-Hacking-M', 'PC-Simulation-History-M', 'PC-Simulation-MartialArts-M', 'PC-Simulation-Military-M', 'PC-Simulation-Prison-M', 'PC-Simulation-ScienceFiction-M', 'PC-Simulation-Space-M', 'PC-Strategy-Disasters-M', 'PC-Strategy-Dungeon-M', 'PC-Strategy-Fantasy-M', 'PC-Strategy-Hacking-M', 'PC-Strategy-History-M', 'PC-Strategy-Military-M', 'PC-Strategy-ScienceFiction-M', 'PC-Strategy-Space-M', 'PPS-Action-Aliens-M', 'PPS-Action-AlternateHistory-M', 'PPS-Action-Assassin-M', 'PPS-Action-Crime-M', 'PPS-Action-Cyberpunk-M', 'PPS-Action-Dungeon-M', 'PPS-Action-ExtremeSports-M', 'PPS-Action-Fantasy-M', 'PPS-Action-Horror-M', 'PPS-Action-MartialArts-M', 'PPS-Action-Military-M', 'PPS-Action-Mythology-M', 'PPS-Action-PostApocalyptic-M', 'PPS-Action-Prison-M', 'PPS-Action-ScienceFiction-M', 'PPS-Action-Space-M', 'PPS-Action-Spy-M', 'PPS-Action-Superheroes-M', 'PPS-Action-Vampire-M', 'PPS-Action-Werewolf-M', 'PPS-Action-Zombies-M', 'PPS-Adventure-Abstract-M', 'PPS-Adventure-Comedy-M', 'PPS-Adventure-Fantasy-M', 'PPS-Adventure-Horror-M', 'PPS-Adventure-MadScience-M', 'PPS-Adventure-Mystery*-M', 'PPS-Adventure-Prison-M', 'PPS-Adventure-Romance-M', 'PPS-Adventure-ScienceFiction-M', 'PPS-Adventure-Spy-M', 'PPS-Casual-Comedy-M', 'PPS-Casual-MartialArts-M', 'PPS-Casual-Zombies-M', 'PPS-RPG-Aliens-M', 'PPS-RPG-AlternateHistory-M', 'PPS-RPG-Assassin-M', 'PPS-RPG-Cyberpunk-M', 'PPS-RPG-Dungeon-M', 'PPS-RPG-Fantasy-M', 'PPS-RPG-MartialArts-M', 'PPS-RPG-Mystery*-M', 'PPS-RPG-PostApocalyptic-M', 'PPS-RPG-ScienceFiction-M', 'PPS-RPG-Spy-M', 'PPS-RPG-Thief-M', 'PPS-RPG-Vampire-M', 'PPS-RPG-Werewolf-M', 'PPS-RPG-WildWest-M', 'PPS-Simulation-Disasters-M', 'PPS-Simulation-Dungeon-M', 'PPS-Simulation-Dystopian-M', 'PPS-Simulation-ExtremeSports-M', 'PPS-Simulation-Hacking-M', 'PPS-Simulation-History-M', 'PPS-Simulation-MartialArts-M', 'PPS-Simulation-Military-M', 'PPS-Simulation-Prison-M', 'PPS-Simulation-ScienceFiction-M', 'PPS-Simulation-Space-M', 'PPS-Strategy-Disasters-M', 'PPS-Strategy-Dungeon-M', 'PPS-Strategy-Fantasy-M', 'PPS-Strategy-Hacking-M', 'PPS-Strategy-History-M', 'PPS-Strategy-Military-M', 'PPS-Strategy-ScienceFiction-M', 'PPS-Strategy-Space-M', 'Playsystem 2-Action-Airplane-E', 'Playsystem 2-Action-Aliens-E', 'Playsystem 2-Action-AlternateHistory-E', 'Playsystem 2-Action-Dungeon-E', 'Playsystem 2-Action-Fantasy-E', 'Playsystem 2-Action-Hunting-E', 'Playsystem 2-Action-Medieval-E', 'Playsystem 2-Action-Mythology-E', 'Playsystem 2-Action-ScienceFiction-E', 'Playsystem 2-Action-Space-E', 'Playsystem 2-Action-Sports*-E', 'Playsystem 2-Action-Superheroes-E', 'Playsystem 2-Action-UFO-E', 'Playsystem 2-Action-Vampire-E', 'Playsystem 2-Adventure-Detective*-E', 'Playsystem 2-Adventure-Fantasy-E', 'Playsystem 2-Adventure-Law*-E', 'Playsystem 2-Adventure-Life-E', 'Playsystem 2-Adventure-Medieval-E', 'Playsystem 2-Adventure-Pirate-E', 'Playsystem 2-Adventure-Romance-E', 'Playsystem 2-Adventure-ScienceFiction-E', 'Playsystem 2-Adventure-TimeTravel-E', 'Playsystem 2-Casual-Airplane-E', 'Playsystem 2-Casual-Cooking-E', 'Playsystem 2-Casual-Farming-E', 'Playsystem 2-Casual-Movies-E', 'Playsystem 2-Casual-Racing*-E', 'Playsystem 2-Casual-Sports*-E', 'Playsystem 2-Casual-Vocabulary-E', 'Playsystem 2-RPG-Aliens-E', 'Playsystem 2-RPG-AlternateHistory-E', 'Playsystem 2-RPG-Detective*-E', 'Playsystem 2-RPG-Dungeon-E', 'Playsystem 2-RPG-Fantasy-E', 'Playsystem 2-RPG-Medieval-E', 'Playsystem 2-RPG-ScienceFiction-E', 'Playsystem 2-RPG-Thief-E', 'Playsystem 2-RPG-TimeTravel-E', 'Playsystem 2-RPG-Vampire-E', 'Playsystem 2-Simulation-Airplane-E', 'Playsystem 2-Simulation-Business-E', 'Playsystem 2-Simulation-City-E', 'Playsystem 2-Simulation-Colonization-E', 'Playsystem 2-Simulation-Construction-E', 'Playsystem 2-Simulation-Cooking-E', 'Playsystem 2-Simulation-Dungeon-E', 'Playsystem 2-Simulation-Evolution-E', 'Playsystem 2-Simulation-Farming-E', 'Playsystem 2-Simulation-GameDev-E', 'Playsystem 2-Simulation-Government-E', 'Playsystem 2-Simulation-History-E', 'Playsystem 2-Simulation-Hospital-E', 'Playsystem 2-Simulation-Hunting-E', 'Playsystem 2-Simulation-Life-E', 'Playsystem 2-Simulation-Movies-E', 'Playsystem 2-Simulation-Racing*-E', 'Playsystem 2-Simulation-ScienceFiction-E', 'Playsystem 2-Simulation-Space-E', 'Playsystem 2-Simulation-Sports*-E', 'Playsystem 2-Simulation-Surgery-E', 'Playsystem 2-Simulation-Technology-E', 'Playsystem 2-Simulation-Transport-E', 'Playsystem 2-Simulation-Vocabulary-E', 'Playsystem 2-Strategy-Airplane-E', 'Playsystem 2-Strategy-Business-E', 'Playsystem 2-Strategy-City-E', 'Playsystem 2-Strategy-Colonization-E', 'Playsystem 2-Strategy-Dungeon-E', 'Playsystem 2-Strategy-Evolution-E', 'Playsystem 2-Strategy-Expedition-E', 'Playsystem 2-Strategy-Fantasy-E', 'Playsystem 2-Strategy-Government-E', 'Playsystem 2-Strategy-History-E', 'Playsystem 2-Strategy-Medieval-E', 'Playsystem 2-Strategy-ScienceFiction-E', 'Playsystem 2-Strategy-Space-E', 'Playsystem 2-Strategy-Transport-E', 'Playsystem 2-Strategy-UFO-E', 'Playsystem 2-Strategy-Vocabulary-E', 'Playsystem 3-Action-Airplane-E', 'Playsystem 3-Action-Aliens-E', 'Playsystem 3-Action-AlternateHistory-E', 'Playsystem 3-Action-Dungeon-E', 'Playsystem 3-Action-Fantasy-E', 'Playsystem 3-Action-Hunting-E', 'Playsystem 3-Action-Medieval-E', 'Playsystem 3-Action-Mythology-E', 'Playsystem 3-Action-ScienceFiction-E', 'Playsystem 3-Action-Space-E', 'Playsystem 3-Action-Sports*-E', 'Playsystem 3-Action-Superheroes-E', 'Playsystem 3-Action-UFO-E', 'Playsystem 3-Action-Vampire-E', 'Playsystem 3-Adventure-Detective*-E', 'Playsystem 3-Adventure-Fantasy-E', 'Playsystem 3-Adventure-Law*-E', 'Playsystem 3-Adventure-Life-E', 'Playsystem 3-Adventure-Medieval-E', 'Playsystem 3-Adventure-Pirate-E', 'Playsystem 3-Adventure-Romance-E', 'Playsystem 3-Adventure-ScienceFiction-E', 'Playsystem 3-Adventure-TimeTravel-E', 'Playsystem 3-Casual-Airplane-E', 'Playsystem 3-Casual-Cooking-E', 'Playsystem 3-Casual-Farming-E', 'Playsystem 3-Casual-Movies-E', 'Playsystem 3-Casual-Racing*-E', 'Playsystem 3-Casual-Sports*-E', 'Playsystem 3-Casual-Vocabulary-E', 'Playsystem 3-RPG-Aliens-E', 'Playsystem 3-RPG-AlternateHistory-E', 'Playsystem 3-RPG-Detective*-E', 'Playsystem 3-RPG-Dungeon-E', 'Playsystem 3-RPG-Fantasy-E', 'Playsystem 3-RPG-Medieval-E', 'Playsystem 3-RPG-ScienceFiction-E', 'Playsystem 3-RPG-Thief-E', 'Playsystem 3-RPG-TimeTravel-E', 'Playsystem 3-RPG-Vampire-E', 'Playsystem 3-Simulation-Airplane-E', 'Playsystem 3-Simulation-Business-E', 'Playsystem 3-Simulation-City-E', 'Playsystem 3-Simulation-Colonization-E', 'Playsystem 3-Simulation-Construction-E', 'Playsystem 3-Simulation-Cooking-E', 'Playsystem 3-Simulation-Dungeon-E', 'Playsystem 3-Simulation-Evolution-E', 'Playsystem 3-Simulation-Farming-E', 'Playsystem 3-Simulation-GameDev-E', 'Playsystem 3-Simulation-Government-E', 'Playsystem 3-Simulation-History-E', 'Playsystem 3-Simulation-Hospital-E', 'Playsystem 3-Simulation-Hunting-E', 'Playsystem 3-Simulation-Life-E', 'Playsystem 3-Simulation-Movies-E', 'Playsystem 3-Simulation-Racing*-E', 'Playsystem 3-Simulation-ScienceFiction-E', 'Playsystem 3-Simulation-Space-E', 'Playsystem 3-Simulation-Sports*-E', 'Playsystem 3-Simulation-Surgery-E', 'Playsystem 3-Simulation-Technology-E', 'Playsystem 3-Simulation-Transport-E', 'Playsystem 3-Simulation-Vocabulary-E', 'Playsystem 3-Strategy-Airplane-E', 'Playsystem 3-Strategy-Business-E', 'Playsystem 3-Strategy-City-E', 'Playsystem 3-Strategy-Colonization-E', 'Playsystem 3-Strategy-Dungeon-E', 'Playsystem 3-Strategy-Evolution-E', 'Playsystem 3-Strategy-Expedition-E', 'Playsystem 3-Strategy-Fantasy-E', 'Playsystem 3-Strategy-Government-E', 'Playsystem 3-Strategy-History-E', 'Playsystem 3-Strategy-Medieval-E', 'Playsystem 3-Strategy-ScienceFiction-E', 'Playsystem 3-Strategy-Space-E', 'Playsystem 3-Strategy-Transport-E', 'Playsystem 3-Strategy-UFO-E', 'Playsystem 3-Strategy-Vocabulary-E', 'Playsystem 4-Action-Airplane-E', 'Playsystem 4-Action-Aliens-E', 'Playsystem 4-Action-AlternateHistory-E', 'Playsystem 4-Action-Dungeon-E', 'Playsystem 4-Action-Fantasy-E', 'Playsystem 4-Action-Hunting-E', 'Playsystem 4-Action-Medieval-E', 'Playsystem 4-Action-Mythology-E', 'Playsystem 4-Action-ScienceFiction-E', 'Playsystem 4-Action-Space-E', 'Playsystem 4-Action-Sports*-E', 'Playsystem 4-Action-Superheroes-E', 'Playsystem 4-Action-UFO-E', 'Playsystem 4-Action-Vampire-E', 'Playsystem 4-Adventure-Detective*-E', 'Playsystem 4-Adventure-Fantasy-E', 'Playsystem 4-Adventure-Law*-E', 'Playsystem 4-Adventure-Life-E', 'Playsystem 4-Adventure-Medieval-E', 'Playsystem 4-Adventure-Pirate-E', 'Playsystem 4-Adventure-Romance-E', 'Playsystem 4-Adventure-ScienceFiction-E', 'Playsystem 4-Adventure-TimeTravel-E', 'Playsystem 4-Casual-Airplane-E', 'Playsystem 4-Casual-Cooking-E', 'Playsystem 4-Casual-Farming-E', 'Playsystem 4-Casual-Movies-E', 'Playsystem 4-Casual-Racing*-E', 'Playsystem 4-Casual-Sports*-E', 'Playsystem 4-Casual-Vocabulary-E', 'Playsystem 4-RPG-Aliens-E', 'Playsystem 4-RPG-AlternateHistory-E', 'Playsystem 4-RPG-Detective*-E', 'Playsystem 4-RPG-Dungeon-E', 'Playsystem 4-RPG-Fantasy-E', 'Playsystem 4-RPG-Medieval-E', 'Playsystem 4-RPG-ScienceFiction-E', 'Playsystem 4-RPG-Thief-E', 'Playsystem 4-RPG-TimeTravel-E', 'Playsystem 4-RPG-Vampire-E', 'Playsystem 4-Simulation-Airplane-E', 'Playsystem 4-Simulation-Business-E', 'Playsystem 4-Simulation-City-E', 'Playsystem 4-Simulation-Colonization-E', 'Playsystem 4-Simulation-Construction-E', 'Playsystem 4-Simulation-Cooking-E', 'Playsystem 4-Simulation-Dungeon-E', 'Playsystem 4-Simulation-Evolution-E', 'Playsystem 4-Simulation-Farming-E', 'Playsystem 4-Simulation-GameDev-E', 'Playsystem 4-Simulation-Government-E', 'Playsystem 4-Simulation-History-E', 'Playsystem 4-Simulation-Hospital-E', 'Playsystem 4-Simulation-Hunting-E', 'Playsystem 4-Simulation-Life-E', 'Playsystem 4-Simulation-Movies-E', 'Playsystem 4-Simulation-Racing*-E', 'Playsystem 4-Simulation-ScienceFiction-E', 'Playsystem 4-Simulation-Space-E', 'Playsystem 4-Simulation-Sports*-E', 'Playsystem 4-Simulation-Surgery-E', 'Playsystem 4-Simulation-Technology-E', 'Playsystem 4-Simulation-Transport-E', 'Playsystem 4-Simulation-Vocabulary-E', 'Playsystem 4-Strategy-Airplane-E', 'Playsystem 4-Strategy-Business-E', 'Playsystem 4-Strategy-City-E', 'Playsystem 4-Strategy-Colonization-E', 'Playsystem 4-Strategy-Dungeon-E', 'Playsystem 4-Strategy-Evolution-E', 'Playsystem 4-Strategy-Expedition-E', 'Playsystem 4-Strategy-Fantasy-E', 'Playsystem 4-Strategy-Government-E', 'Playsystem 4-Strategy-History-E', 'Playsystem 4-Strategy-Medieval-E', 'Playsystem 4-Strategy-ScienceFiction-E', 'Playsystem 4-Strategy-Space-E', 'Playsystem 4-Strategy-Transport-E', 'Playsystem 4-Strategy-UFO-E', 'Playsystem 4-Strategy-Vocabulary-E', 'Playsystem 5-Action-Airplane-E', 'Playsystem 5-Action-Aliens-E', 'Playsystem 5-Action-AlternateHistory-E', 'Playsystem 5-Action-Dungeon-E', 'Playsystem 5-Action-Fantasy-E', 'Playsystem 5-Action-Hunting-E', 'Playsystem 5-Action-Medieval-E', 'Playsystem 5-Action-Mythology-E', 'Playsystem 5-Action-ScienceFiction-E', 'Playsystem 5-Action-Space-E', 'Playsystem 5-Action-Sports*-E', 'Playsystem 5-Action-Superheroes-E', 'Playsystem 5-Action-UFO-E', 'Playsystem 5-Action-Vampire-E', 'Playsystem 5-Adventure-Detective*-E', 'Playsystem 5-Adventure-Fantasy-E', 'Playsystem 5-Adventure-Law*-E', 'Playsystem 5-Adventure-Life-E', 'Playsystem 5-Adventure-Medieval-E', 'Playsystem 5-Adventure-Pirate-E', 'Playsystem 5-Adventure-Romance-E', 'Playsystem 5-Adventure-ScienceFiction-E', 'Playsystem 5-Adventure-TimeTravel-E', 'Playsystem 5-Casual-Airplane-E', 'Playsystem 5-Casual-Cooking-E', 'Playsystem 5-Casual-Farming-E', 'Playsystem 5-Casual-Movies-E', 'Playsystem 5-Casual-Racing*-E', 'Playsystem 5-Casual-Sports*-E', 'Playsystem 5-Casual-Vocabulary-E', 'Playsystem 5-RPG-Aliens-E', 'Playsystem 5-RPG-AlternateHistory-E', 'Playsystem 5-RPG-Detective*-E', 'Playsystem 5-RPG-Dungeon-E', 'Playsystem 5-RPG-Fantasy-E', 'Playsystem 5-RPG-Medieval-E', 'Playsystem 5-RPG-ScienceFiction-E', 'Playsystem 5-RPG-Thief-E', 'Playsystem 5-RPG-TimeTravel-E', 'Playsystem 5-RPG-Vampire-E', 'Playsystem 5-Simulation-Airplane-E', 'Playsystem 5-Simulation-Business-E', 'Playsystem 5-Simulation-City-E', 'Playsystem 5-Simulation-Colonization-E', 'Playsystem 5-Simulation-Construction-E', 'Playsystem 5-Simulation-Cooking-E', 'Playsystem 5-Simulation-Dungeon-E', 'Playsystem 5-Simulation-Evolution-E', 'Playsystem 5-Simulation-Farming-E', 'Playsystem 5-Simulation-GameDev-E', 'Playsystem 5-Simulation-Government-E', 'Playsystem 5-Simulation-History-E', 'Playsystem 5-Simulation-Hospital-E', 'Playsystem 5-Simulation-Hunting-E', 'Playsystem 5-Simulation-Life-E', 'Playsystem 5-Simulation-Movies-E', 'Playsystem 5-Simulation-Racing*-E', 'Playsystem 5-Simulation-ScienceFiction-E', 'Playsystem 5-Simulation-Space-E', 'Playsystem 5-Simulation-Sports*-E', 'Playsystem 5-Simulation-Surgery-E', 'Playsystem 5-Simulation-Technology-E', 'Playsystem 5-Simulation-Transport-E', 'Playsystem 5-Simulation-Vocabulary-E', 'Playsystem 5-Strategy-Airplane-E', 'Playsystem 5-Strategy-Business-E', 'Playsystem 5-Strategy-City-E', 'Playsystem 5-Strategy-Colonization-E', 'Playsystem 5-Strategy-Dungeon-E', 'Playsystem 5-Strategy-Evolution-E', 'Playsystem 5-Strategy-Expedition-E', 'Playsystem 5-Strategy-Fantasy-E', 'Playsystem 5-Strategy-Government-E', 'Playsystem 5-Strategy-History-E', 'Playsystem 5-Strategy-Medieval-E', 'Playsystem 5-Strategy-ScienceFiction-E', 'Playsystem 5-Strategy-Space-E', 'Playsystem 5-Strategy-Transport-E', 'Playsystem 5-Strategy-UFO-E', 'Playsystem 5-Strategy-Vocabulary-E', 'Playsystem-Action-Airplane-E', 'Playsystem-Action-Aliens-E', 'Playsystem-Action-AlternateHistory-E', 'Playsystem-Action-Dungeon-E', 'Playsystem-Action-Fantasy-E', 'Playsystem-Action-Hunting-E', 'Playsystem-Action-Medieval-E', 'Playsystem-Action-Mythology-E', 'Playsystem-Action-ScienceFiction-E', 'Playsystem-Action-Space-E', 'Playsystem-Action-Sports*-E', 'Playsystem-Action-Superheroes-E', 'Playsystem-Action-UFO-E', 'Playsystem-Action-Vampire-E', 'Playsystem-Adventure-Detective*-E', 'Playsystem-Adventure-Fantasy-E', 'Playsystem-Adventure-Law*-E', 'Playsystem-Adventure-Life-E', 'Playsystem-Adventure-Medieval-E', 'Playsystem-Adventure-Pirate-E', 'Playsystem-Adventure-Romance-E', 'Playsystem-Adventure-ScienceFiction-E', 'Playsystem-Adventure-TimeTravel-E', 'Playsystem-Casual-Airplane-E', 'Playsystem-Casual-Cooking-E', 'Playsystem-Casual-Farming-E', 'Playsystem-Casual-Movies-E', 'Playsystem-Casual-Racing*-E', 'Playsystem-Casual-Sports*-E', 'Playsystem-Casual-Vocabulary-E', 'Playsystem-RPG-Aliens-E', 'Playsystem-RPG-AlternateHistory-E', 'Playsystem-RPG-Detective*-E', 'Playsystem-RPG-Dungeon-E', 'Playsystem-RPG-Fantasy-E', 'Playsystem-RPG-Medieval-E', 'Playsystem-RPG-ScienceFiction-E', 'Playsystem-RPG-Thief-E', 'Playsystem-RPG-TimeTravel-E', 'Playsystem-RPG-Vampire-E', 'Playsystem-Simulation-Airplane-E', 'Playsystem-Simulation-Business-E', 'Playsystem-Simulation-City-E', 'Playsystem-Simulation-Colonization-E', 'Playsystem-Simulation-Construction-E', 'Playsystem-Simulation-Cooking-E', 'Playsystem-Simulation-Dungeon-E', 'Playsystem-Simulation-Evolution-E', 'Playsystem-Simulation-Farming-E', 'Playsystem-Simulation-GameDev-E', 'Playsystem-Simulation-Government-E', 'Playsystem-Simulation-History-E', 'Playsystem-Simulation-Hospital-E', 'Playsystem-Simulation-Hunting-E', 'Playsystem-Simulation-Life-E', 'Playsystem-Simulation-Movies-E', 'Playsystem-Simulation-Racing*-E', 'Playsystem-Simulation-ScienceFiction-E', 'Playsystem-Simulation-Space-E', 'Playsystem-Simulation-Sports*-E', 'Playsystem-Simulation-Surgery-E', 'Playsystem-Simulation-Technology-E', 'Playsystem-Simulation-Transport-E', 'Playsystem-Simulation-Vocabulary-E', 'Playsystem-Strategy-Airplane-E', 'Playsystem-Strategy-Business-E', 'Playsystem-Strategy-City-E', 'Playsystem-Strategy-Colonization-E', 'Playsystem-Strategy-Dungeon-E', 'Playsystem-Strategy-Evolution-E', 'Playsystem-Strategy-Expedition-E', 'Playsystem-Strategy-Fantasy-E', 'Playsystem-Strategy-Government-E', 'Playsystem-Strategy-History-E', 'Playsystem-Strategy-Medieval-E', 'Playsystem-Strategy-ScienceFiction-E', 'Playsystem-Strategy-Space-E', 'Playsystem-Strategy-Transport-E', 'Playsystem-Strategy-UFO-E', 'Playsystem-Strategy-Vocabulary-E', 'Super TES-Action-Airplane-Y', 'Super TES-Action-ExtremeSports-Y', 'Super TES-Action-Fantasy-Y', 'Super TES-Action-Medieval-Y', 'Super TES-Action-Music*-Y', 'Super TES-Action-Ninja-Y', 'Super TES-Action-Rhythm*-Y', 'Super TES-Action-Sports*-Y', 'Super TES-Action-Superheroes-Y', 'Super TES-Adventure-Fantasy-Y', 'Super TES-Adventure-Life-Y', 'Super TES-Adventure-Medieval-Y', 'Super TES-Adventure-Pirate-Y', 'Super TES-Adventure-School-Y', 'Super TES-Casual-Airplane-Y', 'Super TES-Casual-Dance-Y', 'Super TES-Casual-Fashion-Y', 'Super TES-Casual-Music*-Y', 'Super TES-Casual-Racing*-Y', 'Super TES-Casual-Rhythm*-Y', 'Super TES-Casual-Sports*-Y', 'Super TES-Casual-VirtualPet-Y', 'Super TES-RPG-Fantasy-Y', 'Super TES-RPG-Fashion-Y', 'Super TES-RPG-Medieval-Y', 'Super TES-RPG-School-Y', 'Super TES-RPG-WildWest-Y', 'Super TES-Simulation-Airplane-Y', 'Super TES-Simulation-Dance-Y', 'Super TES-Simulation-ExtremeSports-Y', 'Super TES-Simulation-Fashion-Y', 'Super TES-Simulation-Life-Y', 'Super TES-Simulation-Music*-Y', 'Super TES-Simulation-Racing*-Y', 'Super TES-Simulation-Rhythm*-Y', 'Super TES-Simulation-School-Y', 'Super TES-Simulation-Sports*-Y', 'Super TES-Simulation-VirtualPet-Y', 'Super TES-Strategy-Airplane-Y', 'Super TES-Strategy-Fantasy-Y', 'Super TES-Strategy-Medieval-Y', 'Super TES-Strategy-School-Y', 'TES 64-Action-Airplane-Y', 'TES 64-Action-ExtremeSports-Y', 'TES 64-Action-Fantasy-Y', 'TES 64-Action-Medieval-Y', 'TES 64-Action-Music*-Y', 'TES 64-Action-Ninja-Y', 'TES 64-Action-Rhythm*-Y', 'TES 64-Action-Sports*-Y', 'TES 64-Action-Superheroes-Y', 'TES 64-Adventure-Fantasy-Y', 'TES 64-Adventure-Life-Y', 'TES 64-Adventure-Medieval-Y', 'TES 64-Adventure-Pirate-Y', 'TES 64-Adventure-School-Y', 'TES 64-Casual-Airplane-Y', 'TES 64-Casual-Dance-Y', 'TES 64-Casual-Fashion-Y', 'TES 64-Casual-Music*-Y', 'TES 64-Casual-Racing*-Y', 'TES 64-Casual-Rhythm*-Y', 'TES 64-Casual-Sports*-Y', 'TES 64-Casual-VirtualPet-Y', 'TES 64-RPG-Fantasy-Y', 'TES 64-RPG-Fashion-Y', 'TES 64-RPG-Medieval-Y', 'TES 64-RPG-School-Y', 'TES 64-RPG-WildWest-Y', 'TES 64-Simulation-Airplane-Y', 'TES 64-Simulation-Dance-Y', 'TES 64-Simulation-ExtremeSports-Y', 'TES 64-Simulation-Fashion-Y', 'TES 64-Simulation-Life-Y', 'TES 64-Simulation-Music*-Y', 'TES 64-Simulation-Racing*-Y', 'TES 64-Simulation-Rhythm*-Y', 'TES 64-Simulation-School-Y', 'TES 64-Simulation-Sports*-Y', 'TES 64-Simulation-VirtualPet-Y', 'TES 64-Strategy-Airplane-Y', 'TES 64-Strategy-Fantasy-Y', 'TES 64-Strategy-Medieval-Y', 'TES 64-Strategy-School-Y', 'TES-Action-Airplane-Y', 'TES-Action-ExtremeSports-Y', 'TES-Action-Fantasy-Y', 'TES-Action-Medieval-Y', 'TES-Action-Music*-Y', 'TES-Action-Ninja-Y', 'TES-Action-Rhythm*-Y', 'TES-Action-Sports*-Y', 'TES-Action-Superheroes-Y', 'TES-Adventure-Fantasy-Y', 'TES-Adventure-Life-Y', 'TES-Adventure-Medieval-Y', 'TES-Adventure-Pirate-Y', 'TES-Adventure-School-Y', 'TES-Casual-Airplane-Y', 'TES-Casual-Dance-Y', 'TES-Casual-Fashion-Y', 'TES-Casual-Music*-Y', 'TES-Casual-Racing*-Y', 'TES-Casual-Rhythm*-Y', 'TES-Casual-Sports*-Y', 'TES-Casual-VirtualPet-Y', 'TES-RPG-Fantasy-Y', 'TES-RPG-Fashion-Y', 'TES-RPG-Medieval-Y', 'TES-RPG-School-Y', 'TES-RPG-WildWest-Y', 'TES-Simulation-Airplane-Y', 'TES-Simulation-Dance-Y', 'TES-Simulation-ExtremeSports-Y', 'TES-Simulation-Fashion-Y', 'TES-Simulation-Life-Y', 'TES-Simulation-Music*-Y', 'TES-Simulation-Racing*-Y', 'TES-Simulation-Rhythm*-Y', 'TES-Simulation-School-Y', 'TES-Simulation-Sports*-Y', 'TES-Simulation-VirtualPet-Y', 'TES-Strategy-Airplane-Y', 'TES-Strategy-Fantasy-Y', 'TES-Strategy-Medieval-Y', 'TES-Strategy-School-Y', 'Vena Gear-Action-Airplane-E', 'Vena Gear-Action-Aliens-E', 'Vena Gear-Action-AlternateHistory-E', 'Vena Gear-Action-Dungeon-E', 'Vena Gear-Action-Fantasy-E', 'Vena Gear-Action-Hunting-E', 'Vena Gear-Action-Medieval-E', 'Vena Gear-Action-Mythology-E', 'Vena Gear-Action-ScienceFiction-E', 'Vena Gear-Action-Space-E', 'Vena Gear-Action-Sports*-E', 'Vena Gear-Action-Superheroes-E', 'Vena Gear-Action-UFO-E', 'Vena Gear-Action-Vampire-E', 'Vena Gear-Adventure-Detective*-E', 'Vena Gear-Adventure-Fantasy-E', 'Vena Gear-Adventure-Law*-E', 'Vena Gear-Adventure-Life-E', 'Vena Gear-Adventure-Medieval-E', 'Vena Gear-Adventure-Pirate-E', 'Vena Gear-Adventure-Romance-E', 'Vena Gear-Adventure-ScienceFiction-E', 'Vena Gear-Adventure-TimeTravel-E', 'Vena Gear-Casual-Airplane-E', 'Vena Gear-Casual-Cooking-E', 'Vena Gear-Casual-Farming-E', 'Vena Gear-Casual-Movies-E', 'Vena Gear-Casual-Racing*-E', 'Vena Gear-Casual-Sports*-E', 'Vena Gear-Casual-Vocabulary-E', 'Vena Gear-RPG-Aliens-E', 'Vena Gear-RPG-AlternateHistory-E', 'Vena Gear-RPG-Detective*-E', 'Vena Gear-RPG-Dungeon-E', 'Vena Gear-RPG-Fantasy-E', 'Vena Gear-RPG-Medieval-E', 'Vena Gear-RPG-ScienceFiction-E', 'Vena Gear-RPG-Thief-E', 'Vena Gear-RPG-TimeTravel-E', 'Vena Gear-RPG-Vampire-E', 'Vena Gear-Simulation-Airplane-E', 'Vena Gear-Simulation-Business-E', 'Vena Gear-Simulation-City-E', 'Vena Gear-Simulation-Colonization-E', 'Vena Gear-Simulation-Construction-E', 'Vena Gear-Simulation-Cooking-E', 'Vena Gear-Simulation-Dungeon-E', 'Vena Gear-Simulation-Evolution-E', 'Vena Gear-Simulation-Farming-E', 'Vena Gear-Simulation-GameDev-E', 'Vena Gear-Simulation-Government-E', 'Vena Gear-Simulation-History-E', 'Vena Gear-Simulation-Hospital-E', 'Vena Gear-Simulation-Hunting-E', 'Vena Gear-Simulation-Life-E', 'Vena Gear-Simulation-Movies-E', 'Vena Gear-Simulation-Racing*-E', 'Vena Gear-Simulation-ScienceFiction-E', 'Vena Gear-Simulation-Space-E', 'Vena Gear-Simulation-Sports*-E', 'Vena Gear-Simulation-Surgery-E', 'Vena Gear-Simulation-Technology-E', 'Vena Gear-Simulation-Transport-E', 'Vena Gear-Simulation-Vocabulary-E', 'Vena Gear-Strategy-Airplane-E', 'Vena Gear-Strategy-Business-E', 'Vena Gear-Strategy-City-E', 'Vena Gear-Strategy-Colonization-E', 'Vena Gear-Strategy-Dungeon-E', 'Vena Gear-Strategy-Evolution-E', 'Vena Gear-Strategy-Expedition-E', 'Vena Gear-Strategy-Fantasy-E', 'Vena Gear-Strategy-Government-E', 'Vena Gear-Strategy-History-E', 'Vena Gear-Strategy-Medieval-E', 'Vena Gear-Strategy-ScienceFiction-E', 'Vena Gear-Strategy-Space-E', 'Vena Gear-Strategy-Transport-E', 'Vena Gear-Strategy-UFO-E', 'Vena Gear-Strategy-Vocabulary-E', 'Vena Oasis-Action-Airplane-E', 'Vena Oasis-Action-Aliens-E', 'Vena Oasis-Action-AlternateHistory-E', 'Vena Oasis-Action-Dungeon-E', 'Vena Oasis-Action-Fantasy-E', 'Vena Oasis-Action-Hunting-E', 'Vena Oasis-Action-Medieval-E', 'Vena Oasis-Action-Mythology-E', 'Vena Oasis-Action-ScienceFiction-E', 'Vena Oasis-Action-Space-E', 'Vena Oasis-Action-Sports*-E', 'Vena Oasis-Action-Superheroes-E', 'Vena Oasis-Action-UFO-E', 'Vena Oasis-Action-Vampire-E', 'Vena Oasis-Adventure-Detective*-E', 'Vena Oasis-Adventure-Fantasy-E', 'Vena Oasis-Adventure-Law*-E', 'Vena Oasis-Adventure-Life-E', 'Vena Oasis-Adventure-Medieval-E', 'Vena Oasis-Adventure-Pirate-E', 'Vena Oasis-Adventure-Romance-E', 'Vena Oasis-Adventure-ScienceFiction-E', 'Vena Oasis-Adventure-TimeTravel-E', 'Vena Oasis-Casual-Airplane-E', 'Vena Oasis-Casual-Cooking-E', 'Vena Oasis-Casual-Farming-E', 'Vena Oasis-Casual-Movies-E', 'Vena Oasis-Casual-Racing*-E', 'Vena Oasis-Casual-Sports*-E', 'Vena Oasis-Casual-Vocabulary-E', 'Vena Oasis-RPG-Aliens-E', 'Vena Oasis-RPG-AlternateHistory-E', 'Vena Oasis-RPG-Detective*-E', 'Vena Oasis-RPG-Dungeon-E', 'Vena Oasis-RPG-Fantasy-E', 'Vena Oasis-RPG-Medieval-E', 'Vena Oasis-RPG-ScienceFiction-E', 'Vena Oasis-RPG-Thief-E', 'Vena Oasis-RPG-TimeTravel-E', 'Vena Oasis-RPG-Vampire-E', 'Vena Oasis-Simulation-Airplane-E', 'Vena Oasis-Simulation-Business-E', 'Vena Oasis-Simulation-City-E', 'Vena Oasis-Simulation-Colonization-E', 'Vena Oasis-Simulation-Construction-E', 'Vena Oasis-Simulation-Cooking-E', 'Vena Oasis-Simulation-Dungeon-E', 'Vena Oasis-Simulation-Evolution-E', 'Vena Oasis-Simulation-Farming-E', 'Vena Oasis-Simulation-GameDev-E', 'Vena Oasis-Simulation-Government-E', 'Vena Oasis-Simulation-History-E', 'Vena Oasis-Simulation-Hospital-E', 'Vena Oasis-Simulation-Hunting-E', 'Vena Oasis-Simulation-Life-E', 'Vena Oasis-Simulation-Movies-E', 'Vena Oasis-Simulation-Racing*-E', 'Vena Oasis-Simulation-ScienceFiction-E', 'Vena Oasis-Simulation-Space-E', 'Vena Oasis-Simulation-Sports*-E', 'Vena Oasis-Simulation-Surgery-E', 'Vena Oasis-Simulation-Technology-E', 'Vena Oasis-Simulation-Transport-E', 'Vena Oasis-Simulation-Vocabulary-E', 'Vena Oasis-Strategy-Airplane-E', 'Vena Oasis-Strategy-Business-E', 'Vena Oasis-Strategy-City-E', 'Vena Oasis-Strategy-Colonization-E', 'Vena Oasis-Strategy-Dungeon-E', 'Vena Oasis-Strategy-Evolution-E', 'Vena Oasis-Strategy-Expedition-E', 'Vena Oasis-Strategy-Fantasy-E', 'Vena Oasis-Strategy-Government-E', 'Vena Oasis-Strategy-History-E', 'Vena Oasis-Strategy-Medieval-E', 'Vena Oasis-Strategy-ScienceFiction-E', 'Vena Oasis-Strategy-Space-E', 'Vena Oasis-Strategy-Transport-E', 'Vena Oasis-Strategy-UFO-E', 'Vena Oasis-Strategy-Vocabulary-E', 'Wuu-Action-Airplane-E', 'Wuu-Action-Aliens-E', 'Wuu-Action-AlternateHistory-E', 'Wuu-Action-Dungeon-E', 'Wuu-Action-Fantasy-E', 'Wuu-Action-Hunting-E', 'Wuu-Action-Medieval-E', 'Wuu-Action-Mythology-E', 'Wuu-Action-ScienceFiction-E', 'Wuu-Action-Space-E', 'Wuu-Action-Sports*-E', 'Wuu-Action-Superheroes-E', 'Wuu-Action-UFO-E', 'Wuu-Action-Vampire-E', 'Wuu-Adventure-Detective*-E', 'Wuu-Adventure-Fantasy-E', 'Wuu-Adventure-Law*-E', 'Wuu-Adventure-Life-E', 'Wuu-Adventure-Medieval-E', 'Wuu-Adventure-Pirate-E', 'Wuu-Adventure-Romance-E', 'Wuu-Adventure-ScienceFiction-E', 'Wuu-Adventure-TimeTravel-E', 'Wuu-Casual-Airplane-E', 'Wuu-Casual-Cooking-E', 'Wuu-Casual-Farming-E', 'Wuu-Casual-Movies-E', 'Wuu-Casual-Racing*-E', 'Wuu-Casual-Sports*-E', 'Wuu-Casual-Vocabulary-E', 'Wuu-RPG-Aliens-E', 'Wuu-RPG-AlternateHistory-E', 'Wuu-RPG-Detective*-E', 'Wuu-RPG-Dungeon-E', 'Wuu-RPG-Fantasy-E', 'Wuu-RPG-Medieval-E', 'Wuu-RPG-ScienceFiction-E', 'Wuu-RPG-Thief-E', 'Wuu-RPG-TimeTravel-E', 'Wuu-RPG-Vampire-E', 'Wuu-Simulation-Airplane-E', 'Wuu-Simulation-Business-E', 'Wuu-Simulation-City-E', 'Wuu-Simulation-Colonization-E', 'Wuu-Simulation-Construction-E', 'Wuu-Simulation-Cooking-E', 'Wuu-Simulation-Dungeon-E', 'Wuu-Simulation-Evolution-E', 'Wuu-Simulation-Farming-E', 'Wuu-Simulation-GameDev-E', 'Wuu-Simulation-Government-E', 'Wuu-Simulation-History-E', 'Wuu-Simulation-Hospital-E', 'Wuu-Simulation-Hunting-E', 'Wuu-Simulation-Life-E', 'Wuu-Simulation-Movies-E', 'Wuu-Simulation-Racing*-E', 'Wuu-Simulation-ScienceFiction-E', 'Wuu-Simulation-Space-E', 'Wuu-Simulation-Sports*-E', 'Wuu-Simulation-Surgery-E', 'Wuu-Simulation-Technology-E', 'Wuu-Simulation-Transport-E', 'Wuu-Simulation-Vocabulary-E', 'Wuu-Strategy-Airplane-E', 'Wuu-Strategy-Business-E', 'Wuu-Strategy-City-E', 'Wuu-Strategy-Colonization-E', 'Wuu-Strategy-Dungeon-E', 'Wuu-Strategy-Evolution-E', 'Wuu-Strategy-Expedition-E', 'Wuu-Strategy-Fantasy-E', 'Wuu-Strategy-Government-E', 'Wuu-Strategy-History-E', 'Wuu-Strategy-Medieval-E', 'Wuu-Strategy-ScienceFiction-E', 'Wuu-Strategy-Space-E', 'Wuu-Strategy-Transport-E', 'Wuu-Strategy-UFO-E', 'Wuu-Strategy-Vocabulary-E', 'grPad-Action-Airplane-E', 'grPad-Action-Aliens-E', 'grPad-Action-AlternateHistory-E', 'grPad-Action-Dungeon-E', 'grPad-Action-Fantasy-E', 'grPad-Action-Hunting-E', 'grPad-Action-Medieval-E', 'grPad-Action-Mythology-E', 'grPad-Action-ScienceFiction-E', 'grPad-Action-Space-E', 'grPad-Action-Sports*-E', 'grPad-Action-Superheroes-E', 'grPad-Action-UFO-E', 'grPad-Action-Vampire-E', 'grPad-Adventure-Detective*-E', 'grPad-Adventure-Fantasy-E', 'grPad-Adventure-Law*-E', 'grPad-Adventure-Life-E', 'grPad-Adventure-Medieval-E', 'grPad-Adventure-Pirate-E', 'grPad-Adventure-Romance-E', 'grPad-Adventure-ScienceFiction-E', 'grPad-Adventure-TimeTravel-E', 'grPad-Casual-Airplane-E', 'grPad-Casual-Cooking-E', 'grPad-Casual-Farming-E', 'grPad-Casual-Movies-E', 'grPad-Casual-Racing*-E', 'grPad-Casual-Sports*-E', 'grPad-Casual-Vocabulary-E', 'grPad-RPG-Aliens-E', 'grPad-RPG-AlternateHistory-E', 'grPad-RPG-Detective*-E', 'grPad-RPG-Dungeon-E', 'grPad-RPG-Fantasy-E', 'grPad-RPG-Medieval-E', 'grPad-RPG-ScienceFiction-E', 'grPad-RPG-Thief-E', 'grPad-RPG-TimeTravel-E', 'grPad-RPG-Vampire-E', 'grPad-Simulation-Airplane-E', 'grPad-Simulation-Business-E', 'grPad-Simulation-City-E', 'grPad-Simulation-Colonization-E', 'grPad-Simulation-Construction-E', 'grPad-Simulation-Cooking-E', 'grPad-Simulation-Dungeon-E', 'grPad-Simulation-Evolution-E', 'grPad-Simulation-Farming-E', 'grPad-Simulation-GameDev-E', 'grPad-Simulation-Government-E', 'grPad-Simulation-History-E', 'grPad-Simulation-Hospital-E', 'grPad-Simulation-Hunting-E', 'grPad-Simulation-Life-E', 'grPad-Simulation-Movies-E', 'grPad-Simulation-Racing*-E', 'grPad-Simulation-ScienceFiction-E', 'grPad-Simulation-Space-E', 'grPad-Simulation-Sports*-E', 'grPad-Simulation-Surgery-E', 'grPad-Simulation-Technology-E', 'grPad-Simulation-Transport-E', 'grPad-Simulation-Vocabulary-E', 'grPad-Strategy-Airplane-E', 'grPad-Strategy-Business-E', 'grPad-Strategy-City-E', 'grPad-Strategy-Colonization-E', 'grPad-Strategy-Dungeon-E', 'grPad-Strategy-Evolution-E', 'grPad-Strategy-Expedition-E', 'grPad-Strategy-Fantasy-E', 'grPad-Strategy-Government-E', 'grPad-Strategy-History-E', 'grPad-Strategy-Medieval-E', 'grPad-Strategy-ScienceFiction-E', 'grPad-Strategy-Space-E', 'grPad-Strategy-Transport-E', 'grPad-Strategy-UFO-E', 'grPad-Strategy-Vocabulary-E', 'grPhone-Action-Airplane-E', 'grPhone-Action-Aliens-E', 'grPhone-Action-AlternateHistory-E', 'grPhone-Action-Dungeon-E', 'grPhone-Action-Fantasy-E', 'grPhone-Action-Hunting-E', 'grPhone-Action-Medieval-E', 'grPhone-Action-Mythology-E', 'grPhone-Action-ScienceFiction-E', 'grPhone-Action-Space-E', 'grPhone-Action-Sports*-E', 'grPhone-Action-Superheroes-E', 'grPhone-Action-UFO-E', 'grPhone-Action-Vampire-E', 'grPhone-Adventure-Detective*-E', 'grPhone-Adventure-Fantasy-E', 'grPhone-Adventure-Law*-E', 'grPhone-Adventure-Life-E', 'grPhone-Adventure-Medieval-E', 'grPhone-Adventure-Pirate-E', 'grPhone-Adventure-Romance-E', 'grPhone-Adventure-ScienceFiction-E', 'grPhone-Adventure-TimeTravel-E', 'grPhone-Casual-Airplane-E', 'grPhone-Casual-Cooking-E', 'grPhone-Casual-Farming-E', 'grPhone-Casual-Movies-E', 'grPhone-Casual-Racing*-E', 'grPhone-Casual-Sports*-E', 'grPhone-Casual-Vocabulary-E', 'grPhone-RPG-Aliens-E', 'grPhone-RPG-AlternateHistory-E', 'grPhone-RPG-Detective*-E', 'grPhone-RPG-Dungeon-E', 'grPhone-RPG-Fantasy-E', 'grPhone-RPG-Medieval-E', 'grPhone-RPG-ScienceFiction-E', 'grPhone-RPG-Thief-E', 'grPhone-RPG-TimeTravel-E', 'grPhone-RPG-Vampire-E', 'grPhone-Simulation-Airplane-E', 'grPhone-Simulation-Business-E', 'grPhone-Simulation-City-E', 'grPhone-Simulation-Colonization-E', 'grPhone-Simulation-Construction-E', 'grPhone-Simulation-Cooking-E', 'grPhone-Simulation-Dungeon-E', 'grPhone-Simulation-Evolution-E', 'grPhone-Simulation-Farming-E', 'grPhone-Simulation-GameDev-E', 'grPhone-Simulation-Government-E', 'grPhone-Simulation-History-E', 'grPhone-Simulation-Hospital-E', 'grPhone-Simulation-Hunting-E', 'grPhone-Simulation-Life-E', 'grPhone-Simulation-Movies-E', 'grPhone-Simulation-Racing*-E', 'grPhone-Simulation-ScienceFiction-E', 'grPhone-Simulation-Space-E', 'grPhone-Simulation-Sports*-E', 'grPhone-Simulation-Surgery-E', 'grPhone-Simulation-Technology-E', 'grPhone-Simulation-Transport-E', 'grPhone-Simulation-Vocabulary-E', 'grPhone-Strategy-Airplane-E', 'grPhone-Strategy-Business-E', 'grPhone-Strategy-City-E', 'grPhone-Strategy-Colonization-E', 'grPhone-Strategy-Dungeon-E', 'grPhone-Strategy-Evolution-E', 'grPhone-Strategy-Expedition-E', 'grPhone-Strategy-Fantasy-E', 'grPhone-Strategy-Government-E', 'grPhone-Strategy-History-E', 'grPhone-Strategy-Medieval-E', 'grPhone-Strategy-ScienceFiction-E', 'grPhone-Strategy-Space-E', 'grPhone-Strategy-Transport-E', 'grPhone-Strategy-UFO-E', 'grPhone-Strategy-Vocabulary-E', 'mBox 360-Action-Aliens-M', 'mBox 360-Action-AlternateHistory-M', 'mBox 360-Action-Assassin-M', 'mBox 360-Action-Crime-M', 'mBox 360-Action-Cyberpunk-M', 'mBox 360-Action-Dungeon-M', 'mBox 360-Action-ExtremeSports-M', 'mBox 360-Action-Fantasy-M', 'mBox 360-Action-Horror-M', 'mBox 360-Action-MartialArts-M', 'mBox 360-Action-Military-M', 'mBox 360-Action-Mythology-M', 'mBox 360-Action-PostApocalyptic-M', 'mBox 360-Action-Prison-M', 'mBox 360-Action-ScienceFiction-M', 'mBox 360-Action-Space-M', 'mBox 360-Action-Spy-M', 'mBox 360-Action-Superheroes-M', 'mBox 360-Action-Vampire-M', 'mBox 360-Action-Werewolf-M', 'mBox 360-Action-Zombies-M', 'mBox 360-Adventure-Abstract-M', 'mBox 360-Adventure-Comedy-M', 'mBox 360-Adventure-Fantasy-M', 'mBox 360-Adventure-Horror-M', 'mBox 360-Adventure-MadScience-M', 'mBox 360-Adventure-Mystery*-M', 'mBox 360-Adventure-Prison-M', 'mBox 360-Adventure-Romance-M', 'mBox 360-Adventure-ScienceFiction-M', 'mBox 360-Adventure-Spy-M', 'mBox 360-Casual-Comedy-M', 'mBox 360-Casual-MartialArts-M', 'mBox 360-Casual-Zombies-M', 'mBox 360-RPG-Aliens-M', 'mBox 360-RPG-AlternateHistory-M', 'mBox 360-RPG-Assassin-M', 'mBox 360-RPG-Cyberpunk-M', 'mBox 360-RPG-Dungeon-M', 'mBox 360-RPG-Fantasy-M', 'mBox 360-RPG-MartialArts-M', 'mBox 360-RPG-Mystery*-M', 'mBox 360-RPG-PostApocalyptic-M', 'mBox 360-RPG-ScienceFiction-M', 'mBox 360-RPG-Spy-M', 'mBox 360-RPG-Thief-M', 'mBox 360-RPG-Vampire-M', 'mBox 360-RPG-Werewolf-M', 'mBox 360-RPG-WildWest-M', 'mBox 360-Simulation-Disasters-M', 'mBox 360-Simulation-Dungeon-M', 'mBox 360-Simulation-Dystopian-M', 'mBox 360-Simulation-ExtremeSports-M', 'mBox 360-Simulation-Hacking-M', 'mBox 360-Simulation-History-M', 'mBox 360-Simulation-MartialArts-M', 'mBox 360-Simulation-Military-M', 'mBox 360-Simulation-Prison-M', 'mBox 360-Simulation-ScienceFiction-M', 'mBox 360-Simulation-Space-M', 'mBox 360-Strategy-Disasters-M', 'mBox 360-Strategy-Dungeon-M', 'mBox 360-Strategy-Fantasy-M', 'mBox 360-Strategy-Hacking-M', 'mBox 360-Strategy-History-M', 'mBox 360-Strategy-Military-M', 'mBox 360-Strategy-ScienceFiction-M', 'mBox 360-Strategy-Space-M', 'mBox Next-Action-Airplane-E', 'mBox Next-Action-Aliens-E', 'mBox Next-Action-AlternateHistory-E', 'mBox Next-Action-Dungeon-E', 'mBox Next-Action-Fantasy-E', 'mBox Next-Action-Hunting-E', 'mBox Next-Action-Medieval-E', 'mBox Next-Action-Mythology-E', 'mBox Next-Action-ScienceFiction-E', 'mBox Next-Action-Space-E', 'mBox Next-Action-Sports*-E', 'mBox Next-Action-Superheroes-E', 'mBox Next-Action-UFO-E', 'mBox Next-Action-Vampire-E', 'mBox Next-Adventure-Detective*-E', 'mBox Next-Adventure-Fantasy-E', 'mBox Next-Adventure-Law*-E', 'mBox Next-Adventure-Life-E', 'mBox Next-Adventure-Medieval-E', 'mBox Next-Adventure-Pirate-E', 'mBox Next-Adventure-Romance-E', 'mBox Next-Adventure-ScienceFiction-E', 'mBox Next-Adventure-TimeTravel-E', 'mBox Next-Casual-Airplane-E', 'mBox Next-Casual-Cooking-E', 'mBox Next-Casual-Farming-E', 'mBox Next-Casual-Movies-E', 'mBox Next-Casual-Racing*-E', 'mBox Next-Casual-Sports*-E', 'mBox Next-Casual-Vocabulary-E', 'mBox Next-RPG-Aliens-E', 'mBox Next-RPG-AlternateHistory-E', 'mBox Next-RPG-Detective*-E', 'mBox Next-RPG-Dungeon-E', 'mBox Next-RPG-Fantasy-E', 'mBox Next-RPG-Medieval-E', 'mBox Next-RPG-ScienceFiction-E', 'mBox Next-RPG-Thief-E', 'mBox Next-RPG-TimeTravel-E', 'mBox Next-RPG-Vampire-E', 'mBox Next-Simulation-Airplane-E', 'mBox Next-Simulation-Business-E', 'mBox Next-Simulation-City-E', 'mBox Next-Simulation-Colonization-E', 'mBox Next-Simulation-Construction-E', 'mBox Next-Simulation-Cooking-E', 'mBox Next-Simulation-Dungeon-E', 'mBox Next-Simulation-Evolution-E', 'mBox Next-Simulation-Farming-E', 'mBox Next-Simulation-GameDev-E', 'mBox Next-Simulation-Government-E', 'mBox Next-Simulation-History-E', 'mBox Next-Simulation-Hospital-E', 'mBox Next-Simulation-Hunting-E', 'mBox Next-Simulation-Life-E', 'mBox Next-Simulation-Movies-E', 'mBox Next-Simulation-Racing*-E', 'mBox Next-Simulation-ScienceFiction-E', 'mBox Next-Simulation-Space-E', 'mBox Next-Simulation-Sports*-E', 'mBox Next-Simulation-Surgery-E', 'mBox Next-Simulation-Technology-E', 'mBox Next-Simulation-Transport-E', 'mBox Next-Simulation-Vocabulary-E', 'mBox Next-Strategy-Airplane-E', 'mBox Next-Strategy-Business-E', 'mBox Next-Strategy-City-E', 'mBox Next-Strategy-Colonization-E', 'mBox Next-Strategy-Dungeon-E', 'mBox Next-Strategy-Evolution-E', 'mBox Next-Strategy-Expedition-E', 'mBox Next-Strategy-Fantasy-E', 'mBox Next-Strategy-Government-E', 'mBox Next-Strategy-History-E', 'mBox Next-Strategy-Medieval-E', 'mBox Next-Strategy-ScienceFiction-E', 'mBox Next-Strategy-Space-E', 'mBox Next-Strategy-Transport-E', 'mBox Next-Strategy-UFO-E', 'mBox Next-Strategy-Vocabulary-E', 'mBox One-Action-Airplane-E', 'mBox One-Action-Aliens-E', 'mBox One-Action-AlternateHistory-E', 'mBox One-Action-Dungeon-E', 'mBox One-Action-Fantasy-E', 'mBox One-Action-Hunting-E', 'mBox One-Action-Medieval-E', 'mBox One-Action-Mythology-E', 'mBox One-Action-ScienceFiction-E', 'mBox One-Action-Space-E', 'mBox One-Action-Sports*-E', 'mBox One-Action-Superheroes-E', 'mBox One-Action-UFO-E', 'mBox One-Action-Vampire-E', 'mBox One-Adventure-Detective*-E', 'mBox One-Adventure-Fantasy-E', 'mBox One-Adventure-Law*-E', 'mBox One-Adventure-Life-E', 'mBox One-Adventure-Medieval-E', 'mBox One-Adventure-Pirate-E', 'mBox One-Adventure-Romance-E', 'mBox One-Adventure-ScienceFiction-E', 'mBox One-Adventure-TimeTravel-E', 'mBox One-Casual-Airplane-E', 'mBox One-Casual-Cooking-E', 'mBox One-Casual-Farming-E', 'mBox One-Casual-Movies-E', 'mBox One-Casual-Racing*-E', 'mBox One-Casual-Sports*-E', 'mBox One-Casual-Vocabulary-E', 'mBox One-RPG-Aliens-E', 'mBox One-RPG-AlternateHistory-E', 'mBox One-RPG-Detective*-E', 'mBox One-RPG-Dungeon-E', 'mBox One-RPG-Fantasy-E', 'mBox One-RPG-Medieval-E', 'mBox One-RPG-ScienceFiction-E', 'mBox One-RPG-Thief-E', 'mBox One-RPG-TimeTravel-E', 'mBox One-RPG-Vampire-E', 'mBox One-Simulation-Airplane-E', 'mBox One-Simulation-Business-E', 'mBox One-Simulation-City-E', 'mBox One-Simulation-Colonization-E', 'mBox One-Simulation-Construction-E', 'mBox One-Simulation-Cooking-E', 'mBox One-Simulation-Dungeon-E', 'mBox One-Simulation-Evolution-E', 'mBox One-Simulation-Farming-E', 'mBox One-Simulation-GameDev-E', 'mBox One-Simulation-Government-E', 'mBox One-Simulation-History-E', 'mBox One-Simulation-Hospital-E', 'mBox One-Simulation-Hunting-E', 'mBox One-Simulation-Life-E', 'mBox One-Simulation-Movies-E', 'mBox One-Simulation-Racing*-E', 'mBox One-Simulation-ScienceFiction-E', 'mBox One-Simulation-Space-E', 'mBox One-Simulation-Sports*-E', 'mBox One-Simulation-Surgery-E', 'mBox One-Simulation-Technology-E', 'mBox One-Simulation-Transport-E', 'mBox One-Simulation-Vocabulary-E', 'mBox One-Strategy-Airplane-E', 'mBox One-Strategy-Business-E', 'mBox One-Strategy-City-E', 'mBox One-Strategy-Colonization-E', 'mBox One-Strategy-Dungeon-E', 'mBox One-Strategy-Evolution-E', 'mBox One-Strategy-Expedition-E', 'mBox One-Strategy-Fantasy-E', 'mBox One-Strategy-Government-E', 'mBox One-Strategy-History-E', 'mBox One-Strategy-Medieval-E', 'mBox One-Strategy-ScienceFiction-E', 'mBox One-Strategy-Space-E', 'mBox One-Strategy-Transport-E', 'mBox One-Strategy-UFO-E', 'mBox One-Strategy-Vocabulary-E', 'mBox-Action-Airplane-E', 'mBox-Action-Aliens-E', 'mBox-Action-AlternateHistory-E', 'mBox-Action-Dungeon-E', 'mBox-Action-Fantasy-E', 'mBox-Action-Hunting-E', 'mBox-Action-Medieval-E', 'mBox-Action-Mythology-E', 'mBox-Action-ScienceFiction-E', 'mBox-Action-Space-E', 'mBox-Action-Sports*-E', 'mBox-Action-Superheroes-E', 'mBox-Action-UFO-E', 'mBox-Action-Vampire-E', 'mBox-Adventure-Detective*-E', 'mBox-Adventure-Fantasy-E', 'mBox-Adventure-Law*-E', 'mBox-Adventure-Life-E', 'mBox-Adventure-Medieval-E', 'mBox-Adventure-Pirate-E', 'mBox-Adventure-Romance-E', 'mBox-Adventure-ScienceFiction-E', 'mBox-Adventure-TimeTravel-E', 'mBox-Casual-Airplane-E', 'mBox-Casual-Cooking-E', 'mBox-Casual-Farming-E', 'mBox-Casual-Movies-E', 'mBox-Casual-Racing*-E', 'mBox-Casual-Sports*-E', 'mBox-Casual-Vocabulary-E', 'mBox-RPG-Aliens-E', 'mBox-RPG-AlternateHistory-E', 'mBox-RPG-Detective*-E', 'mBox-RPG-Dungeon-E', 'mBox-RPG-Fantasy-E', 'mBox-RPG-Medieval-E', 'mBox-RPG-ScienceFiction-E', 'mBox-RPG-Thief-E', 'mBox-RPG-TimeTravel-E', 'mBox-RPG-Vampire-E', 'mBox-Simulation-Airplane-E', 'mBox-Simulation-Business-E', 'mBox-Simulation-City-E', 'mBox-Simulation-Colonization-E', 'mBox-Simulation-Construction-E', 'mBox-Simulation-Cooking-E', 'mBox-Simulation-Dungeon-E', 'mBox-Simulation-Evolution-E', 'mBox-Simulation-Farming-E', 'mBox-Simulation-GameDev-E', 'mBox-Simulation-Government-E', 'mBox-Simulation-History-E', 'mBox-Simulation-Hospital-E', 'mBox-Simulation-Hunting-E', 'mBox-Simulation-Life-E', 'mBox-Simulation-Movies-E', 'mBox-Simulation-Racing*-E', 'mBox-Simulation-ScienceFiction-E', 'mBox-Simulation-Space-E', 'mBox-Simulation-Sports*-E', 'mBox-Simulation-Surgery-E', 'mBox-Simulation-Technology-E', 'mBox-Simulation-Transport-E', 'mBox-Simulation-Vocabulary-E', 'mBox-Strategy-Airplane-E', 'mBox-Strategy-Business-E', 'mBox-Strategy-City-E', 'mBox-Strategy-Colonization-E', 'mBox-Strategy-Dungeon-E', 'mBox-Strategy-Evolution-E', 'mBox-Strategy-Expedition-E', 'mBox-Strategy-Fantasy-E', 'mBox-Strategy-Government-E', 'mBox-Strategy-History-E', 'mBox-Strategy-Medieval-E', 'mBox-Strategy-ScienceFiction-E', 'mBox-Strategy-Space-E', 'mBox-Strategy-Transport-E', 'mBox-Strategy-UFO-E', 'mBox-Strategy-Vocabulary-E']\n"
     ]
    },
    {
     "data": {
      "text/plain": "1952"
     },
     "execution_count": 27,
     "metadata": {},
     "output_type": "execute_result"
    }
   ],
   "source": [
    "final_comb = []\n",
    "\n",
    "half_comb_set = set(half_combinations)\n",
    "sys_audience_set = set(sys_audience_comb)\n",
    "\n",
    "for half_comb in half_comb_set:\n",
    "    half_comb_words = half_comb.split('-')\n",
    "    last_word = half_comb_words[-1]\n",
    "\n",
    "    matching_sys_audience = [sa for sa in sys_audience_set if sa.startswith(last_word)]\n",
    "\n",
    "    if matching_sys_audience:\n",
    "        final_comb.extend([f\"{sa.split('-')[1]}-{half_comb}\" for sa in matching_sys_audience])\n",
    "\n",
    "final_comb.sort()\n",
    "print(final_comb)\n",
    "len(final_comb)"
   ],
   "metadata": {
    "collapsed": false,
    "ExecuteTime": {
     "end_time": "2023-11-25T01:09:30.163461Z",
     "start_time": "2023-11-25T01:09:30.131344Z"
    }
   },
   "id": "604f473e301c79fc"
  },
  {
   "cell_type": "code",
   "execution_count": 30,
   "outputs": [
    {
     "name": "stdout",
     "output_type": "stream",
     "text": [
      "['Action-DreamVast', 'Action-PPS', 'Action-Playsystem', 'Action-Playsystem 2', 'Action-Playsystem 3', 'Action-Playsystem 4', 'Action-Playsystem 5', 'Action-Vena Oasis', 'Action-mBox', 'Action-mBox 360', 'Action-mBox One', 'Adventure-G64', 'Adventure-PC', 'Casual-GS', 'Casual-Game Sphere', 'Casual-Gameling', 'Casual-Master V', 'Casual-Nuu', 'Casual-OYA', 'Casual-TES', 'Casual-Vena Gear', 'Casual-Wuu', 'Casual-grPad', 'Casual-grPhone', 'Casual-mBox Next', 'RPG-GS', 'RPG-PPS', 'RPG-Playsystem', 'RPG-Playsystem 2', 'RPG-Playsystem 4', 'RPG-mBox 360', 'Simulation-DreamVast', 'Simulation-Nuu', 'Simulation-PC', 'Simulation-Playsystem 3', 'Simulation-Playsystem 5', 'Simulation-Super TES', 'Simulation-Wuu', 'Strategy-G64', 'Strategy-PC']\n",
      "40\n"
     ]
    }
   ],
   "source": [
    "sys_genre_comb = [\n",
    "    f\"{systems_genre.columns[j]}-{systems_genre.iloc[i, 1]}\"\n",
    "    for i in range(len(systems_genre))\n",
    "    for j in range(1, len(systems_genre.columns))\n",
    "    if systems_genre.iloc[i, j] == 3\n",
    "]\n",
    "\n",
    "sys_genre_comb.sort()\n",
    "print(sys_genre_comb)\n",
    "print(len(sys_genre_comb))"
   ],
   "metadata": {
    "collapsed": false,
    "ExecuteTime": {
     "end_time": "2023-11-25T01:13:48.092385Z",
     "start_time": "2023-11-25T01:13:48.070469Z"
    }
   },
   "id": "ed0c04d407ce620e"
  },
  {
   "cell_type": "code",
   "execution_count": 33,
   "outputs": [
    {
     "name": "stdout",
     "output_type": "stream",
     "text": [
      "['DreamVast-Action-Airplane-E', 'DreamVast-Action-Aliens-E', 'DreamVast-Action-Aliens-M', 'DreamVast-Action-AlternateHistory-E', 'DreamVast-Action-AlternateHistory-M', 'DreamVast-Action-Assassin-M', 'DreamVast-Action-Crime-M', 'DreamVast-Action-Cyberpunk-M', 'DreamVast-Action-Dungeon-E', 'DreamVast-Action-Dungeon-M', 'DreamVast-Action-ExtremeSports-M', 'DreamVast-Action-Fantasy-E', 'DreamVast-Action-Fantasy-M', 'DreamVast-Action-Horror-M', 'DreamVast-Action-Hunting-E', 'DreamVast-Action-MartialArts-M', 'DreamVast-Action-Medieval-E', 'DreamVast-Action-Military-M', 'DreamVast-Action-Mythology-E', 'DreamVast-Action-Mythology-M', 'DreamVast-Action-PostApocalyptic-M', 'DreamVast-Action-Prison-M', 'DreamVast-Action-ScienceFiction-E', 'DreamVast-Action-ScienceFiction-M', 'DreamVast-Action-Space-E', 'DreamVast-Action-Space-M', 'DreamVast-Action-Sports*-E', 'DreamVast-Action-Spy-M', 'DreamVast-Action-Superheroes-E', 'DreamVast-Action-Superheroes-M', 'DreamVast-Action-UFO-E', 'DreamVast-Action-Vampire-E', 'DreamVast-Action-Vampire-M', 'DreamVast-Action-Werewolf-M', 'DreamVast-Action-Zombies-M', 'DreamVast-Simulation-Airplane-E', 'DreamVast-Simulation-Business-E', 'DreamVast-Simulation-City-E', 'DreamVast-Simulation-Colonization-E', 'DreamVast-Simulation-Construction-E', 'DreamVast-Simulation-Cooking-E', 'DreamVast-Simulation-Disasters-M', 'DreamVast-Simulation-Dungeon-E', 'DreamVast-Simulation-Dungeon-M', 'DreamVast-Simulation-Dystopian-M', 'DreamVast-Simulation-Evolution-E', 'DreamVast-Simulation-ExtremeSports-M', 'DreamVast-Simulation-Farming-E', 'DreamVast-Simulation-GameDev-E', 'DreamVast-Simulation-Government-E', 'DreamVast-Simulation-Hacking-M', 'DreamVast-Simulation-History-E', 'DreamVast-Simulation-History-M', 'DreamVast-Simulation-Hospital-E', 'DreamVast-Simulation-Hunting-E', 'DreamVast-Simulation-Life-E', 'DreamVast-Simulation-MartialArts-M', 'DreamVast-Simulation-Military-M', 'DreamVast-Simulation-Movies-E', 'DreamVast-Simulation-Prison-M', 'DreamVast-Simulation-Racing*-E', 'DreamVast-Simulation-ScienceFiction-E', 'DreamVast-Simulation-ScienceFiction-M', 'DreamVast-Simulation-Space-E', 'DreamVast-Simulation-Space-M', 'DreamVast-Simulation-Sports*-E', 'DreamVast-Simulation-Surgery-E', 'DreamVast-Simulation-Technology-E', 'DreamVast-Simulation-Transport-E', 'DreamVast-Simulation-Vocabulary-E', 'G64-Adventure-Abstract-M', 'G64-Adventure-Comedy-M', 'G64-Adventure-Fantasy-M', 'G64-Adventure-Horror-M', 'G64-Adventure-MadScience-M', 'G64-Adventure-Mystery*-M', 'G64-Adventure-Prison-M', 'G64-Adventure-Romance-M', 'G64-Adventure-ScienceFiction-M', 'G64-Adventure-Spy-M', 'G64-Strategy-Disasters-M', 'G64-Strategy-Dungeon-M', 'G64-Strategy-Fantasy-M', 'G64-Strategy-Hacking-M', 'G64-Strategy-History-M', 'G64-Strategy-Military-M', 'G64-Strategy-ScienceFiction-M', 'G64-Strategy-Space-M', 'GS-Casual-Airplane-Y', 'GS-Casual-Dance-Y', 'GS-Casual-Fashion-Y', 'GS-Casual-Music*-Y', 'GS-Casual-Racing*-Y', 'GS-Casual-Rhythm*-Y', 'GS-Casual-Sports*-Y', 'GS-Casual-VirtualPet-Y', 'GS-RPG-Fantasy-Y', 'GS-RPG-Fashion-Y', 'GS-RPG-Medieval-Y', 'GS-RPG-School-Y', 'GS-RPG-WildWest-Y', 'Gameling-Casual-Airplane-Y', 'Gameling-Casual-Dance-Y', 'Gameling-Casual-Fashion-Y', 'Gameling-Casual-Music*-Y', 'Gameling-Casual-Racing*-Y', 'Gameling-Casual-Rhythm*-Y', 'Gameling-Casual-Sports*-Y', 'Gameling-Casual-VirtualPet-Y', 'MasterV-Casual-Airplane-E', 'MasterV-Casual-Cooking-E', 'MasterV-Casual-Farming-E', 'MasterV-Casual-Movies-E', 'MasterV-Casual-Racing*-E', 'MasterV-Casual-Sports*-E', 'MasterV-Casual-Vocabulary-E', 'Nuu-Casual-Airplane-E', 'Nuu-Casual-Airplane-Y', 'Nuu-Casual-Cooking-E', 'Nuu-Casual-Dance-Y', 'Nuu-Casual-Farming-E', 'Nuu-Casual-Fashion-Y', 'Nuu-Casual-Movies-E', 'Nuu-Casual-Music*-Y', 'Nuu-Casual-Racing*-E', 'Nuu-Casual-Racing*-Y', 'Nuu-Casual-Rhythm*-Y', 'Nuu-Casual-Sports*-E', 'Nuu-Casual-Sports*-Y', 'Nuu-Casual-VirtualPet-Y', 'Nuu-Casual-Vocabulary-E', 'Nuu-Simulation-Airplane-E', 'Nuu-Simulation-Airplane-Y', 'Nuu-Simulation-Business-E', 'Nuu-Simulation-City-E', 'Nuu-Simulation-Colonization-E', 'Nuu-Simulation-Construction-E', 'Nuu-Simulation-Cooking-E', 'Nuu-Simulation-Dance-Y', 'Nuu-Simulation-Dungeon-E', 'Nuu-Simulation-Evolution-E', 'Nuu-Simulation-ExtremeSports-Y', 'Nuu-Simulation-Farming-E', 'Nuu-Simulation-Fashion-Y', 'Nuu-Simulation-GameDev-E', 'Nuu-Simulation-Government-E', 'Nuu-Simulation-History-E', 'Nuu-Simulation-Hospital-E', 'Nuu-Simulation-Hunting-E', 'Nuu-Simulation-Life-E', 'Nuu-Simulation-Life-Y', 'Nuu-Simulation-Movies-E', 'Nuu-Simulation-Music*-Y', 'Nuu-Simulation-Racing*-E', 'Nuu-Simulation-Racing*-Y', 'Nuu-Simulation-Rhythm*-Y', 'Nuu-Simulation-School-Y', 'Nuu-Simulation-ScienceFiction-E', 'Nuu-Simulation-Space-E', 'Nuu-Simulation-Sports*-E', 'Nuu-Simulation-Sports*-Y', 'Nuu-Simulation-Surgery-E', 'Nuu-Simulation-Technology-E', 'Nuu-Simulation-Transport-E', 'Nuu-Simulation-VirtualPet-Y', 'Nuu-Simulation-Vocabulary-E', 'OYA-Casual-Airplane-E', 'OYA-Casual-Cooking-E', 'OYA-Casual-Farming-E', 'OYA-Casual-Movies-E', 'OYA-Casual-Racing*-E', 'OYA-Casual-Sports*-E', 'OYA-Casual-Vocabulary-E', 'PC-Adventure-Abstract-M', 'PC-Adventure-Comedy-M', 'PC-Adventure-Fantasy-M', 'PC-Adventure-Horror-M', 'PC-Adventure-MadScience-M', 'PC-Adventure-Mystery*-M', 'PC-Adventure-Prison-M', 'PC-Adventure-Romance-M', 'PC-Adventure-ScienceFiction-M', 'PC-Adventure-Spy-M', 'PC-Simulation-Disasters-M', 'PC-Simulation-Dungeon-M', 'PC-Simulation-Dystopian-M', 'PC-Simulation-ExtremeSports-M', 'PC-Simulation-Hacking-M', 'PC-Simulation-History-M', 'PC-Simulation-MartialArts-M', 'PC-Simulation-Military-M', 'PC-Simulation-Prison-M', 'PC-Simulation-ScienceFiction-M', 'PC-Simulation-Space-M', 'PC-Strategy-Disasters-M', 'PC-Strategy-Dungeon-M', 'PC-Strategy-Fantasy-M', 'PC-Strategy-Hacking-M', 'PC-Strategy-History-M', 'PC-Strategy-Military-M', 'PC-Strategy-ScienceFiction-M', 'PC-Strategy-Space-M', 'PPS-Action-Aliens-M', 'PPS-Action-AlternateHistory-M', 'PPS-Action-Assassin-M', 'PPS-Action-Crime-M', 'PPS-Action-Cyberpunk-M', 'PPS-Action-Dungeon-M', 'PPS-Action-ExtremeSports-M', 'PPS-Action-Fantasy-M', 'PPS-Action-Horror-M', 'PPS-Action-MartialArts-M', 'PPS-Action-Military-M', 'PPS-Action-Mythology-M', 'PPS-Action-PostApocalyptic-M', 'PPS-Action-Prison-M', 'PPS-Action-ScienceFiction-M', 'PPS-Action-Space-M', 'PPS-Action-Spy-M', 'PPS-Action-Superheroes-M', 'PPS-Action-Vampire-M', 'PPS-Action-Werewolf-M', 'PPS-Action-Zombies-M', 'PPS-RPG-Aliens-M', 'PPS-RPG-AlternateHistory-M', 'PPS-RPG-Assassin-M', 'PPS-RPG-Cyberpunk-M', 'PPS-RPG-Dungeon-M', 'PPS-RPG-Fantasy-M', 'PPS-RPG-MartialArts-M', 'PPS-RPG-Mystery*-M', 'PPS-RPG-PostApocalyptic-M', 'PPS-RPG-ScienceFiction-M', 'PPS-RPG-Spy-M', 'PPS-RPG-Thief-M', 'PPS-RPG-Vampire-M', 'PPS-RPG-Werewolf-M', 'PPS-RPG-WildWest-M', 'Playsystem2-Action-Airplane-E', 'Playsystem2-Action-Aliens-E', 'Playsystem2-Action-AlternateHistory-E', 'Playsystem2-Action-Dungeon-E', 'Playsystem2-Action-Fantasy-E', 'Playsystem2-Action-Hunting-E', 'Playsystem2-Action-Medieval-E', 'Playsystem2-Action-Mythology-E', 'Playsystem2-Action-ScienceFiction-E', 'Playsystem2-Action-Space-E', 'Playsystem2-Action-Sports*-E', 'Playsystem2-Action-Superheroes-E', 'Playsystem2-Action-UFO-E', 'Playsystem2-Action-Vampire-E', 'Playsystem2-RPG-Aliens-E', 'Playsystem2-RPG-AlternateHistory-E', 'Playsystem2-RPG-Detective*-E', 'Playsystem2-RPG-Dungeon-E', 'Playsystem2-RPG-Fantasy-E', 'Playsystem2-RPG-Medieval-E', 'Playsystem2-RPG-ScienceFiction-E', 'Playsystem2-RPG-Thief-E', 'Playsystem2-RPG-TimeTravel-E', 'Playsystem2-RPG-Vampire-E', 'Playsystem3-Action-Airplane-E', 'Playsystem3-Action-Aliens-E', 'Playsystem3-Action-AlternateHistory-E', 'Playsystem3-Action-Dungeon-E', 'Playsystem3-Action-Fantasy-E', 'Playsystem3-Action-Hunting-E', 'Playsystem3-Action-Medieval-E', 'Playsystem3-Action-Mythology-E', 'Playsystem3-Action-ScienceFiction-E', 'Playsystem3-Action-Space-E', 'Playsystem3-Action-Sports*-E', 'Playsystem3-Action-Superheroes-E', 'Playsystem3-Action-UFO-E', 'Playsystem3-Action-Vampire-E', 'Playsystem3-Simulation-Airplane-E', 'Playsystem3-Simulation-Business-E', 'Playsystem3-Simulation-City-E', 'Playsystem3-Simulation-Colonization-E', 'Playsystem3-Simulation-Construction-E', 'Playsystem3-Simulation-Cooking-E', 'Playsystem3-Simulation-Dungeon-E', 'Playsystem3-Simulation-Evolution-E', 'Playsystem3-Simulation-Farming-E', 'Playsystem3-Simulation-GameDev-E', 'Playsystem3-Simulation-Government-E', 'Playsystem3-Simulation-History-E', 'Playsystem3-Simulation-Hospital-E', 'Playsystem3-Simulation-Hunting-E', 'Playsystem3-Simulation-Life-E', 'Playsystem3-Simulation-Movies-E', 'Playsystem3-Simulation-Racing*-E', 'Playsystem3-Simulation-ScienceFiction-E', 'Playsystem3-Simulation-Space-E', 'Playsystem3-Simulation-Sports*-E', 'Playsystem3-Simulation-Surgery-E', 'Playsystem3-Simulation-Technology-E', 'Playsystem3-Simulation-Transport-E', 'Playsystem3-Simulation-Vocabulary-E', 'Playsystem4-Action-Airplane-E', 'Playsystem4-Action-Aliens-E', 'Playsystem4-Action-AlternateHistory-E', 'Playsystem4-Action-Dungeon-E', 'Playsystem4-Action-Fantasy-E', 'Playsystem4-Action-Hunting-E', 'Playsystem4-Action-Medieval-E', 'Playsystem4-Action-Mythology-E', 'Playsystem4-Action-ScienceFiction-E', 'Playsystem4-Action-Space-E', 'Playsystem4-Action-Sports*-E', 'Playsystem4-Action-Superheroes-E', 'Playsystem4-Action-UFO-E', 'Playsystem4-Action-Vampire-E', 'Playsystem4-RPG-Aliens-E', 'Playsystem4-RPG-AlternateHistory-E', 'Playsystem4-RPG-Detective*-E', 'Playsystem4-RPG-Dungeon-E', 'Playsystem4-RPG-Fantasy-E', 'Playsystem4-RPG-Medieval-E', 'Playsystem4-RPG-ScienceFiction-E', 'Playsystem4-RPG-Thief-E', 'Playsystem4-RPG-TimeTravel-E', 'Playsystem4-RPG-Vampire-E', 'Playsystem5-Action-Airplane-E', 'Playsystem5-Action-Aliens-E', 'Playsystem5-Action-AlternateHistory-E', 'Playsystem5-Action-Dungeon-E', 'Playsystem5-Action-Fantasy-E', 'Playsystem5-Action-Hunting-E', 'Playsystem5-Action-Medieval-E', 'Playsystem5-Action-Mythology-E', 'Playsystem5-Action-ScienceFiction-E', 'Playsystem5-Action-Space-E', 'Playsystem5-Action-Sports*-E', 'Playsystem5-Action-Superheroes-E', 'Playsystem5-Action-UFO-E', 'Playsystem5-Action-Vampire-E', 'Playsystem5-Simulation-Airplane-E', 'Playsystem5-Simulation-Business-E', 'Playsystem5-Simulation-City-E', 'Playsystem5-Simulation-Colonization-E', 'Playsystem5-Simulation-Construction-E', 'Playsystem5-Simulation-Cooking-E', 'Playsystem5-Simulation-Dungeon-E', 'Playsystem5-Simulation-Evolution-E', 'Playsystem5-Simulation-Farming-E', 'Playsystem5-Simulation-GameDev-E', 'Playsystem5-Simulation-Government-E', 'Playsystem5-Simulation-History-E', 'Playsystem5-Simulation-Hospital-E', 'Playsystem5-Simulation-Hunting-E', 'Playsystem5-Simulation-Life-E', 'Playsystem5-Simulation-Movies-E', 'Playsystem5-Simulation-Racing*-E', 'Playsystem5-Simulation-ScienceFiction-E', 'Playsystem5-Simulation-Space-E', 'Playsystem5-Simulation-Sports*-E', 'Playsystem5-Simulation-Surgery-E', 'Playsystem5-Simulation-Technology-E', 'Playsystem5-Simulation-Transport-E', 'Playsystem5-Simulation-Vocabulary-E', 'Playsystem-Action-Airplane-E', 'Playsystem-Action-Aliens-E', 'Playsystem-Action-AlternateHistory-E', 'Playsystem-Action-Dungeon-E', 'Playsystem-Action-Fantasy-E', 'Playsystem-Action-Hunting-E', 'Playsystem-Action-Medieval-E', 'Playsystem-Action-Mythology-E', 'Playsystem-Action-ScienceFiction-E', 'Playsystem-Action-Space-E', 'Playsystem-Action-Sports*-E', 'Playsystem-Action-Superheroes-E', 'Playsystem-Action-UFO-E', 'Playsystem-Action-Vampire-E', 'Playsystem-RPG-Aliens-E', 'Playsystem-RPG-AlternateHistory-E', 'Playsystem-RPG-Detective*-E', 'Playsystem-RPG-Dungeon-E', 'Playsystem-RPG-Fantasy-E', 'Playsystem-RPG-Medieval-E', 'Playsystem-RPG-ScienceFiction-E', 'Playsystem-RPG-Thief-E', 'Playsystem-RPG-TimeTravel-E', 'Playsystem-RPG-Vampire-E', 'SuperTES-Simulation-Airplane-Y', 'SuperTES-Simulation-Dance-Y', 'SuperTES-Simulation-ExtremeSports-Y', 'SuperTES-Simulation-Fashion-Y', 'SuperTES-Simulation-Life-Y', 'SuperTES-Simulation-Music*-Y', 'SuperTES-Simulation-Racing*-Y', 'SuperTES-Simulation-Rhythm*-Y', 'SuperTES-Simulation-School-Y', 'SuperTES-Simulation-Sports*-Y', 'SuperTES-Simulation-VirtualPet-Y', 'TES-Casual-Airplane-Y', 'TES-Casual-Dance-Y', 'TES-Casual-Fashion-Y', 'TES-Casual-Music*-Y', 'TES-Casual-Racing*-Y', 'TES-Casual-Rhythm*-Y', 'TES-Casual-Sports*-Y', 'TES-Casual-VirtualPet-Y', 'VenaGear-Casual-Airplane-E', 'VenaGear-Casual-Cooking-E', 'VenaGear-Casual-Farming-E', 'VenaGear-Casual-Movies-E', 'VenaGear-Casual-Racing*-E', 'VenaGear-Casual-Sports*-E', 'VenaGear-Casual-Vocabulary-E', 'VenaOasis-Action-Airplane-E', 'VenaOasis-Action-Aliens-E', 'VenaOasis-Action-AlternateHistory-E', 'VenaOasis-Action-Dungeon-E', 'VenaOasis-Action-Fantasy-E', 'VenaOasis-Action-Hunting-E', 'VenaOasis-Action-Medieval-E', 'VenaOasis-Action-Mythology-E', 'VenaOasis-Action-ScienceFiction-E', 'VenaOasis-Action-Space-E', 'VenaOasis-Action-Sports*-E', 'VenaOasis-Action-Superheroes-E', 'VenaOasis-Action-UFO-E', 'VenaOasis-Action-Vampire-E', 'Wuu-Casual-Airplane-E', 'Wuu-Casual-Cooking-E', 'Wuu-Casual-Farming-E', 'Wuu-Casual-Movies-E', 'Wuu-Casual-Racing*-E', 'Wuu-Casual-Sports*-E', 'Wuu-Casual-Vocabulary-E', 'Wuu-Simulation-Airplane-E', 'Wuu-Simulation-Business-E', 'Wuu-Simulation-City-E', 'Wuu-Simulation-Colonization-E', 'Wuu-Simulation-Construction-E', 'Wuu-Simulation-Cooking-E', 'Wuu-Simulation-Dungeon-E', 'Wuu-Simulation-Evolution-E', 'Wuu-Simulation-Farming-E', 'Wuu-Simulation-GameDev-E', 'Wuu-Simulation-Government-E', 'Wuu-Simulation-History-E', 'Wuu-Simulation-Hospital-E', 'Wuu-Simulation-Hunting-E', 'Wuu-Simulation-Life-E', 'Wuu-Simulation-Movies-E', 'Wuu-Simulation-Racing*-E', 'Wuu-Simulation-ScienceFiction-E', 'Wuu-Simulation-Space-E', 'Wuu-Simulation-Sports*-E', 'Wuu-Simulation-Surgery-E', 'Wuu-Simulation-Technology-E', 'Wuu-Simulation-Transport-E', 'Wuu-Simulation-Vocabulary-E', 'grPad-Casual-Airplane-E', 'grPad-Casual-Cooking-E', 'grPad-Casual-Farming-E', 'grPad-Casual-Movies-E', 'grPad-Casual-Racing*-E', 'grPad-Casual-Sports*-E', 'grPad-Casual-Vocabulary-E', 'grPhone-Casual-Airplane-E', 'grPhone-Casual-Cooking-E', 'grPhone-Casual-Farming-E', 'grPhone-Casual-Movies-E', 'grPhone-Casual-Racing*-E', 'grPhone-Casual-Sports*-E', 'grPhone-Casual-Vocabulary-E', 'mBox360-Action-Aliens-M', 'mBox360-Action-AlternateHistory-M', 'mBox360-Action-Assassin-M', 'mBox360-Action-Crime-M', 'mBox360-Action-Cyberpunk-M', 'mBox360-Action-Dungeon-M', 'mBox360-Action-ExtremeSports-M', 'mBox360-Action-Fantasy-M', 'mBox360-Action-Horror-M', 'mBox360-Action-MartialArts-M', 'mBox360-Action-Military-M', 'mBox360-Action-Mythology-M', 'mBox360-Action-PostApocalyptic-M', 'mBox360-Action-Prison-M', 'mBox360-Action-ScienceFiction-M', 'mBox360-Action-Space-M', 'mBox360-Action-Spy-M', 'mBox360-Action-Superheroes-M', 'mBox360-Action-Vampire-M', 'mBox360-Action-Werewolf-M', 'mBox360-Action-Zombies-M', 'mBox360-RPG-Aliens-M', 'mBox360-RPG-AlternateHistory-M', 'mBox360-RPG-Assassin-M', 'mBox360-RPG-Cyberpunk-M', 'mBox360-RPG-Dungeon-M', 'mBox360-RPG-Fantasy-M', 'mBox360-RPG-MartialArts-M', 'mBox360-RPG-Mystery*-M', 'mBox360-RPG-PostApocalyptic-M', 'mBox360-RPG-ScienceFiction-M', 'mBox360-RPG-Spy-M', 'mBox360-RPG-Thief-M', 'mBox360-RPG-Vampire-M', 'mBox360-RPG-Werewolf-M', 'mBox360-RPG-WildWest-M', 'mBoxNext-Casual-Airplane-E', 'mBoxNext-Casual-Cooking-E', 'mBoxNext-Casual-Farming-E', 'mBoxNext-Casual-Movies-E', 'mBoxNext-Casual-Racing*-E', 'mBoxNext-Casual-Sports*-E', 'mBoxNext-Casual-Vocabulary-E', 'mBoxOne-Action-Airplane-E', 'mBoxOne-Action-Aliens-E', 'mBoxOne-Action-AlternateHistory-E', 'mBoxOne-Action-Dungeon-E', 'mBoxOne-Action-Fantasy-E', 'mBoxOne-Action-Hunting-E', 'mBoxOne-Action-Medieval-E', 'mBoxOne-Action-Mythology-E', 'mBoxOne-Action-ScienceFiction-E', 'mBoxOne-Action-Space-E', 'mBoxOne-Action-Sports*-E', 'mBoxOne-Action-Superheroes-E', 'mBoxOne-Action-UFO-E', 'mBoxOne-Action-Vampire-E', 'mBox-Action-Airplane-E', 'mBox-Action-Aliens-E', 'mBox-Action-AlternateHistory-E', 'mBox-Action-Dungeon-E', 'mBox-Action-Fantasy-E', 'mBox-Action-Hunting-E', 'mBox-Action-Medieval-E', 'mBox-Action-Mythology-E', 'mBox-Action-ScienceFiction-E', 'mBox-Action-Space-E', 'mBox-Action-Sports*-E', 'mBox-Action-Superheroes-E', 'mBox-Action-UFO-E', 'mBox-Action-Vampire-E']\n",
      "542\n"
     ]
    }
   ],
   "source": [
    "final_comb = [\n",
    "    combination\n",
    "    for combination in final_comb\n",
    "    if f\"{combination.split('-')[1]}-{combination.split('-')[0]}\" in sys_genre_comb\n",
    "]\n",
    "final_comb.sort()\n",
    "final_comb = [x.replace(' ','') for x in final_comb]\n",
    "print(final_comb)\n",
    "print(len(final_comb))"
   ],
   "metadata": {
    "collapsed": false,
    "ExecuteTime": {
     "end_time": "2023-11-25T01:19:54.659120Z",
     "start_time": "2023-11-25T01:19:54.634549Z"
    }
   },
   "id": "9bb5f8018b0f4094"
  },
  {
   "cell_type": "code",
   "execution_count": 34,
   "outputs": [
    {
     "name": "stdout",
     "output_type": "stream",
     "text": [
      "        System   Genre             Topic Audience\n",
      "0    DreamVast  Action          Airplane        E\n",
      "1    DreamVast  Action            Aliens        E\n",
      "2    DreamVast  Action            Aliens        M\n",
      "3    DreamVast  Action  AlternateHistory        E\n",
      "4    DreamVast  Action  AlternateHistory        M\n",
      "..         ...     ...               ...      ...\n",
      "537       mBox  Action             Space        E\n",
      "538       mBox  Action           Sports*        E\n",
      "539       mBox  Action       Superheroes        E\n",
      "540       mBox  Action               UFO        E\n",
      "541       mBox  Action           Vampire        E\n",
      "\n",
      "[542 rows x 4 columns]\n"
     ]
    }
   ],
   "source": [
    "df = pd.DataFrame(columns=['System','Genre','Topic','Audience'])\n",
    "\n",
    "data = [part.split(\"-\") for part in final_comb]\n",
    "new_df = pd.DataFrame(data,columns=df.columns)\n",
    "\n",
    "df = pd.concat([df,new_df], ignore_index=True)\n",
    "print(df)\n",
    "\n",
    "df.to_csv('Final_Combinations.csv')"
   ],
   "metadata": {
    "collapsed": false,
    "ExecuteTime": {
     "end_time": "2023-11-25T01:20:14.065727Z",
     "start_time": "2023-11-25T01:20:14.034663Z"
    }
   },
   "id": "7b918fbfe71cef19"
  },
  {
   "cell_type": "code",
   "execution_count": null,
   "outputs": [],
   "source": [],
   "metadata": {
    "collapsed": false
   },
   "id": "253ded94efcc5bba"
  }
 ],
 "metadata": {
  "kernelspec": {
   "display_name": "Python 3",
   "language": "python",
   "name": "python3"
  },
  "language_info": {
   "codemirror_mode": {
    "name": "ipython",
    "version": 2
   },
   "file_extension": ".py",
   "mimetype": "text/x-python",
   "name": "python",
   "nbconvert_exporter": "python",
   "pygments_lexer": "ipython2",
   "version": "2.7.6"
  }
 },
 "nbformat": 4,
 "nbformat_minor": 5
}
