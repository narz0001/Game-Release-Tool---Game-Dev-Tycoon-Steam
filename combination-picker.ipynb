{
 "cells": [
  {
   "cell_type": "markdown",
   "source": [
    "## Extracting Tables from Wikia Site"
   ],
   "metadata": {
    "collapsed": false
   },
   "id": "ed0583c66a9b83db"
  },
  {
   "cell_type": "code",
   "execution_count": 148,
   "outputs": [],
   "source": [
    "import pandas as pd\n",
    "\n",
    "url = \"https://gamedevtycoon.fandom.com/wiki/Game_Development_Based_on_Experience/1.4.3#Multi-Genre_combinations\""
   ],
   "metadata": {
    "collapsed": false,
    "ExecuteTime": {
     "end_time": "2023-11-22T18:32:33.796756Z",
     "start_time": "2023-11-22T18:32:33.680536Z"
    }
   },
   "id": "4ed816d2f94d8555"
  },
  {
   "cell_type": "code",
   "execution_count": 149,
   "outputs": [],
   "source": [
    "list_of_dfs = pd.read_html(url)"
   ],
   "metadata": {
    "collapsed": false,
    "ExecuteTime": {
     "end_time": "2023-11-22T18:32:33.950836Z",
     "start_time": "2023-11-22T18:32:33.687824Z"
    }
   },
   "id": "97cf350ab6813f65"
  },
  {
   "cell_type": "code",
   "execution_count": 150,
   "outputs": [
    {
     "data": {
      "text/plain": "         0       1          2       3           4         5       6   7   \\\n0     Topic  Genres     Genres  Genres      Genres    Genres  Genres NaN   \n1     Topic  Action  Adventure     RPG  Simulation  Strategy  Casual NaN   \n2  Abstract      ++        +++     −−−         −−−         +     −−− NaN   \n3  Airplane     +++        −−−       +         +++       +++     +++ NaN   \n4    Aliens     +++          +     +++         −−−        ++      −− NaN   \n\n          8          9          10  \n0  Audiences  Audiences  Audiences  \n1          Y          E          M  \n2          +         ++        +++  \n3        +++        +++         ++  \n4         ++        +++        +++  ",
      "text/html": "<div>\n<style scoped>\n    .dataframe tbody tr th:only-of-type {\n        vertical-align: middle;\n    }\n\n    .dataframe tbody tr th {\n        vertical-align: top;\n    }\n\n    .dataframe thead th {\n        text-align: right;\n    }\n</style>\n<table border=\"1\" class=\"dataframe\">\n  <thead>\n    <tr style=\"text-align: right;\">\n      <th></th>\n      <th>0</th>\n      <th>1</th>\n      <th>2</th>\n      <th>3</th>\n      <th>4</th>\n      <th>5</th>\n      <th>6</th>\n      <th>7</th>\n      <th>8</th>\n      <th>9</th>\n      <th>10</th>\n    </tr>\n  </thead>\n  <tbody>\n    <tr>\n      <th>0</th>\n      <td>Topic</td>\n      <td>Genres</td>\n      <td>Genres</td>\n      <td>Genres</td>\n      <td>Genres</td>\n      <td>Genres</td>\n      <td>Genres</td>\n      <td>NaN</td>\n      <td>Audiences</td>\n      <td>Audiences</td>\n      <td>Audiences</td>\n    </tr>\n    <tr>\n      <th>1</th>\n      <td>Topic</td>\n      <td>Action</td>\n      <td>Adventure</td>\n      <td>RPG</td>\n      <td>Simulation</td>\n      <td>Strategy</td>\n      <td>Casual</td>\n      <td>NaN</td>\n      <td>Y</td>\n      <td>E</td>\n      <td>M</td>\n    </tr>\n    <tr>\n      <th>2</th>\n      <td>Abstract</td>\n      <td>++</td>\n      <td>+++</td>\n      <td>−−−</td>\n      <td>−−−</td>\n      <td>+</td>\n      <td>−−−</td>\n      <td>NaN</td>\n      <td>+</td>\n      <td>++</td>\n      <td>+++</td>\n    </tr>\n    <tr>\n      <th>3</th>\n      <td>Airplane</td>\n      <td>+++</td>\n      <td>−−−</td>\n      <td>+</td>\n      <td>+++</td>\n      <td>+++</td>\n      <td>+++</td>\n      <td>NaN</td>\n      <td>+++</td>\n      <td>+++</td>\n      <td>++</td>\n    </tr>\n    <tr>\n      <th>4</th>\n      <td>Aliens</td>\n      <td>+++</td>\n      <td>+</td>\n      <td>+++</td>\n      <td>−−−</td>\n      <td>++</td>\n      <td>−−</td>\n      <td>NaN</td>\n      <td>++</td>\n      <td>+++</td>\n      <td>+++</td>\n    </tr>\n  </tbody>\n</table>\n</div>"
     },
     "execution_count": 150,
     "metadata": {},
     "output_type": "execute_result"
    }
   ],
   "source": [
    "df = list_of_dfs[2]\n",
    "df.head()"
   ],
   "metadata": {
    "collapsed": false,
    "ExecuteTime": {
     "end_time": "2023-11-22T18:32:33.959906Z",
     "start_time": "2023-11-22T18:32:33.954454Z"
    }
   },
   "id": "2626b281b9db1420"
  },
  {
   "cell_type": "code",
   "execution_count": 151,
   "outputs": [],
   "source": [
    "topics = df.iloc[1:-2,0:7]"
   ],
   "metadata": {
    "collapsed": false,
    "ExecuteTime": {
     "end_time": "2023-11-22T18:32:33.961614Z",
     "start_time": "2023-11-22T18:32:33.957559Z"
    }
   },
   "id": "3bceef238db86328"
  },
  {
   "cell_type": "code",
   "execution_count": 152,
   "outputs": [],
   "source": [
    "def convert_to_numerical(value):\n",
    "    plus_count = value.count('+')\n",
    "    minus_count = value.count('−')\n",
    "    tilde_count = value.count('~')\n",
    "    \n",
    "    if tilde_count == 1:\n",
    "        return 0\n",
    "    \n",
    "    if plus_count > minus_count:\n",
    "        return plus_count\n",
    "    elif plus_count < minus_count:\n",
    "        return -minus_count\n",
    "    else:\n",
    "        return value\n",
    "\n",
    "topics = topics.applymap(convert_to_numerical)"
   ],
   "metadata": {
    "collapsed": false,
    "ExecuteTime": {
     "end_time": "2023-11-22T18:32:33.968176Z",
     "start_time": "2023-11-22T18:32:33.961856Z"
    }
   },
   "id": "cbe1c84eb91e6a01"
  },
  {
   "cell_type": "code",
   "execution_count": 153,
   "outputs": [
    {
     "data": {
      "text/plain": "                    0       1          2    3           4         5       6\n1               Topic  Action  Adventure  RPG  Simulation  Strategy  Casual\n2            Abstract       2          3   -3          -3         1      -3\n3            Airplane       3         -3    1           3         3       3\n4              Aliens       3          1    3          -3         2      -2\n5   Alternate History       3          1    3           1         2      -3\n..                ...     ...        ...  ...         ...       ...     ...\n64        Virtual Pet      -3          1    2           3         2       3\n65         Vocabulary      -3         -3   -3           3         3       3\n66           Werewolf       3          1    3          -3        -3      -2\n67          Wild West       2         -2    3          -3        -3      -2\n68            Zombies       3         -2   -3          -3         2       3\n\n[68 rows x 7 columns]",
      "text/html": "<div>\n<style scoped>\n    .dataframe tbody tr th:only-of-type {\n        vertical-align: middle;\n    }\n\n    .dataframe tbody tr th {\n        vertical-align: top;\n    }\n\n    .dataframe thead th {\n        text-align: right;\n    }\n</style>\n<table border=\"1\" class=\"dataframe\">\n  <thead>\n    <tr style=\"text-align: right;\">\n      <th></th>\n      <th>0</th>\n      <th>1</th>\n      <th>2</th>\n      <th>3</th>\n      <th>4</th>\n      <th>5</th>\n      <th>6</th>\n    </tr>\n  </thead>\n  <tbody>\n    <tr>\n      <th>1</th>\n      <td>Topic</td>\n      <td>Action</td>\n      <td>Adventure</td>\n      <td>RPG</td>\n      <td>Simulation</td>\n      <td>Strategy</td>\n      <td>Casual</td>\n    </tr>\n    <tr>\n      <th>2</th>\n      <td>Abstract</td>\n      <td>2</td>\n      <td>3</td>\n      <td>-3</td>\n      <td>-3</td>\n      <td>1</td>\n      <td>-3</td>\n    </tr>\n    <tr>\n      <th>3</th>\n      <td>Airplane</td>\n      <td>3</td>\n      <td>-3</td>\n      <td>1</td>\n      <td>3</td>\n      <td>3</td>\n      <td>3</td>\n    </tr>\n    <tr>\n      <th>4</th>\n      <td>Aliens</td>\n      <td>3</td>\n      <td>1</td>\n      <td>3</td>\n      <td>-3</td>\n      <td>2</td>\n      <td>-2</td>\n    </tr>\n    <tr>\n      <th>5</th>\n      <td>Alternate History</td>\n      <td>3</td>\n      <td>1</td>\n      <td>3</td>\n      <td>1</td>\n      <td>2</td>\n      <td>-3</td>\n    </tr>\n    <tr>\n      <th>...</th>\n      <td>...</td>\n      <td>...</td>\n      <td>...</td>\n      <td>...</td>\n      <td>...</td>\n      <td>...</td>\n      <td>...</td>\n    </tr>\n    <tr>\n      <th>64</th>\n      <td>Virtual Pet</td>\n      <td>-3</td>\n      <td>1</td>\n      <td>2</td>\n      <td>3</td>\n      <td>2</td>\n      <td>3</td>\n    </tr>\n    <tr>\n      <th>65</th>\n      <td>Vocabulary</td>\n      <td>-3</td>\n      <td>-3</td>\n      <td>-3</td>\n      <td>3</td>\n      <td>3</td>\n      <td>3</td>\n    </tr>\n    <tr>\n      <th>66</th>\n      <td>Werewolf</td>\n      <td>3</td>\n      <td>1</td>\n      <td>3</td>\n      <td>-3</td>\n      <td>-3</td>\n      <td>-2</td>\n    </tr>\n    <tr>\n      <th>67</th>\n      <td>Wild West</td>\n      <td>2</td>\n      <td>-2</td>\n      <td>3</td>\n      <td>-3</td>\n      <td>-3</td>\n      <td>-2</td>\n    </tr>\n    <tr>\n      <th>68</th>\n      <td>Zombies</td>\n      <td>3</td>\n      <td>-2</td>\n      <td>-3</td>\n      <td>-3</td>\n      <td>2</td>\n      <td>3</td>\n    </tr>\n  </tbody>\n</table>\n<p>68 rows × 7 columns</p>\n</div>"
     },
     "execution_count": 153,
     "metadata": {},
     "output_type": "execute_result"
    }
   ],
   "source": [
    "topics"
   ],
   "metadata": {
    "collapsed": false,
    "ExecuteTime": {
     "end_time": "2023-11-22T18:32:33.971026Z",
     "start_time": "2023-11-22T18:32:33.968022Z"
    }
   },
   "id": "39aad4d415f7a14a"
  },
  {
   "cell_type": "code",
   "execution_count": 154,
   "outputs": [],
   "source": [
    "audience = df.iloc[1:-2,-3:]\n",
    "audience_first_col = df.iloc[1:,0]\n",
    "audience.insert(0,\"Topics\",audience_first_col)"
   ],
   "metadata": {
    "collapsed": false,
    "ExecuteTime": {
     "end_time": "2023-11-22T18:32:33.974247Z",
     "start_time": "2023-11-22T18:32:33.971394Z"
    }
   },
   "id": "7fb437643e5034c6"
  },
  {
   "cell_type": "code",
   "execution_count": 155,
   "outputs": [
    {
     "data": {
      "text/plain": "               Topics   8  9  10\n1               Topic   Y  E   M\n2            Abstract   1  2   3\n3            Airplane   3  3   2\n4              Aliens   2  3   3\n5   Alternate History  -3  3   3\n..                ...  .. ..  ..\n64        Virtual Pet   3  1  -2\n65         Vocabulary   2  3  -3\n66           Werewolf  -2  2   3\n67          Wild West   3  2   3\n68            Zombies   2  1   3\n\n[68 rows x 4 columns]",
      "text/html": "<div>\n<style scoped>\n    .dataframe tbody tr th:only-of-type {\n        vertical-align: middle;\n    }\n\n    .dataframe tbody tr th {\n        vertical-align: top;\n    }\n\n    .dataframe thead th {\n        text-align: right;\n    }\n</style>\n<table border=\"1\" class=\"dataframe\">\n  <thead>\n    <tr style=\"text-align: right;\">\n      <th></th>\n      <th>Topics</th>\n      <th>8</th>\n      <th>9</th>\n      <th>10</th>\n    </tr>\n  </thead>\n  <tbody>\n    <tr>\n      <th>1</th>\n      <td>Topic</td>\n      <td>Y</td>\n      <td>E</td>\n      <td>M</td>\n    </tr>\n    <tr>\n      <th>2</th>\n      <td>Abstract</td>\n      <td>1</td>\n      <td>2</td>\n      <td>3</td>\n    </tr>\n    <tr>\n      <th>3</th>\n      <td>Airplane</td>\n      <td>3</td>\n      <td>3</td>\n      <td>2</td>\n    </tr>\n    <tr>\n      <th>4</th>\n      <td>Aliens</td>\n      <td>2</td>\n      <td>3</td>\n      <td>3</td>\n    </tr>\n    <tr>\n      <th>5</th>\n      <td>Alternate History</td>\n      <td>-3</td>\n      <td>3</td>\n      <td>3</td>\n    </tr>\n    <tr>\n      <th>...</th>\n      <td>...</td>\n      <td>...</td>\n      <td>...</td>\n      <td>...</td>\n    </tr>\n    <tr>\n      <th>64</th>\n      <td>Virtual Pet</td>\n      <td>3</td>\n      <td>1</td>\n      <td>-2</td>\n    </tr>\n    <tr>\n      <th>65</th>\n      <td>Vocabulary</td>\n      <td>2</td>\n      <td>3</td>\n      <td>-3</td>\n    </tr>\n    <tr>\n      <th>66</th>\n      <td>Werewolf</td>\n      <td>-2</td>\n      <td>2</td>\n      <td>3</td>\n    </tr>\n    <tr>\n      <th>67</th>\n      <td>Wild West</td>\n      <td>3</td>\n      <td>2</td>\n      <td>3</td>\n    </tr>\n    <tr>\n      <th>68</th>\n      <td>Zombies</td>\n      <td>2</td>\n      <td>1</td>\n      <td>3</td>\n    </tr>\n  </tbody>\n</table>\n<p>68 rows × 4 columns</p>\n</div>"
     },
     "execution_count": 155,
     "metadata": {},
     "output_type": "execute_result"
    }
   ],
   "source": [
    "audience = audience.applymap(convert_to_numerical)\n",
    "audience"
   ],
   "metadata": {
    "collapsed": false,
    "ExecuteTime": {
     "end_time": "2023-11-22T18:32:34.011687Z",
     "start_time": "2023-11-22T18:32:33.976890Z"
    }
   },
   "id": "fc09949fb06faddc"
  },
  {
   "cell_type": "code",
   "execution_count": 156,
   "outputs": [],
   "source": [
    "system_table = list_of_dfs[3]"
   ],
   "metadata": {
    "collapsed": false,
    "ExecuteTime": {
     "end_time": "2023-11-22T18:32:34.012159Z",
     "start_time": "2023-11-22T18:32:33.980774Z"
    }
   },
   "id": "19ec9ed3489df6e4"
  },
  {
   "cell_type": "code",
   "execution_count": 157,
   "outputs": [
    {
     "data": {
      "text/plain": "               0       1          2    3           4         5       6\n1         System  Action  Adventure  RPG  Simulation  Strategy  Casual\n2             PC       2          3    2           3         3      -3\n3            G64       2          3    2           2         3      -2\n4            TES       1         -2    1           1        -2       3\n5       Master V       2         -2    1           1        -2       3\n6       Gameling       1         -2    2           2        -3       3\n7      Vena Gear       2          1    1           2        -3       3\n8     Vena Oasis       3          1    1           2        -3      -2\n9      Super TES       2          2    2           3        -2       2\n10    Playsystem       3          1    3           2        -2      -3\n11        TES 64       2          1   -2           1        -2       2\n12     DreamVast       3         -2    1           3        -2      -2\n13  Playsystem 2       3          1    3           2        -2       2\n14          mBox       3          1    2           2        -2      -2\n15   Game Sphere       1          1   -2           1        -2       3\n16            GS       2          2    3           2         2       3\n17           PPS       3         -2    3           1         1       1\n18      mBox 360       3          2    3           2        -2       2\n19           Nuu       1         -3   -2           3        -2       3\n20  Playsystem 3       3          2    2           3        -2       1\n21       grPhone       1          1   -2           2        -2       3\n22         grPad       1          2   -2           2         2       3\n23          mPad      -2          2    1           2        -2       2\n24           Wuu       2         -2    1           3        -2       3\n25           OYA       2         -2    1           2         1       3\n26      mBox One       3          1    2           2        -2       2\n27  Playsystem 4       3          1    3           2        -2       2\n28     mBox Next       2          2    2           1        -2       3\n29  Playsystem 5       3         -2    2           3        -2       2",
      "text/html": "<div>\n<style scoped>\n    .dataframe tbody tr th:only-of-type {\n        vertical-align: middle;\n    }\n\n    .dataframe tbody tr th {\n        vertical-align: top;\n    }\n\n    .dataframe thead th {\n        text-align: right;\n    }\n</style>\n<table border=\"1\" class=\"dataframe\">\n  <thead>\n    <tr style=\"text-align: right;\">\n      <th></th>\n      <th>0</th>\n      <th>1</th>\n      <th>2</th>\n      <th>3</th>\n      <th>4</th>\n      <th>5</th>\n      <th>6</th>\n    </tr>\n  </thead>\n  <tbody>\n    <tr>\n      <th>1</th>\n      <td>System</td>\n      <td>Action</td>\n      <td>Adventure</td>\n      <td>RPG</td>\n      <td>Simulation</td>\n      <td>Strategy</td>\n      <td>Casual</td>\n    </tr>\n    <tr>\n      <th>2</th>\n      <td>PC</td>\n      <td>2</td>\n      <td>3</td>\n      <td>2</td>\n      <td>3</td>\n      <td>3</td>\n      <td>-3</td>\n    </tr>\n    <tr>\n      <th>3</th>\n      <td>G64</td>\n      <td>2</td>\n      <td>3</td>\n      <td>2</td>\n      <td>2</td>\n      <td>3</td>\n      <td>-2</td>\n    </tr>\n    <tr>\n      <th>4</th>\n      <td>TES</td>\n      <td>1</td>\n      <td>-2</td>\n      <td>1</td>\n      <td>1</td>\n      <td>-2</td>\n      <td>3</td>\n    </tr>\n    <tr>\n      <th>5</th>\n      <td>Master V</td>\n      <td>2</td>\n      <td>-2</td>\n      <td>1</td>\n      <td>1</td>\n      <td>-2</td>\n      <td>3</td>\n    </tr>\n    <tr>\n      <th>6</th>\n      <td>Gameling</td>\n      <td>1</td>\n      <td>-2</td>\n      <td>2</td>\n      <td>2</td>\n      <td>-3</td>\n      <td>3</td>\n    </tr>\n    <tr>\n      <th>7</th>\n      <td>Vena Gear</td>\n      <td>2</td>\n      <td>1</td>\n      <td>1</td>\n      <td>2</td>\n      <td>-3</td>\n      <td>3</td>\n    </tr>\n    <tr>\n      <th>8</th>\n      <td>Vena Oasis</td>\n      <td>3</td>\n      <td>1</td>\n      <td>1</td>\n      <td>2</td>\n      <td>-3</td>\n      <td>-2</td>\n    </tr>\n    <tr>\n      <th>9</th>\n      <td>Super TES</td>\n      <td>2</td>\n      <td>2</td>\n      <td>2</td>\n      <td>3</td>\n      <td>-2</td>\n      <td>2</td>\n    </tr>\n    <tr>\n      <th>10</th>\n      <td>Playsystem</td>\n      <td>3</td>\n      <td>1</td>\n      <td>3</td>\n      <td>2</td>\n      <td>-2</td>\n      <td>-3</td>\n    </tr>\n    <tr>\n      <th>11</th>\n      <td>TES 64</td>\n      <td>2</td>\n      <td>1</td>\n      <td>-2</td>\n      <td>1</td>\n      <td>-2</td>\n      <td>2</td>\n    </tr>\n    <tr>\n      <th>12</th>\n      <td>DreamVast</td>\n      <td>3</td>\n      <td>-2</td>\n      <td>1</td>\n      <td>3</td>\n      <td>-2</td>\n      <td>-2</td>\n    </tr>\n    <tr>\n      <th>13</th>\n      <td>Playsystem 2</td>\n      <td>3</td>\n      <td>1</td>\n      <td>3</td>\n      <td>2</td>\n      <td>-2</td>\n      <td>2</td>\n    </tr>\n    <tr>\n      <th>14</th>\n      <td>mBox</td>\n      <td>3</td>\n      <td>1</td>\n      <td>2</td>\n      <td>2</td>\n      <td>-2</td>\n      <td>-2</td>\n    </tr>\n    <tr>\n      <th>15</th>\n      <td>Game Sphere</td>\n      <td>1</td>\n      <td>1</td>\n      <td>-2</td>\n      <td>1</td>\n      <td>-2</td>\n      <td>3</td>\n    </tr>\n    <tr>\n      <th>16</th>\n      <td>GS</td>\n      <td>2</td>\n      <td>2</td>\n      <td>3</td>\n      <td>2</td>\n      <td>2</td>\n      <td>3</td>\n    </tr>\n    <tr>\n      <th>17</th>\n      <td>PPS</td>\n      <td>3</td>\n      <td>-2</td>\n      <td>3</td>\n      <td>1</td>\n      <td>1</td>\n      <td>1</td>\n    </tr>\n    <tr>\n      <th>18</th>\n      <td>mBox 360</td>\n      <td>3</td>\n      <td>2</td>\n      <td>3</td>\n      <td>2</td>\n      <td>-2</td>\n      <td>2</td>\n    </tr>\n    <tr>\n      <th>19</th>\n      <td>Nuu</td>\n      <td>1</td>\n      <td>-3</td>\n      <td>-2</td>\n      <td>3</td>\n      <td>-2</td>\n      <td>3</td>\n    </tr>\n    <tr>\n      <th>20</th>\n      <td>Playsystem 3</td>\n      <td>3</td>\n      <td>2</td>\n      <td>2</td>\n      <td>3</td>\n      <td>-2</td>\n      <td>1</td>\n    </tr>\n    <tr>\n      <th>21</th>\n      <td>grPhone</td>\n      <td>1</td>\n      <td>1</td>\n      <td>-2</td>\n      <td>2</td>\n      <td>-2</td>\n      <td>3</td>\n    </tr>\n    <tr>\n      <th>22</th>\n      <td>grPad</td>\n      <td>1</td>\n      <td>2</td>\n      <td>-2</td>\n      <td>2</td>\n      <td>2</td>\n      <td>3</td>\n    </tr>\n    <tr>\n      <th>23</th>\n      <td>mPad</td>\n      <td>-2</td>\n      <td>2</td>\n      <td>1</td>\n      <td>2</td>\n      <td>-2</td>\n      <td>2</td>\n    </tr>\n    <tr>\n      <th>24</th>\n      <td>Wuu</td>\n      <td>2</td>\n      <td>-2</td>\n      <td>1</td>\n      <td>3</td>\n      <td>-2</td>\n      <td>3</td>\n    </tr>\n    <tr>\n      <th>25</th>\n      <td>OYA</td>\n      <td>2</td>\n      <td>-2</td>\n      <td>1</td>\n      <td>2</td>\n      <td>1</td>\n      <td>3</td>\n    </tr>\n    <tr>\n      <th>26</th>\n      <td>mBox One</td>\n      <td>3</td>\n      <td>1</td>\n      <td>2</td>\n      <td>2</td>\n      <td>-2</td>\n      <td>2</td>\n    </tr>\n    <tr>\n      <th>27</th>\n      <td>Playsystem 4</td>\n      <td>3</td>\n      <td>1</td>\n      <td>3</td>\n      <td>2</td>\n      <td>-2</td>\n      <td>2</td>\n    </tr>\n    <tr>\n      <th>28</th>\n      <td>mBox Next</td>\n      <td>2</td>\n      <td>2</td>\n      <td>2</td>\n      <td>1</td>\n      <td>-2</td>\n      <td>3</td>\n    </tr>\n    <tr>\n      <th>29</th>\n      <td>Playsystem 5</td>\n      <td>3</td>\n      <td>-2</td>\n      <td>2</td>\n      <td>3</td>\n      <td>-2</td>\n      <td>2</td>\n    </tr>\n  </tbody>\n</table>\n</div>"
     },
     "execution_count": 157,
     "metadata": {},
     "output_type": "execute_result"
    }
   ],
   "source": [
    "systems_topics = system_table.iloc[1:-3,0:7]\n",
    "systems_topics = systems_topics.applymap(convert_to_numerical)\n",
    "systems_topics"
   ],
   "metadata": {
    "collapsed": false,
    "ExecuteTime": {
     "end_time": "2023-11-22T18:32:34.014081Z",
     "start_time": "2023-11-22T18:32:33.986769Z"
    }
   },
   "id": "8cc323551f9f7bf2"
  },
  {
   "cell_type": "code",
   "execution_count": 158,
   "outputs": [
    {
     "data": {
      "text/plain": "          System   8  9  10\n1         System   Y  E   M\n2             PC   1  2   3\n3            G64   1  2   3\n4            TES   3  2  -3\n5       Master V   2  3  -2\n6       Gameling   3  2  -3\n7      Vena Gear   2  3   1\n8     Vena Oasis   1  3   2\n9      Super TES   3  2  -2\n10    Playsystem   1  3   2\n11        TES 64   3  2   2\n12     DreamVast  -2  3   3\n13  Playsystem 2   2  3   1\n14          mBox   1  3   2\n15   Game Sphere   2  2   1\n16            GS   3  2   1\n17           PPS   1  2   3\n18      mBox 360   1  2   3\n19           Nuu   3  3  -2\n20  Playsystem 3   1  3   2\n21       grPhone   2  3  -3\n22         grPad   2  3  -3\n23          mPad  -2  2   1\n24           Wuu   2  3  -2\n25           OYA   1  3   2\n26      mBox One  -2  3   1\n27  Playsystem 4   1  3   2\n28     mBox Next   2  3   1\n29  Playsystem 5   1  3   2",
      "text/html": "<div>\n<style scoped>\n    .dataframe tbody tr th:only-of-type {\n        vertical-align: middle;\n    }\n\n    .dataframe tbody tr th {\n        vertical-align: top;\n    }\n\n    .dataframe thead th {\n        text-align: right;\n    }\n</style>\n<table border=\"1\" class=\"dataframe\">\n  <thead>\n    <tr style=\"text-align: right;\">\n      <th></th>\n      <th>System</th>\n      <th>8</th>\n      <th>9</th>\n      <th>10</th>\n    </tr>\n  </thead>\n  <tbody>\n    <tr>\n      <th>1</th>\n      <td>System</td>\n      <td>Y</td>\n      <td>E</td>\n      <td>M</td>\n    </tr>\n    <tr>\n      <th>2</th>\n      <td>PC</td>\n      <td>1</td>\n      <td>2</td>\n      <td>3</td>\n    </tr>\n    <tr>\n      <th>3</th>\n      <td>G64</td>\n      <td>1</td>\n      <td>2</td>\n      <td>3</td>\n    </tr>\n    <tr>\n      <th>4</th>\n      <td>TES</td>\n      <td>3</td>\n      <td>2</td>\n      <td>-3</td>\n    </tr>\n    <tr>\n      <th>5</th>\n      <td>Master V</td>\n      <td>2</td>\n      <td>3</td>\n      <td>-2</td>\n    </tr>\n    <tr>\n      <th>6</th>\n      <td>Gameling</td>\n      <td>3</td>\n      <td>2</td>\n      <td>-3</td>\n    </tr>\n    <tr>\n      <th>7</th>\n      <td>Vena Gear</td>\n      <td>2</td>\n      <td>3</td>\n      <td>1</td>\n    </tr>\n    <tr>\n      <th>8</th>\n      <td>Vena Oasis</td>\n      <td>1</td>\n      <td>3</td>\n      <td>2</td>\n    </tr>\n    <tr>\n      <th>9</th>\n      <td>Super TES</td>\n      <td>3</td>\n      <td>2</td>\n      <td>-2</td>\n    </tr>\n    <tr>\n      <th>10</th>\n      <td>Playsystem</td>\n      <td>1</td>\n      <td>3</td>\n      <td>2</td>\n    </tr>\n    <tr>\n      <th>11</th>\n      <td>TES 64</td>\n      <td>3</td>\n      <td>2</td>\n      <td>2</td>\n    </tr>\n    <tr>\n      <th>12</th>\n      <td>DreamVast</td>\n      <td>-2</td>\n      <td>3</td>\n      <td>3</td>\n    </tr>\n    <tr>\n      <th>13</th>\n      <td>Playsystem 2</td>\n      <td>2</td>\n      <td>3</td>\n      <td>1</td>\n    </tr>\n    <tr>\n      <th>14</th>\n      <td>mBox</td>\n      <td>1</td>\n      <td>3</td>\n      <td>2</td>\n    </tr>\n    <tr>\n      <th>15</th>\n      <td>Game Sphere</td>\n      <td>2</td>\n      <td>2</td>\n      <td>1</td>\n    </tr>\n    <tr>\n      <th>16</th>\n      <td>GS</td>\n      <td>3</td>\n      <td>2</td>\n      <td>1</td>\n    </tr>\n    <tr>\n      <th>17</th>\n      <td>PPS</td>\n      <td>1</td>\n      <td>2</td>\n      <td>3</td>\n    </tr>\n    <tr>\n      <th>18</th>\n      <td>mBox 360</td>\n      <td>1</td>\n      <td>2</td>\n      <td>3</td>\n    </tr>\n    <tr>\n      <th>19</th>\n      <td>Nuu</td>\n      <td>3</td>\n      <td>3</td>\n      <td>-2</td>\n    </tr>\n    <tr>\n      <th>20</th>\n      <td>Playsystem 3</td>\n      <td>1</td>\n      <td>3</td>\n      <td>2</td>\n    </tr>\n    <tr>\n      <th>21</th>\n      <td>grPhone</td>\n      <td>2</td>\n      <td>3</td>\n      <td>-3</td>\n    </tr>\n    <tr>\n      <th>22</th>\n      <td>grPad</td>\n      <td>2</td>\n      <td>3</td>\n      <td>-3</td>\n    </tr>\n    <tr>\n      <th>23</th>\n      <td>mPad</td>\n      <td>-2</td>\n      <td>2</td>\n      <td>1</td>\n    </tr>\n    <tr>\n      <th>24</th>\n      <td>Wuu</td>\n      <td>2</td>\n      <td>3</td>\n      <td>-2</td>\n    </tr>\n    <tr>\n      <th>25</th>\n      <td>OYA</td>\n      <td>1</td>\n      <td>3</td>\n      <td>2</td>\n    </tr>\n    <tr>\n      <th>26</th>\n      <td>mBox One</td>\n      <td>-2</td>\n      <td>3</td>\n      <td>1</td>\n    </tr>\n    <tr>\n      <th>27</th>\n      <td>Playsystem 4</td>\n      <td>1</td>\n      <td>3</td>\n      <td>2</td>\n    </tr>\n    <tr>\n      <th>28</th>\n      <td>mBox Next</td>\n      <td>2</td>\n      <td>3</td>\n      <td>1</td>\n    </tr>\n    <tr>\n      <th>29</th>\n      <td>Playsystem 5</td>\n      <td>1</td>\n      <td>3</td>\n      <td>2</td>\n    </tr>\n  </tbody>\n</table>\n</div>"
     },
     "execution_count": 158,
     "metadata": {},
     "output_type": "execute_result"
    }
   ],
   "source": [
    "systems_audience = system_table.iloc[1:-3,-3:]\n",
    "systems_audience_first_col = system_table.iloc[1:,0]\n",
    "systems_audience.insert(0,\"System\",systems_audience_first_col)\n",
    "systems_audience = systems_audience.applymap(convert_to_numerical)\n",
    "systems_audience"
   ],
   "metadata": {
    "collapsed": false,
    "ExecuteTime": {
     "end_time": "2023-11-22T18:32:34.093413Z",
     "start_time": "2023-11-22T18:32:33.995257Z"
    }
   },
   "id": "7f461e08d4e21cef"
  },
  {
   "cell_type": "code",
   "execution_count": 159,
   "outputs": [],
   "source": [
    "#topics.to_csv(\"topics.csv\")"
   ],
   "metadata": {
    "collapsed": false,
    "ExecuteTime": {
     "end_time": "2023-11-22T18:32:34.093862Z",
     "start_time": "2023-11-22T18:32:33.997532Z"
    }
   },
   "id": "3f30f32f72b49244"
  },
  {
   "cell_type": "code",
   "execution_count": 160,
   "outputs": [],
   "source": [
    "#audience.to_csv(\"audience.csv\")\n",
    "#systems_topics.to_csv(\"systems_topics.csv\")\n",
    "#systems_audience.to_csv(\"systems_audience.csv\")"
   ],
   "metadata": {
    "collapsed": false,
    "ExecuteTime": {
     "end_time": "2023-11-22T18:32:34.131651Z",
     "start_time": "2023-11-22T18:32:33.999676Z"
    }
   },
   "id": "4a2104058580742b"
  },
  {
   "cell_type": "code",
   "execution_count": 161,
   "outputs": [],
   "source": [
    "release_dates = [\n",
    "    'Release_Date',\n",
    "    '1/1/0001',\n",
    "    '1/1/0001',\n",
    "    '3/2/0002',\n",
    "    '6/4/0003',\n",
    "    '2/4/0004',\n",
    "    '9/2/0004',\n",
    "    '11/1/0005',\n",
    "    '10/4/0006',\n",
    "    '8/1/0008',\n",
    "    '6/2/0010',\n",
    "    '9/4/0011',\n",
    "    '2/1/0013',\n",
    "    '10/4/0013',\n",
    "    '11/4/0014',\n",
    "    '10/1/0015',\n",
    "    '6/2/0016',\n",
    "    '4/1/0019',\n",
    "    '1/3/0020',\n",
    "    '4/4/0020',\n",
    "    '10/4/0020',\n",
    "    '8/2/0021',\n",
    "    '9/1/0022',\n",
    "    '2/3/0024',\n",
    "    '6/2/0026',\n",
    "    '6/1/0027',\n",
    "    '8/2/0027',\n",
    "    '2/1/0032',\n",
    "    '4/3/0032'\n",
    "]"
   ],
   "metadata": {
    "collapsed": false,
    "ExecuteTime": {
     "end_time": "2023-11-22T18:32:34.150505Z",
     "start_time": "2023-11-22T18:32:34.002658Z"
    }
   },
   "id": "b8149f815ff3cbb6"
  },
  {
   "cell_type": "code",
   "execution_count": 162,
   "outputs": [
    {
     "data": {
      "text/plain": "               0       1          2    3           4         5       6\n1         System  Action  Adventure  RPG  Simulation  Strategy  Casual\n2             PC       2          3    2           3         3      -3\n3            G64       2          3    2           2         3      -2\n4            TES       1         -2    1           1        -2       3\n5       Master V       2         -2    1           1        -2       3\n6       Gameling       1         -2    2           2        -3       3\n7      Vena Gear       2          1    1           2        -3       3\n8     Vena Oasis       3          1    1           2        -3      -2\n9      Super TES       2          2    2           3        -2       2\n10    Playsystem       3          1    3           2        -2      -3\n11        TES 64       2          1   -2           1        -2       2\n12     DreamVast       3         -2    1           3        -2      -2\n13  Playsystem 2       3          1    3           2        -2       2\n14          mBox       3          1    2           2        -2      -2\n15   Game Sphere       1          1   -2           1        -2       3\n16            GS       2          2    3           2         2       3\n17           PPS       3         -2    3           1         1       1\n18      mBox 360       3          2    3           2        -2       2\n19           Nuu       1         -3   -2           3        -2       3\n20  Playsystem 3       3          2    2           3        -2       1\n21       grPhone       1          1   -2           2        -2       3\n22         grPad       1          2   -2           2         2       3\n23          mPad      -2          2    1           2        -2       2\n24           Wuu       2         -2    1           3        -2       3\n25           OYA       2         -2    1           2         1       3\n26      mBox One       3          1    2           2        -2       2\n27  Playsystem 4       3          1    3           2        -2       2\n28     mBox Next       2          2    2           1        -2       3\n29  Playsystem 5       3         -2    2           3        -2       2",
      "text/html": "<div>\n<style scoped>\n    .dataframe tbody tr th:only-of-type {\n        vertical-align: middle;\n    }\n\n    .dataframe tbody tr th {\n        vertical-align: top;\n    }\n\n    .dataframe thead th {\n        text-align: right;\n    }\n</style>\n<table border=\"1\" class=\"dataframe\">\n  <thead>\n    <tr style=\"text-align: right;\">\n      <th></th>\n      <th>0</th>\n      <th>1</th>\n      <th>2</th>\n      <th>3</th>\n      <th>4</th>\n      <th>5</th>\n      <th>6</th>\n    </tr>\n  </thead>\n  <tbody>\n    <tr>\n      <th>1</th>\n      <td>System</td>\n      <td>Action</td>\n      <td>Adventure</td>\n      <td>RPG</td>\n      <td>Simulation</td>\n      <td>Strategy</td>\n      <td>Casual</td>\n    </tr>\n    <tr>\n      <th>2</th>\n      <td>PC</td>\n      <td>2</td>\n      <td>3</td>\n      <td>2</td>\n      <td>3</td>\n      <td>3</td>\n      <td>-3</td>\n    </tr>\n    <tr>\n      <th>3</th>\n      <td>G64</td>\n      <td>2</td>\n      <td>3</td>\n      <td>2</td>\n      <td>2</td>\n      <td>3</td>\n      <td>-2</td>\n    </tr>\n    <tr>\n      <th>4</th>\n      <td>TES</td>\n      <td>1</td>\n      <td>-2</td>\n      <td>1</td>\n      <td>1</td>\n      <td>-2</td>\n      <td>3</td>\n    </tr>\n    <tr>\n      <th>5</th>\n      <td>Master V</td>\n      <td>2</td>\n      <td>-2</td>\n      <td>1</td>\n      <td>1</td>\n      <td>-2</td>\n      <td>3</td>\n    </tr>\n    <tr>\n      <th>6</th>\n      <td>Gameling</td>\n      <td>1</td>\n      <td>-2</td>\n      <td>2</td>\n      <td>2</td>\n      <td>-3</td>\n      <td>3</td>\n    </tr>\n    <tr>\n      <th>7</th>\n      <td>Vena Gear</td>\n      <td>2</td>\n      <td>1</td>\n      <td>1</td>\n      <td>2</td>\n      <td>-3</td>\n      <td>3</td>\n    </tr>\n    <tr>\n      <th>8</th>\n      <td>Vena Oasis</td>\n      <td>3</td>\n      <td>1</td>\n      <td>1</td>\n      <td>2</td>\n      <td>-3</td>\n      <td>-2</td>\n    </tr>\n    <tr>\n      <th>9</th>\n      <td>Super TES</td>\n      <td>2</td>\n      <td>2</td>\n      <td>2</td>\n      <td>3</td>\n      <td>-2</td>\n      <td>2</td>\n    </tr>\n    <tr>\n      <th>10</th>\n      <td>Playsystem</td>\n      <td>3</td>\n      <td>1</td>\n      <td>3</td>\n      <td>2</td>\n      <td>-2</td>\n      <td>-3</td>\n    </tr>\n    <tr>\n      <th>11</th>\n      <td>TES 64</td>\n      <td>2</td>\n      <td>1</td>\n      <td>-2</td>\n      <td>1</td>\n      <td>-2</td>\n      <td>2</td>\n    </tr>\n    <tr>\n      <th>12</th>\n      <td>DreamVast</td>\n      <td>3</td>\n      <td>-2</td>\n      <td>1</td>\n      <td>3</td>\n      <td>-2</td>\n      <td>-2</td>\n    </tr>\n    <tr>\n      <th>13</th>\n      <td>Playsystem 2</td>\n      <td>3</td>\n      <td>1</td>\n      <td>3</td>\n      <td>2</td>\n      <td>-2</td>\n      <td>2</td>\n    </tr>\n    <tr>\n      <th>14</th>\n      <td>mBox</td>\n      <td>3</td>\n      <td>1</td>\n      <td>2</td>\n      <td>2</td>\n      <td>-2</td>\n      <td>-2</td>\n    </tr>\n    <tr>\n      <th>15</th>\n      <td>Game Sphere</td>\n      <td>1</td>\n      <td>1</td>\n      <td>-2</td>\n      <td>1</td>\n      <td>-2</td>\n      <td>3</td>\n    </tr>\n    <tr>\n      <th>16</th>\n      <td>GS</td>\n      <td>2</td>\n      <td>2</td>\n      <td>3</td>\n      <td>2</td>\n      <td>2</td>\n      <td>3</td>\n    </tr>\n    <tr>\n      <th>17</th>\n      <td>PPS</td>\n      <td>3</td>\n      <td>-2</td>\n      <td>3</td>\n      <td>1</td>\n      <td>1</td>\n      <td>1</td>\n    </tr>\n    <tr>\n      <th>18</th>\n      <td>mBox 360</td>\n      <td>3</td>\n      <td>2</td>\n      <td>3</td>\n      <td>2</td>\n      <td>-2</td>\n      <td>2</td>\n    </tr>\n    <tr>\n      <th>19</th>\n      <td>Nuu</td>\n      <td>1</td>\n      <td>-3</td>\n      <td>-2</td>\n      <td>3</td>\n      <td>-2</td>\n      <td>3</td>\n    </tr>\n    <tr>\n      <th>20</th>\n      <td>Playsystem 3</td>\n      <td>3</td>\n      <td>2</td>\n      <td>2</td>\n      <td>3</td>\n      <td>-2</td>\n      <td>1</td>\n    </tr>\n    <tr>\n      <th>21</th>\n      <td>grPhone</td>\n      <td>1</td>\n      <td>1</td>\n      <td>-2</td>\n      <td>2</td>\n      <td>-2</td>\n      <td>3</td>\n    </tr>\n    <tr>\n      <th>22</th>\n      <td>grPad</td>\n      <td>1</td>\n      <td>2</td>\n      <td>-2</td>\n      <td>2</td>\n      <td>2</td>\n      <td>3</td>\n    </tr>\n    <tr>\n      <th>23</th>\n      <td>mPad</td>\n      <td>-2</td>\n      <td>2</td>\n      <td>1</td>\n      <td>2</td>\n      <td>-2</td>\n      <td>2</td>\n    </tr>\n    <tr>\n      <th>24</th>\n      <td>Wuu</td>\n      <td>2</td>\n      <td>-2</td>\n      <td>1</td>\n      <td>3</td>\n      <td>-2</td>\n      <td>3</td>\n    </tr>\n    <tr>\n      <th>25</th>\n      <td>OYA</td>\n      <td>2</td>\n      <td>-2</td>\n      <td>1</td>\n      <td>2</td>\n      <td>1</td>\n      <td>3</td>\n    </tr>\n    <tr>\n      <th>26</th>\n      <td>mBox One</td>\n      <td>3</td>\n      <td>1</td>\n      <td>2</td>\n      <td>2</td>\n      <td>-2</td>\n      <td>2</td>\n    </tr>\n    <tr>\n      <th>27</th>\n      <td>Playsystem 4</td>\n      <td>3</td>\n      <td>1</td>\n      <td>3</td>\n      <td>2</td>\n      <td>-2</td>\n      <td>2</td>\n    </tr>\n    <tr>\n      <th>28</th>\n      <td>mBox Next</td>\n      <td>2</td>\n      <td>2</td>\n      <td>2</td>\n      <td>1</td>\n      <td>-2</td>\n      <td>3</td>\n    </tr>\n    <tr>\n      <th>29</th>\n      <td>Playsystem 5</td>\n      <td>3</td>\n      <td>-2</td>\n      <td>2</td>\n      <td>3</td>\n      <td>-2</td>\n      <td>2</td>\n    </tr>\n  </tbody>\n</table>\n</div>"
     },
     "execution_count": 162,
     "metadata": {},
     "output_type": "execute_result"
    }
   ],
   "source": [
    "systems_topics"
   ],
   "metadata": {
    "collapsed": false,
    "ExecuteTime": {
     "end_time": "2023-11-22T18:32:34.151860Z",
     "start_time": "2023-11-22T18:32:34.007865Z"
    }
   },
   "id": "e2dde0ab2f986811"
  },
  {
   "cell_type": "code",
   "execution_count": 162,
   "outputs": [],
   "source": [],
   "metadata": {
    "collapsed": false,
    "ExecuteTime": {
     "end_time": "2023-11-22T18:32:34.152784Z",
     "start_time": "2023-11-22T18:32:34.010294Z"
    }
   },
   "id": "49d729a7c56084ba"
  },
  {
   "cell_type": "code",
   "execution_count": 167,
   "outputs": [],
   "source": [
    "systems_topics.to_csv(\"systems_topics.csv\")\n",
    "systems_audience.to_csv(\"systems_audience.csv\")"
   ],
   "metadata": {
    "collapsed": false,
    "ExecuteTime": {
     "end_time": "2023-11-22T18:33:13.961415Z",
     "start_time": "2023-11-22T18:33:13.937230Z"
    }
   },
   "id": "91eeba70a7d7f03f"
  },
  {
   "cell_type": "code",
   "execution_count": 164,
   "outputs": [
    {
     "data": {
      "text/plain": "          System   8  9  10\n1         System   Y  E   M\n2             PC   1  2   3\n3            G64   1  2   3\n4            TES   3  2  -3\n5       Master V   2  3  -2\n6       Gameling   3  2  -3\n7      Vena Gear   2  3   1\n8     Vena Oasis   1  3   2\n9      Super TES   3  2  -2\n10    Playsystem   1  3   2\n11        TES 64   3  2   2\n12     DreamVast  -2  3   3\n13  Playsystem 2   2  3   1\n14          mBox   1  3   2\n15   Game Sphere   2  2   1\n16            GS   3  2   1\n17           PPS   1  2   3\n18      mBox 360   1  2   3\n19           Nuu   3  3  -2\n20  Playsystem 3   1  3   2\n21       grPhone   2  3  -3\n22         grPad   2  3  -3\n23          mPad  -2  2   1\n24           Wuu   2  3  -2\n25           OYA   1  3   2\n26      mBox One  -2  3   1\n27  Playsystem 4   1  3   2\n28     mBox Next   2  3   1\n29  Playsystem 5   1  3   2",
      "text/html": "<div>\n<style scoped>\n    .dataframe tbody tr th:only-of-type {\n        vertical-align: middle;\n    }\n\n    .dataframe tbody tr th {\n        vertical-align: top;\n    }\n\n    .dataframe thead th {\n        text-align: right;\n    }\n</style>\n<table border=\"1\" class=\"dataframe\">\n  <thead>\n    <tr style=\"text-align: right;\">\n      <th></th>\n      <th>System</th>\n      <th>8</th>\n      <th>9</th>\n      <th>10</th>\n    </tr>\n  </thead>\n  <tbody>\n    <tr>\n      <th>1</th>\n      <td>System</td>\n      <td>Y</td>\n      <td>E</td>\n      <td>M</td>\n    </tr>\n    <tr>\n      <th>2</th>\n      <td>PC</td>\n      <td>1</td>\n      <td>2</td>\n      <td>3</td>\n    </tr>\n    <tr>\n      <th>3</th>\n      <td>G64</td>\n      <td>1</td>\n      <td>2</td>\n      <td>3</td>\n    </tr>\n    <tr>\n      <th>4</th>\n      <td>TES</td>\n      <td>3</td>\n      <td>2</td>\n      <td>-3</td>\n    </tr>\n    <tr>\n      <th>5</th>\n      <td>Master V</td>\n      <td>2</td>\n      <td>3</td>\n      <td>-2</td>\n    </tr>\n    <tr>\n      <th>6</th>\n      <td>Gameling</td>\n      <td>3</td>\n      <td>2</td>\n      <td>-3</td>\n    </tr>\n    <tr>\n      <th>7</th>\n      <td>Vena Gear</td>\n      <td>2</td>\n      <td>3</td>\n      <td>1</td>\n    </tr>\n    <tr>\n      <th>8</th>\n      <td>Vena Oasis</td>\n      <td>1</td>\n      <td>3</td>\n      <td>2</td>\n    </tr>\n    <tr>\n      <th>9</th>\n      <td>Super TES</td>\n      <td>3</td>\n      <td>2</td>\n      <td>-2</td>\n    </tr>\n    <tr>\n      <th>10</th>\n      <td>Playsystem</td>\n      <td>1</td>\n      <td>3</td>\n      <td>2</td>\n    </tr>\n    <tr>\n      <th>11</th>\n      <td>TES 64</td>\n      <td>3</td>\n      <td>2</td>\n      <td>2</td>\n    </tr>\n    <tr>\n      <th>12</th>\n      <td>DreamVast</td>\n      <td>-2</td>\n      <td>3</td>\n      <td>3</td>\n    </tr>\n    <tr>\n      <th>13</th>\n      <td>Playsystem 2</td>\n      <td>2</td>\n      <td>3</td>\n      <td>1</td>\n    </tr>\n    <tr>\n      <th>14</th>\n      <td>mBox</td>\n      <td>1</td>\n      <td>3</td>\n      <td>2</td>\n    </tr>\n    <tr>\n      <th>15</th>\n      <td>Game Sphere</td>\n      <td>2</td>\n      <td>2</td>\n      <td>1</td>\n    </tr>\n    <tr>\n      <th>16</th>\n      <td>GS</td>\n      <td>3</td>\n      <td>2</td>\n      <td>1</td>\n    </tr>\n    <tr>\n      <th>17</th>\n      <td>PPS</td>\n      <td>1</td>\n      <td>2</td>\n      <td>3</td>\n    </tr>\n    <tr>\n      <th>18</th>\n      <td>mBox 360</td>\n      <td>1</td>\n      <td>2</td>\n      <td>3</td>\n    </tr>\n    <tr>\n      <th>19</th>\n      <td>Nuu</td>\n      <td>3</td>\n      <td>3</td>\n      <td>-2</td>\n    </tr>\n    <tr>\n      <th>20</th>\n      <td>Playsystem 3</td>\n      <td>1</td>\n      <td>3</td>\n      <td>2</td>\n    </tr>\n    <tr>\n      <th>21</th>\n      <td>grPhone</td>\n      <td>2</td>\n      <td>3</td>\n      <td>-3</td>\n    </tr>\n    <tr>\n      <th>22</th>\n      <td>grPad</td>\n      <td>2</td>\n      <td>3</td>\n      <td>-3</td>\n    </tr>\n    <tr>\n      <th>23</th>\n      <td>mPad</td>\n      <td>-2</td>\n      <td>2</td>\n      <td>1</td>\n    </tr>\n    <tr>\n      <th>24</th>\n      <td>Wuu</td>\n      <td>2</td>\n      <td>3</td>\n      <td>-2</td>\n    </tr>\n    <tr>\n      <th>25</th>\n      <td>OYA</td>\n      <td>1</td>\n      <td>3</td>\n      <td>2</td>\n    </tr>\n    <tr>\n      <th>26</th>\n      <td>mBox One</td>\n      <td>-2</td>\n      <td>3</td>\n      <td>1</td>\n    </tr>\n    <tr>\n      <th>27</th>\n      <td>Playsystem 4</td>\n      <td>1</td>\n      <td>3</td>\n      <td>2</td>\n    </tr>\n    <tr>\n      <th>28</th>\n      <td>mBox Next</td>\n      <td>2</td>\n      <td>3</td>\n      <td>1</td>\n    </tr>\n    <tr>\n      <th>29</th>\n      <td>Playsystem 5</td>\n      <td>1</td>\n      <td>3</td>\n      <td>2</td>\n    </tr>\n  </tbody>\n</table>\n</div>"
     },
     "execution_count": 164,
     "metadata": {},
     "output_type": "execute_result"
    }
   ],
   "source": [
    "systems_audience"
   ],
   "metadata": {
    "collapsed": false,
    "ExecuteTime": {
     "end_time": "2023-11-22T18:32:34.163221Z",
     "start_time": "2023-11-22T18:32:34.017542Z"
    }
   },
   "id": "612da72ef2cc3447"
  },
  {
   "cell_type": "code",
   "execution_count": 165,
   "outputs": [
    {
     "data": {
      "text/plain": "                    0       1          2    3           4         5       6\n1               Topic  Action  Adventure  RPG  Simulation  Strategy  Casual\n2            Abstract       2          3   -3          -3         1      -3\n3            Airplane       3         -3    1           3         3       3\n4              Aliens       3          1    3          -3         2      -2\n5   Alternate History       3          1    3           1         2      -3\n..                ...     ...        ...  ...         ...       ...     ...\n64        Virtual Pet      -3          1    2           3         2       3\n65         Vocabulary      -3         -3   -3           3         3       3\n66           Werewolf       3          1    3          -3        -3      -2\n67          Wild West       2         -2    3          -3        -3      -2\n68            Zombies       3         -2   -3          -3         2       3\n\n[68 rows x 7 columns]",
      "text/html": "<div>\n<style scoped>\n    .dataframe tbody tr th:only-of-type {\n        vertical-align: middle;\n    }\n\n    .dataframe tbody tr th {\n        vertical-align: top;\n    }\n\n    .dataframe thead th {\n        text-align: right;\n    }\n</style>\n<table border=\"1\" class=\"dataframe\">\n  <thead>\n    <tr style=\"text-align: right;\">\n      <th></th>\n      <th>0</th>\n      <th>1</th>\n      <th>2</th>\n      <th>3</th>\n      <th>4</th>\n      <th>5</th>\n      <th>6</th>\n    </tr>\n  </thead>\n  <tbody>\n    <tr>\n      <th>1</th>\n      <td>Topic</td>\n      <td>Action</td>\n      <td>Adventure</td>\n      <td>RPG</td>\n      <td>Simulation</td>\n      <td>Strategy</td>\n      <td>Casual</td>\n    </tr>\n    <tr>\n      <th>2</th>\n      <td>Abstract</td>\n      <td>2</td>\n      <td>3</td>\n      <td>-3</td>\n      <td>-3</td>\n      <td>1</td>\n      <td>-3</td>\n    </tr>\n    <tr>\n      <th>3</th>\n      <td>Airplane</td>\n      <td>3</td>\n      <td>-3</td>\n      <td>1</td>\n      <td>3</td>\n      <td>3</td>\n      <td>3</td>\n    </tr>\n    <tr>\n      <th>4</th>\n      <td>Aliens</td>\n      <td>3</td>\n      <td>1</td>\n      <td>3</td>\n      <td>-3</td>\n      <td>2</td>\n      <td>-2</td>\n    </tr>\n    <tr>\n      <th>5</th>\n      <td>Alternate History</td>\n      <td>3</td>\n      <td>1</td>\n      <td>3</td>\n      <td>1</td>\n      <td>2</td>\n      <td>-3</td>\n    </tr>\n    <tr>\n      <th>...</th>\n      <td>...</td>\n      <td>...</td>\n      <td>...</td>\n      <td>...</td>\n      <td>...</td>\n      <td>...</td>\n      <td>...</td>\n    </tr>\n    <tr>\n      <th>64</th>\n      <td>Virtual Pet</td>\n      <td>-3</td>\n      <td>1</td>\n      <td>2</td>\n      <td>3</td>\n      <td>2</td>\n      <td>3</td>\n    </tr>\n    <tr>\n      <th>65</th>\n      <td>Vocabulary</td>\n      <td>-3</td>\n      <td>-3</td>\n      <td>-3</td>\n      <td>3</td>\n      <td>3</td>\n      <td>3</td>\n    </tr>\n    <tr>\n      <th>66</th>\n      <td>Werewolf</td>\n      <td>3</td>\n      <td>1</td>\n      <td>3</td>\n      <td>-3</td>\n      <td>-3</td>\n      <td>-2</td>\n    </tr>\n    <tr>\n      <th>67</th>\n      <td>Wild West</td>\n      <td>2</td>\n      <td>-2</td>\n      <td>3</td>\n      <td>-3</td>\n      <td>-3</td>\n      <td>-2</td>\n    </tr>\n    <tr>\n      <th>68</th>\n      <td>Zombies</td>\n      <td>3</td>\n      <td>-2</td>\n      <td>-3</td>\n      <td>-3</td>\n      <td>2</td>\n      <td>3</td>\n    </tr>\n  </tbody>\n</table>\n<p>68 rows × 7 columns</p>\n</div>"
     },
     "execution_count": 165,
     "metadata": {},
     "output_type": "execute_result"
    }
   ],
   "source": [
    "topics"
   ],
   "metadata": {
    "collapsed": false,
    "ExecuteTime": {
     "end_time": "2023-11-22T18:32:34.164002Z",
     "start_time": "2023-11-22T18:32:34.023347Z"
    }
   },
   "id": "72d7e196ec84ef0f"
  },
  {
   "cell_type": "code",
   "execution_count": 166,
   "outputs": [
    {
     "data": {
      "text/plain": "               0       1          2    3           4         5       6\n1         System  Action  Adventure  RPG  Simulation  Strategy  Casual\n2             PC       2          3    2           3         3      -3\n3            G64       2          3    2           2         3      -2\n4            TES       1         -2    1           1        -2       3\n5       Master V       2         -2    1           1        -2       3\n6       Gameling       1         -2    2           2        -3       3\n7      Vena Gear       2          1    1           2        -3       3\n8     Vena Oasis       3          1    1           2        -3      -2\n9      Super TES       2          2    2           3        -2       2\n10    Playsystem       3          1    3           2        -2      -3\n11        TES 64       2          1   -2           1        -2       2\n12     DreamVast       3         -2    1           3        -2      -2\n13  Playsystem 2       3          1    3           2        -2       2\n14          mBox       3          1    2           2        -2      -2\n15   Game Sphere       1          1   -2           1        -2       3\n16            GS       2          2    3           2         2       3\n17           PPS       3         -2    3           1         1       1\n18      mBox 360       3          2    3           2        -2       2\n19           Nuu       1         -3   -2           3        -2       3\n20  Playsystem 3       3          2    2           3        -2       1\n21       grPhone       1          1   -2           2        -2       3\n22         grPad       1          2   -2           2         2       3\n23          mPad      -2          2    1           2        -2       2\n24           Wuu       2         -2    1           3        -2       3\n25           OYA       2         -2    1           2         1       3\n26      mBox One       3          1    2           2        -2       2\n27  Playsystem 4       3          1    3           2        -2       2\n28     mBox Next       2          2    2           1        -2       3\n29  Playsystem 5       3         -2    2           3        -2       2",
      "text/html": "<div>\n<style scoped>\n    .dataframe tbody tr th:only-of-type {\n        vertical-align: middle;\n    }\n\n    .dataframe tbody tr th {\n        vertical-align: top;\n    }\n\n    .dataframe thead th {\n        text-align: right;\n    }\n</style>\n<table border=\"1\" class=\"dataframe\">\n  <thead>\n    <tr style=\"text-align: right;\">\n      <th></th>\n      <th>0</th>\n      <th>1</th>\n      <th>2</th>\n      <th>3</th>\n      <th>4</th>\n      <th>5</th>\n      <th>6</th>\n    </tr>\n  </thead>\n  <tbody>\n    <tr>\n      <th>1</th>\n      <td>System</td>\n      <td>Action</td>\n      <td>Adventure</td>\n      <td>RPG</td>\n      <td>Simulation</td>\n      <td>Strategy</td>\n      <td>Casual</td>\n    </tr>\n    <tr>\n      <th>2</th>\n      <td>PC</td>\n      <td>2</td>\n      <td>3</td>\n      <td>2</td>\n      <td>3</td>\n      <td>3</td>\n      <td>-3</td>\n    </tr>\n    <tr>\n      <th>3</th>\n      <td>G64</td>\n      <td>2</td>\n      <td>3</td>\n      <td>2</td>\n      <td>2</td>\n      <td>3</td>\n      <td>-2</td>\n    </tr>\n    <tr>\n      <th>4</th>\n      <td>TES</td>\n      <td>1</td>\n      <td>-2</td>\n      <td>1</td>\n      <td>1</td>\n      <td>-2</td>\n      <td>3</td>\n    </tr>\n    <tr>\n      <th>5</th>\n      <td>Master V</td>\n      <td>2</td>\n      <td>-2</td>\n      <td>1</td>\n      <td>1</td>\n      <td>-2</td>\n      <td>3</td>\n    </tr>\n    <tr>\n      <th>6</th>\n      <td>Gameling</td>\n      <td>1</td>\n      <td>-2</td>\n      <td>2</td>\n      <td>2</td>\n      <td>-3</td>\n      <td>3</td>\n    </tr>\n    <tr>\n      <th>7</th>\n      <td>Vena Gear</td>\n      <td>2</td>\n      <td>1</td>\n      <td>1</td>\n      <td>2</td>\n      <td>-3</td>\n      <td>3</td>\n    </tr>\n    <tr>\n      <th>8</th>\n      <td>Vena Oasis</td>\n      <td>3</td>\n      <td>1</td>\n      <td>1</td>\n      <td>2</td>\n      <td>-3</td>\n      <td>-2</td>\n    </tr>\n    <tr>\n      <th>9</th>\n      <td>Super TES</td>\n      <td>2</td>\n      <td>2</td>\n      <td>2</td>\n      <td>3</td>\n      <td>-2</td>\n      <td>2</td>\n    </tr>\n    <tr>\n      <th>10</th>\n      <td>Playsystem</td>\n      <td>3</td>\n      <td>1</td>\n      <td>3</td>\n      <td>2</td>\n      <td>-2</td>\n      <td>-3</td>\n    </tr>\n    <tr>\n      <th>11</th>\n      <td>TES 64</td>\n      <td>2</td>\n      <td>1</td>\n      <td>-2</td>\n      <td>1</td>\n      <td>-2</td>\n      <td>2</td>\n    </tr>\n    <tr>\n      <th>12</th>\n      <td>DreamVast</td>\n      <td>3</td>\n      <td>-2</td>\n      <td>1</td>\n      <td>3</td>\n      <td>-2</td>\n      <td>-2</td>\n    </tr>\n    <tr>\n      <th>13</th>\n      <td>Playsystem 2</td>\n      <td>3</td>\n      <td>1</td>\n      <td>3</td>\n      <td>2</td>\n      <td>-2</td>\n      <td>2</td>\n    </tr>\n    <tr>\n      <th>14</th>\n      <td>mBox</td>\n      <td>3</td>\n      <td>1</td>\n      <td>2</td>\n      <td>2</td>\n      <td>-2</td>\n      <td>-2</td>\n    </tr>\n    <tr>\n      <th>15</th>\n      <td>Game Sphere</td>\n      <td>1</td>\n      <td>1</td>\n      <td>-2</td>\n      <td>1</td>\n      <td>-2</td>\n      <td>3</td>\n    </tr>\n    <tr>\n      <th>16</th>\n      <td>GS</td>\n      <td>2</td>\n      <td>2</td>\n      <td>3</td>\n      <td>2</td>\n      <td>2</td>\n      <td>3</td>\n    </tr>\n    <tr>\n      <th>17</th>\n      <td>PPS</td>\n      <td>3</td>\n      <td>-2</td>\n      <td>3</td>\n      <td>1</td>\n      <td>1</td>\n      <td>1</td>\n    </tr>\n    <tr>\n      <th>18</th>\n      <td>mBox 360</td>\n      <td>3</td>\n      <td>2</td>\n      <td>3</td>\n      <td>2</td>\n      <td>-2</td>\n      <td>2</td>\n    </tr>\n    <tr>\n      <th>19</th>\n      <td>Nuu</td>\n      <td>1</td>\n      <td>-3</td>\n      <td>-2</td>\n      <td>3</td>\n      <td>-2</td>\n      <td>3</td>\n    </tr>\n    <tr>\n      <th>20</th>\n      <td>Playsystem 3</td>\n      <td>3</td>\n      <td>2</td>\n      <td>2</td>\n      <td>3</td>\n      <td>-2</td>\n      <td>1</td>\n    </tr>\n    <tr>\n      <th>21</th>\n      <td>grPhone</td>\n      <td>1</td>\n      <td>1</td>\n      <td>-2</td>\n      <td>2</td>\n      <td>-2</td>\n      <td>3</td>\n    </tr>\n    <tr>\n      <th>22</th>\n      <td>grPad</td>\n      <td>1</td>\n      <td>2</td>\n      <td>-2</td>\n      <td>2</td>\n      <td>2</td>\n      <td>3</td>\n    </tr>\n    <tr>\n      <th>23</th>\n      <td>mPad</td>\n      <td>-2</td>\n      <td>2</td>\n      <td>1</td>\n      <td>2</td>\n      <td>-2</td>\n      <td>2</td>\n    </tr>\n    <tr>\n      <th>24</th>\n      <td>Wuu</td>\n      <td>2</td>\n      <td>-2</td>\n      <td>1</td>\n      <td>3</td>\n      <td>-2</td>\n      <td>3</td>\n    </tr>\n    <tr>\n      <th>25</th>\n      <td>OYA</td>\n      <td>2</td>\n      <td>-2</td>\n      <td>1</td>\n      <td>2</td>\n      <td>1</td>\n      <td>3</td>\n    </tr>\n    <tr>\n      <th>26</th>\n      <td>mBox One</td>\n      <td>3</td>\n      <td>1</td>\n      <td>2</td>\n      <td>2</td>\n      <td>-2</td>\n      <td>2</td>\n    </tr>\n    <tr>\n      <th>27</th>\n      <td>Playsystem 4</td>\n      <td>3</td>\n      <td>1</td>\n      <td>3</td>\n      <td>2</td>\n      <td>-2</td>\n      <td>2</td>\n    </tr>\n    <tr>\n      <th>28</th>\n      <td>mBox Next</td>\n      <td>2</td>\n      <td>2</td>\n      <td>2</td>\n      <td>1</td>\n      <td>-2</td>\n      <td>3</td>\n    </tr>\n    <tr>\n      <th>29</th>\n      <td>Playsystem 5</td>\n      <td>3</td>\n      <td>-2</td>\n      <td>2</td>\n      <td>3</td>\n      <td>-2</td>\n      <td>2</td>\n    </tr>\n  </tbody>\n</table>\n</div>"
     },
     "execution_count": 166,
     "metadata": {},
     "output_type": "execute_result"
    }
   ],
   "source": [
    "systems_topics"
   ],
   "metadata": {
    "collapsed": false,
    "ExecuteTime": {
     "end_time": "2023-11-22T18:32:34.165277Z",
     "start_time": "2023-11-22T18:32:34.029019Z"
    }
   },
   "id": "672da955878d8c2b"
  },
  {
   "cell_type": "code",
   "execution_count": 243,
   "outputs": [
    {
     "name": "stdout",
     "output_type": "stream",
     "text": [
      "['Action - Airplane', 'Action - Aliens', 'Action - Alternate History', 'Action - Assassin', 'Action - Crime', 'Action - Cyberpunk', 'Action - Dungeon', 'Action - Extreme Sports', 'Action - Fantasy', 'Action - Horror', 'Action - Hunting', 'Action - Martial Arts', 'Action - Medieval', 'Action - Military', 'Action - Music*', 'Action - Mythology', 'Action - Ninja', 'Action - Post Apocalyptic', 'Action - Prison', 'Action - Rhythm*', 'Action - Sci-Fi', 'Action - Space', 'Action - Sports*', 'Action - Spy', 'Action - Superheroes', 'Action - UFO', 'Action - Vampire', 'Action - Werewolf', 'Action - Zombies', 'Adventure - Abstract', 'Adventure - Comedy', 'Adventure - Detective*', 'Adventure - Fantasy', 'Adventure - Horror', 'Adventure - Law*', 'Adventure - Life', 'Adventure - Mad Science', 'Adventure - Medieval', 'Adventure - Mystery*', 'Adventure - Pirate', 'Adventure - Prison', 'Adventure - Romance', 'Adventure - School', 'Adventure - Sci-Fi', 'Adventure - Spy', 'Adventure - Time Travel', 'Casual - Airplane', 'Casual - Comedy', 'Casual - Cooking', 'Casual - Dance', 'Casual - Farming', 'Casual - Fashion', 'Casual - Martial Arts', 'Casual - Movies', 'Casual - Music*', 'Casual - Racing*', 'Casual - Rhythm*', 'Casual - Sports*', 'Casual - Virtual Pet', 'Casual - Vocabulary', 'Casual - Zombies', 'RPG - Aliens', 'RPG - Alternate History', 'RPG - Assassin', 'RPG - Cyberpunk', 'RPG - Detective*', 'RPG - Dungeon', 'RPG - Fantasy', 'RPG - Fashion', 'RPG - Martial Arts', 'RPG - Medieval', 'RPG - Mystery*', 'RPG - Post Apocalyptic', 'RPG - School', 'RPG - Sci-Fi', 'RPG - Spy', 'RPG - Thief', 'RPG - Time Travel', 'RPG - Vampire', 'RPG - Werewolf', 'RPG - Wild West', 'Simulation - Airplane', 'Simulation - Business', 'Simulation - City', 'Simulation - Colonization', 'Simulation - Construction', 'Simulation - Cooking', 'Simulation - Dance', 'Simulation - Disasters', 'Simulation - Dungeon', 'Simulation - Dystopian', 'Simulation - Evolution', 'Simulation - Extreme Sports', 'Simulation - Farming', 'Simulation - Fashion', 'Simulation - Game Dev', 'Simulation - Government', 'Simulation - Hacking', 'Simulation - History', 'Simulation - Hospital', 'Simulation - Hunting', 'Simulation - Life', 'Simulation - Martial Arts', 'Simulation - Military', 'Simulation - Movies', 'Simulation - Music*', 'Simulation - Prison', 'Simulation - Racing*', 'Simulation - Rhythm*', 'Simulation - School', 'Simulation - Sci-Fi', 'Simulation - Space', 'Simulation - Sports*', 'Simulation - Surgery', 'Simulation - Technology', 'Simulation - Transport', 'Simulation - Virtual Pet', 'Simulation - Vocabulary', 'Strategy - Airplane', 'Strategy - Business', 'Strategy - City', 'Strategy - Colonization', 'Strategy - Disasters', 'Strategy - Dungeon', 'Strategy - Evolution', 'Strategy - Expedition', 'Strategy - Fantasy', 'Strategy - Government', 'Strategy - Hacking', 'Strategy - History', 'Strategy - Medieval', 'Strategy - Military', 'Strategy - School', 'Strategy - Sci-Fi', 'Strategy - Space', 'Strategy - Transport', 'Strategy - UFO', 'Strategy - Vocabulary']\n"
     ]
    }
   ],
   "source": [
    "topics = pd.read_csv('topics.csv')\n",
    "audience = pd.read_csv('audience.csv')\n",
    "systems_topics = pd.read_csv('systems_topics.csv')\n",
    "systems_audience = pd.read_csv('systems_audience.csv')\n",
    "\n",
    "topics = topics.iloc[:,1:]\n",
    "topics_temp = topics.copy()\n",
    "\n",
    "topics_combinations = []\n",
    "\n",
    "for i in range(0,len(topics_temp)):\n",
    "    for j in range(1,len(topics_temp.columns)):\n",
    "        if(topics_temp.iloc[i,j]=='3'):\n",
    "            topics_combinations.append(f\"{topics_temp.columns[j]} - {topics_temp.iloc[i,0]}\")\n",
    "        \n",
    "topics_combinations.sort()\n",
    "print(topics_combinations)"
   ],
   "metadata": {
    "collapsed": false,
    "ExecuteTime": {
     "end_time": "2023-11-23T13:25:43.187964Z",
     "start_time": "2023-11-23T13:25:43.149698Z"
    }
   },
   "id": "a8061ae791a97be"
  },
  {
   "cell_type": "code",
   "execution_count": 237,
   "outputs": [
    {
     "data": {
      "text/plain": "                Topic   Y  E   M\n0            Abstract   1  2   3\n1            Airplane   3  3   2\n2              Aliens   2  3   3\n3   Alternate History  -3  3   3\n4            Assassin  -3  1   3\n..                ...  .. ..  ..\n62        Virtual Pet   3  1  -2\n63         Vocabulary   2  3  -3\n64           Werewolf  -2  2   3\n65          Wild West   3  2   3\n66            Zombies   2  1   3\n\n[67 rows x 4 columns]",
      "text/html": "<div>\n<style scoped>\n    .dataframe tbody tr th:only-of-type {\n        vertical-align: middle;\n    }\n\n    .dataframe tbody tr th {\n        vertical-align: top;\n    }\n\n    .dataframe thead th {\n        text-align: right;\n    }\n</style>\n<table border=\"1\" class=\"dataframe\">\n  <thead>\n    <tr style=\"text-align: right;\">\n      <th></th>\n      <th>Topic</th>\n      <th>Y</th>\n      <th>E</th>\n      <th>M</th>\n    </tr>\n  </thead>\n  <tbody>\n    <tr>\n      <th>0</th>\n      <td>Abstract</td>\n      <td>1</td>\n      <td>2</td>\n      <td>3</td>\n    </tr>\n    <tr>\n      <th>1</th>\n      <td>Airplane</td>\n      <td>3</td>\n      <td>3</td>\n      <td>2</td>\n    </tr>\n    <tr>\n      <th>2</th>\n      <td>Aliens</td>\n      <td>2</td>\n      <td>3</td>\n      <td>3</td>\n    </tr>\n    <tr>\n      <th>3</th>\n      <td>Alternate History</td>\n      <td>-3</td>\n      <td>3</td>\n      <td>3</td>\n    </tr>\n    <tr>\n      <th>4</th>\n      <td>Assassin</td>\n      <td>-3</td>\n      <td>1</td>\n      <td>3</td>\n    </tr>\n    <tr>\n      <th>...</th>\n      <td>...</td>\n      <td>...</td>\n      <td>...</td>\n      <td>...</td>\n    </tr>\n    <tr>\n      <th>62</th>\n      <td>Virtual Pet</td>\n      <td>3</td>\n      <td>1</td>\n      <td>-2</td>\n    </tr>\n    <tr>\n      <th>63</th>\n      <td>Vocabulary</td>\n      <td>2</td>\n      <td>3</td>\n      <td>-3</td>\n    </tr>\n    <tr>\n      <th>64</th>\n      <td>Werewolf</td>\n      <td>-2</td>\n      <td>2</td>\n      <td>3</td>\n    </tr>\n    <tr>\n      <th>65</th>\n      <td>Wild West</td>\n      <td>3</td>\n      <td>2</td>\n      <td>3</td>\n    </tr>\n    <tr>\n      <th>66</th>\n      <td>Zombies</td>\n      <td>2</td>\n      <td>1</td>\n      <td>3</td>\n    </tr>\n  </tbody>\n</table>\n<p>67 rows × 4 columns</p>\n</div>"
     },
     "execution_count": 237,
     "metadata": {},
     "output_type": "execute_result"
    }
   ],
   "source": [
    "audience = audience.iloc[:,1:]\n",
    "audience"
   ],
   "metadata": {
    "collapsed": false,
    "ExecuteTime": {
     "end_time": "2023-11-23T13:08:47.935478Z",
     "start_time": "2023-11-23T13:08:47.913686Z"
    }
   },
   "id": "121511d170050a22"
  },
  {
   "cell_type": "code",
   "execution_count": 241,
   "outputs": [],
   "source": [
    "audience_combinations = []\n",
    "for i in range(0,len(audience)):\n",
    "    for j in range(1,len(audience.columns)):\n",
    "        if(audience.iloc[i,j]=='3'):\n",
    "            audience_combinations.append(f\"{audience.columns[j]} - {audience.iloc[i,1]}\")"
   ],
   "metadata": {
    "collapsed": false,
    "ExecuteTime": {
     "end_time": "2023-11-23T13:24:42.416526Z",
     "start_time": "2023-11-23T13:24:42.396961Z"
    }
   },
   "id": "93ea6741ad260cba"
  },
  {
   "cell_type": "code",
   "execution_count": 242,
   "outputs": [
    {
     "name": "stdout",
     "output_type": "stream",
     "text": [
      "['E - Airplane', 'E - Aliens', 'E - Alternate History', 'E - Business', 'E - City', 'E - Colonization', 'E - Construction', 'E - Cooking', 'E - Detective*', 'E - Dungeon', 'E - Evolution', 'E - Expedition', 'E - Fantasy', 'E - Farming', 'E - Game Dev', 'E - Government', 'E - History', 'E - Hospital', 'E - Hunting', 'E - Law*', 'E - Life', 'E - Medieval', 'E - Movies', 'E - Mythology', 'E - Pirate', 'E - Racing*', 'E - Romance', 'E - Sci-Fi', 'E - Space', 'E - Sports*', 'E - Superheroes', 'E - Surgery', 'E - Technology', 'E - Thief', 'E - Time Travel', 'E - Transport', 'E - UFO', 'E - Vampire', 'E - Vocabulary', 'M - Abstract', 'M - Aliens', 'M - Alternate History', 'M - Assassin', 'M - Comedy', 'M - Crime', 'M - Cyberpunk', 'M - Disasters', 'M - Dungeon', 'M - Dystopian', 'M - Extreme Sports', 'M - Fantasy', 'M - Hacking', 'M - Horror', 'M - Mad Science', 'M - Martial Arts', 'M - Military', 'M - Mystery*', 'M - Mythology', 'M - Post Apocalyptic', 'M - Prison', 'M - Romance', 'M - Sci-Fi', 'M - Space', 'M - Spy', 'M - Superheroes', 'M - Thief', 'M - Vampire', 'M - Werewolf', 'M - Wild West', 'M - Zombies', 'Y - Airplane', 'Y - Dance', 'Y - Extreme Sports', 'Y - Fantasy', 'Y - Fashion', 'Y - Life', 'Y - Medieval', 'Y - Music*', 'Y - Ninja', 'Y - Pirate', 'Y - Racing*', 'Y - Rhythm*', 'Y - School', 'Y - Sports*', 'Y - Superheroes', 'Y - Virtual Pet', 'Y - Wild West']\n"
     ]
    }
   ],
   "source": [
    "audience_combinations.sort()\n",
    "print(audience_combinations)"
   ],
   "metadata": {
    "collapsed": false,
    "ExecuteTime": {
     "end_time": "2023-11-23T13:24:44.723360Z",
     "start_time": "2023-11-23T13:24:44.699121Z"
    }
   },
   "id": "c54fa49074ee05b"
  },
  {
   "cell_type": "code",
   "execution_count": 251,
   "outputs": [
    {
     "name": "stdout",
     "output_type": "stream",
     "text": [
      "['Action-Airplane', 'Action-Aliens', 'Action-AlternateHistory', 'Action-Assassin', 'Action-Crime', 'Action-Cyberpunk', 'Action-Dungeon', 'Action-ExtremeSports', 'Action-Fantasy', 'Action-Horror', 'Action-Hunting', 'Action-MartialArts', 'Action-Medieval', 'Action-Military', 'Action-Music*', 'Action-Mythology', 'Action-Ninja', 'Action-PostApocalyptic', 'Action-Prison', 'Action-Rhythm*', 'Action-Sci-Fi', 'Action-Space', 'Action-Sports*', 'Action-Spy', 'Action-Superheroes', 'Action-UFO', 'Action-Vampire', 'Action-Werewolf', 'Action-Zombies', 'Adventure-Abstract', 'Adventure-Comedy', 'Adventure-Detective*', 'Adventure-Fantasy', 'Adventure-Horror', 'Adventure-Law*', 'Adventure-Life', 'Adventure-MadScience', 'Adventure-Medieval', 'Adventure-Mystery*', 'Adventure-Pirate', 'Adventure-Prison', 'Adventure-Romance', 'Adventure-School', 'Adventure-Sci-Fi', 'Adventure-Spy', 'Adventure-TimeTravel', 'Casual-Airplane', 'Casual-Comedy', 'Casual-Cooking', 'Casual-Dance', 'Casual-Farming', 'Casual-Fashion', 'Casual-MartialArts', 'Casual-Movies', 'Casual-Music*', 'Casual-Racing*', 'Casual-Rhythm*', 'Casual-Sports*', 'Casual-VirtualPet', 'Casual-Vocabulary', 'Casual-Zombies', 'RPG-Aliens', 'RPG-AlternateHistory', 'RPG-Assassin', 'RPG-Cyberpunk', 'RPG-Detective*', 'RPG-Dungeon', 'RPG-Fantasy', 'RPG-Fashion', 'RPG-MartialArts', 'RPG-Medieval', 'RPG-Mystery*', 'RPG-PostApocalyptic', 'RPG-School', 'RPG-Sci-Fi', 'RPG-Spy', 'RPG-Thief', 'RPG-TimeTravel', 'RPG-Vampire', 'RPG-Werewolf', 'RPG-WildWest', 'Simulation-Airplane', 'Simulation-Business', 'Simulation-City', 'Simulation-Colonization', 'Simulation-Construction', 'Simulation-Cooking', 'Simulation-Dance', 'Simulation-Disasters', 'Simulation-Dungeon', 'Simulation-Dystopian', 'Simulation-Evolution', 'Simulation-ExtremeSports', 'Simulation-Farming', 'Simulation-Fashion', 'Simulation-GameDev', 'Simulation-Government', 'Simulation-Hacking', 'Simulation-History', 'Simulation-Hospital', 'Simulation-Hunting', 'Simulation-Life', 'Simulation-MartialArts', 'Simulation-Military', 'Simulation-Movies', 'Simulation-Music*', 'Simulation-Prison', 'Simulation-Racing*', 'Simulation-Rhythm*', 'Simulation-School', 'Simulation-Sci-Fi', 'Simulation-Space', 'Simulation-Sports*', 'Simulation-Surgery', 'Simulation-Technology', 'Simulation-Transport', 'Simulation-VirtualPet', 'Simulation-Vocabulary', 'Strategy-Airplane', 'Strategy-Business', 'Strategy-City', 'Strategy-Colonization', 'Strategy-Disasters', 'Strategy-Dungeon', 'Strategy-Evolution', 'Strategy-Expedition', 'Strategy-Fantasy', 'Strategy-Government', 'Strategy-Hacking', 'Strategy-History', 'Strategy-Medieval', 'Strategy-Military', 'Strategy-School', 'Strategy-Sci-Fi', 'Strategy-Space', 'Strategy-Transport', 'Strategy-UFO', 'Strategy-Vocabulary']\n",
      "['E-Airplane', 'E-Aliens', 'E-AlternateHistory', 'E-Business', 'E-City', 'E-Colonization', 'E-Construction', 'E-Cooking', 'E-Detective*', 'E-Dungeon', 'E-Evolution', 'E-Expedition', 'E-Fantasy', 'E-Farming', 'E-GameDev', 'E-Government', 'E-History', 'E-Hospital', 'E-Hunting', 'E-Law*', 'E-Life', 'E-Medieval', 'E-Movies', 'E-Mythology', 'E-Pirate', 'E-Racing*', 'E-Romance', 'E-Sci-Fi', 'E-Space', 'E-Sports*', 'E-Superheroes', 'E-Surgery', 'E-Technology', 'E-Thief', 'E-TimeTravel', 'E-Transport', 'E-UFO', 'E-Vampire', 'E-Vocabulary', 'M-Abstract', 'M-Aliens', 'M-AlternateHistory', 'M-Assassin', 'M-Comedy', 'M-Crime', 'M-Cyberpunk', 'M-Disasters', 'M-Dungeon', 'M-Dystopian', 'M-ExtremeSports', 'M-Fantasy', 'M-Hacking', 'M-Horror', 'M-MadScience', 'M-MartialArts', 'M-Military', 'M-Mystery*', 'M-Mythology', 'M-PostApocalyptic', 'M-Prison', 'M-Romance', 'M-Sci-Fi', 'M-Space', 'M-Spy', 'M-Superheroes', 'M-Thief', 'M-Vampire', 'M-Werewolf', 'M-WildWest', 'M-Zombies', 'Y-Airplane', 'Y-Dance', 'Y-ExtremeSports', 'Y-Fantasy', 'Y-Fashion', 'Y-Life', 'Y-Medieval', 'Y-Music*', 'Y-Ninja', 'Y-Pirate', 'Y-Racing*', 'Y-Rhythm*', 'Y-School', 'Y-Sports*', 'Y-Superheroes', 'Y-VirtualPet', 'Y-WildWest']\n"
     ]
    }
   ],
   "source": [
    "topics_combinations = [x.replace(' ','') for x in topics_combinations]\n",
    "audience_combinations = [x.replace(' ','') for x in audience_combinations]\n",
    "print(topics_combinations)\n",
    "print(audience_combinations)"
   ],
   "metadata": {
    "collapsed": false,
    "ExecuteTime": {
     "end_time": "2023-11-23T14:23:19.066603Z",
     "start_time": "2023-11-23T14:23:19.044647Z"
    }
   },
   "id": "f10acce810397e90"
  },
  {
   "cell_type": "code",
   "execution_count": null,
   "outputs": [],
   "source": [],
   "metadata": {
    "collapsed": false
   },
   "id": "6820b6f0cc4dcebd"
  }
 ],
 "metadata": {
  "kernelspec": {
   "display_name": "Python 3",
   "language": "python",
   "name": "python3"
  },
  "language_info": {
   "codemirror_mode": {
    "name": "ipython",
    "version": 2
   },
   "file_extension": ".py",
   "mimetype": "text/x-python",
   "name": "python",
   "nbconvert_exporter": "python",
   "pygments_lexer": "ipython2",
   "version": "2.7.6"
  }
 },
 "nbformat": 4,
 "nbformat_minor": 5
}
