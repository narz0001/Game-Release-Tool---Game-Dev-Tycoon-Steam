{
 "cells": [
  {
   "cell_type": "markdown",
   "source": [
    "## Extracting Tables from Wikia Site"
   ],
   "metadata": {
    "collapsed": false
   },
   "id": "ed0583c66a9b83db"
  },
  {
   "cell_type": "code",
   "execution_count": 51,
   "outputs": [],
   "source": [
    "import pandas as pd\n",
    "\n",
    "url = \"https://gamedevtycoon.fandom.com/wiki/Game_Development_Based_on_Experience/1.4.3#Multi-Genre_combinations\""
   ],
   "metadata": {
    "collapsed": false,
    "ExecuteTime": {
     "end_time": "2023-11-22T15:29:59.035359Z",
     "start_time": "2023-11-22T15:29:59.016484Z"
    }
   },
   "id": "4ed816d2f94d8555"
  },
  {
   "cell_type": "code",
   "execution_count": 52,
   "outputs": [],
   "source": [
    "list_of_dfs = pd.read_html(url)"
   ],
   "metadata": {
    "collapsed": false,
    "ExecuteTime": {
     "end_time": "2023-11-22T15:30:02.443621Z",
     "start_time": "2023-11-22T15:30:01.571905Z"
    }
   },
   "id": "97cf350ab6813f65"
  },
  {
   "cell_type": "code",
   "execution_count": 53,
   "outputs": [
    {
     "data": {
      "text/plain": "         0       1          2       3           4         5       6   7   \\\n0     Topic  Genres     Genres  Genres      Genres    Genres  Genres NaN   \n1     Topic  Action  Adventure     RPG  Simulation  Strategy  Casual NaN   \n2  Abstract      ++        +++     −−−         −−−         +     −−− NaN   \n3  Airplane     +++        −−−       +         +++       +++     +++ NaN   \n4    Aliens     +++          +     +++         −−−        ++      −− NaN   \n\n          8          9          10  \n0  Audiences  Audiences  Audiences  \n1          Y          E          M  \n2          +         ++        +++  \n3        +++        +++         ++  \n4         ++        +++        +++  ",
      "text/html": "<div>\n<style scoped>\n    .dataframe tbody tr th:only-of-type {\n        vertical-align: middle;\n    }\n\n    .dataframe tbody tr th {\n        vertical-align: top;\n    }\n\n    .dataframe thead th {\n        text-align: right;\n    }\n</style>\n<table border=\"1\" class=\"dataframe\">\n  <thead>\n    <tr style=\"text-align: right;\">\n      <th></th>\n      <th>0</th>\n      <th>1</th>\n      <th>2</th>\n      <th>3</th>\n      <th>4</th>\n      <th>5</th>\n      <th>6</th>\n      <th>7</th>\n      <th>8</th>\n      <th>9</th>\n      <th>10</th>\n    </tr>\n  </thead>\n  <tbody>\n    <tr>\n      <th>0</th>\n      <td>Topic</td>\n      <td>Genres</td>\n      <td>Genres</td>\n      <td>Genres</td>\n      <td>Genres</td>\n      <td>Genres</td>\n      <td>Genres</td>\n      <td>NaN</td>\n      <td>Audiences</td>\n      <td>Audiences</td>\n      <td>Audiences</td>\n    </tr>\n    <tr>\n      <th>1</th>\n      <td>Topic</td>\n      <td>Action</td>\n      <td>Adventure</td>\n      <td>RPG</td>\n      <td>Simulation</td>\n      <td>Strategy</td>\n      <td>Casual</td>\n      <td>NaN</td>\n      <td>Y</td>\n      <td>E</td>\n      <td>M</td>\n    </tr>\n    <tr>\n      <th>2</th>\n      <td>Abstract</td>\n      <td>++</td>\n      <td>+++</td>\n      <td>−−−</td>\n      <td>−−−</td>\n      <td>+</td>\n      <td>−−−</td>\n      <td>NaN</td>\n      <td>+</td>\n      <td>++</td>\n      <td>+++</td>\n    </tr>\n    <tr>\n      <th>3</th>\n      <td>Airplane</td>\n      <td>+++</td>\n      <td>−−−</td>\n      <td>+</td>\n      <td>+++</td>\n      <td>+++</td>\n      <td>+++</td>\n      <td>NaN</td>\n      <td>+++</td>\n      <td>+++</td>\n      <td>++</td>\n    </tr>\n    <tr>\n      <th>4</th>\n      <td>Aliens</td>\n      <td>+++</td>\n      <td>+</td>\n      <td>+++</td>\n      <td>−−−</td>\n      <td>++</td>\n      <td>−−</td>\n      <td>NaN</td>\n      <td>++</td>\n      <td>+++</td>\n      <td>+++</td>\n    </tr>\n  </tbody>\n</table>\n</div>"
     },
     "execution_count": 53,
     "metadata": {},
     "output_type": "execute_result"
    }
   ],
   "source": [
    "df = list_of_dfs[2]\n",
    "df.head()"
   ],
   "metadata": {
    "collapsed": false,
    "ExecuteTime": {
     "end_time": "2023-11-22T15:30:05.343705Z",
     "start_time": "2023-11-22T15:30:05.326269Z"
    }
   },
   "id": "2626b281b9db1420"
  },
  {
   "cell_type": "code",
   "execution_count": 54,
   "outputs": [],
   "source": [
    "topics = df.iloc[1:-2,0:7]"
   ],
   "metadata": {
    "collapsed": false,
    "ExecuteTime": {
     "end_time": "2023-11-22T15:30:23.249226Z",
     "start_time": "2023-11-22T15:30:23.228924Z"
    }
   },
   "id": "3bceef238db86328"
  },
  {
   "cell_type": "code",
   "execution_count": 55,
   "outputs": [],
   "source": [
    "def convert_to_numerical(value):\n",
    "    plus_count = value.count('+')\n",
    "    minus_count = value.count('−')\n",
    "    \n",
    "    if plus_count > minus_count:\n",
    "        return plus_count\n",
    "    elif plus_count < minus_count:\n",
    "        return -minus_count\n",
    "    else:\n",
    "        return value\n",
    "\n",
    "topics = topics.applymap(convert_to_numerical)"
   ],
   "metadata": {
    "collapsed": false,
    "ExecuteTime": {
     "end_time": "2023-11-22T15:30:36.444508Z",
     "start_time": "2023-11-22T15:30:36.411912Z"
    }
   },
   "id": "cbe1c84eb91e6a01"
  },
  {
   "cell_type": "code",
   "execution_count": 56,
   "outputs": [
    {
     "data": {
      "text/plain": "                    0       1          2    3           4         5       6\n1               Topic  Action  Adventure  RPG  Simulation  Strategy  Casual\n2            Abstract       2          3   -3          -3         1      -3\n3            Airplane       3         -3    1           3         3       3\n4              Aliens       3          1    3          -3         2      -2\n5   Alternate History       3          1    3           1         2      -3\n..                ...     ...        ...  ...         ...       ...     ...\n64        Virtual Pet      -3          1    2           3         2       3\n65         Vocabulary      -3         -3   -3           3         3       3\n66           Werewolf       3          1    3          -3        -3      -2\n67          Wild West       2         -2    3          -3        -3      -2\n68            Zombies       3         -2   -3          -3         2       3\n\n[68 rows x 7 columns]",
      "text/html": "<div>\n<style scoped>\n    .dataframe tbody tr th:only-of-type {\n        vertical-align: middle;\n    }\n\n    .dataframe tbody tr th {\n        vertical-align: top;\n    }\n\n    .dataframe thead th {\n        text-align: right;\n    }\n</style>\n<table border=\"1\" class=\"dataframe\">\n  <thead>\n    <tr style=\"text-align: right;\">\n      <th></th>\n      <th>0</th>\n      <th>1</th>\n      <th>2</th>\n      <th>3</th>\n      <th>4</th>\n      <th>5</th>\n      <th>6</th>\n    </tr>\n  </thead>\n  <tbody>\n    <tr>\n      <th>1</th>\n      <td>Topic</td>\n      <td>Action</td>\n      <td>Adventure</td>\n      <td>RPG</td>\n      <td>Simulation</td>\n      <td>Strategy</td>\n      <td>Casual</td>\n    </tr>\n    <tr>\n      <th>2</th>\n      <td>Abstract</td>\n      <td>2</td>\n      <td>3</td>\n      <td>-3</td>\n      <td>-3</td>\n      <td>1</td>\n      <td>-3</td>\n    </tr>\n    <tr>\n      <th>3</th>\n      <td>Airplane</td>\n      <td>3</td>\n      <td>-3</td>\n      <td>1</td>\n      <td>3</td>\n      <td>3</td>\n      <td>3</td>\n    </tr>\n    <tr>\n      <th>4</th>\n      <td>Aliens</td>\n      <td>3</td>\n      <td>1</td>\n      <td>3</td>\n      <td>-3</td>\n      <td>2</td>\n      <td>-2</td>\n    </tr>\n    <tr>\n      <th>5</th>\n      <td>Alternate History</td>\n      <td>3</td>\n      <td>1</td>\n      <td>3</td>\n      <td>1</td>\n      <td>2</td>\n      <td>-3</td>\n    </tr>\n    <tr>\n      <th>...</th>\n      <td>...</td>\n      <td>...</td>\n      <td>...</td>\n      <td>...</td>\n      <td>...</td>\n      <td>...</td>\n      <td>...</td>\n    </tr>\n    <tr>\n      <th>64</th>\n      <td>Virtual Pet</td>\n      <td>-3</td>\n      <td>1</td>\n      <td>2</td>\n      <td>3</td>\n      <td>2</td>\n      <td>3</td>\n    </tr>\n    <tr>\n      <th>65</th>\n      <td>Vocabulary</td>\n      <td>-3</td>\n      <td>-3</td>\n      <td>-3</td>\n      <td>3</td>\n      <td>3</td>\n      <td>3</td>\n    </tr>\n    <tr>\n      <th>66</th>\n      <td>Werewolf</td>\n      <td>3</td>\n      <td>1</td>\n      <td>3</td>\n      <td>-3</td>\n      <td>-3</td>\n      <td>-2</td>\n    </tr>\n    <tr>\n      <th>67</th>\n      <td>Wild West</td>\n      <td>2</td>\n      <td>-2</td>\n      <td>3</td>\n      <td>-3</td>\n      <td>-3</td>\n      <td>-2</td>\n    </tr>\n    <tr>\n      <th>68</th>\n      <td>Zombies</td>\n      <td>3</td>\n      <td>-2</td>\n      <td>-3</td>\n      <td>-3</td>\n      <td>2</td>\n      <td>3</td>\n    </tr>\n  </tbody>\n</table>\n<p>68 rows × 7 columns</p>\n</div>"
     },
     "execution_count": 56,
     "metadata": {},
     "output_type": "execute_result"
    }
   ],
   "source": [
    "topics"
   ],
   "metadata": {
    "collapsed": false,
    "ExecuteTime": {
     "end_time": "2023-11-22T15:30:40.898727Z",
     "start_time": "2023-11-22T15:30:40.885373Z"
    }
   },
   "id": "39aad4d415f7a14a"
  },
  {
   "cell_type": "code",
   "execution_count": 57,
   "outputs": [],
   "source": [
    "audience = df.iloc[1:-2,-3:]\n",
    "audience_first_col = df.iloc[1:,0]\n",
    "audience.insert(0,\"Topics\",audience_first_col)"
   ],
   "metadata": {
    "collapsed": false,
    "ExecuteTime": {
     "end_time": "2023-11-22T15:33:17.793314Z",
     "start_time": "2023-11-22T15:33:17.751826Z"
    }
   },
   "id": "7fb437643e5034c6"
  },
  {
   "cell_type": "code",
   "execution_count": 60,
   "outputs": [
    {
     "data": {
      "text/plain": "               Topics   8  9  10\n1               Topic   Y  E   M\n2            Abstract   1  2   3\n3            Airplane   3  3   2\n4              Aliens   2  3   3\n5   Alternate History  -3  3   3\n..                ...  .. ..  ..\n64        Virtual Pet   3  1  -2\n65         Vocabulary   2  3  -3\n66           Werewolf  -2  2   3\n67          Wild West   3  2   3\n68            Zombies   2  1   3\n\n[68 rows x 4 columns]",
      "text/html": "<div>\n<style scoped>\n    .dataframe tbody tr th:only-of-type {\n        vertical-align: middle;\n    }\n\n    .dataframe tbody tr th {\n        vertical-align: top;\n    }\n\n    .dataframe thead th {\n        text-align: right;\n    }\n</style>\n<table border=\"1\" class=\"dataframe\">\n  <thead>\n    <tr style=\"text-align: right;\">\n      <th></th>\n      <th>Topics</th>\n      <th>8</th>\n      <th>9</th>\n      <th>10</th>\n    </tr>\n  </thead>\n  <tbody>\n    <tr>\n      <th>1</th>\n      <td>Topic</td>\n      <td>Y</td>\n      <td>E</td>\n      <td>M</td>\n    </tr>\n    <tr>\n      <th>2</th>\n      <td>Abstract</td>\n      <td>1</td>\n      <td>2</td>\n      <td>3</td>\n    </tr>\n    <tr>\n      <th>3</th>\n      <td>Airplane</td>\n      <td>3</td>\n      <td>3</td>\n      <td>2</td>\n    </tr>\n    <tr>\n      <th>4</th>\n      <td>Aliens</td>\n      <td>2</td>\n      <td>3</td>\n      <td>3</td>\n    </tr>\n    <tr>\n      <th>5</th>\n      <td>Alternate History</td>\n      <td>-3</td>\n      <td>3</td>\n      <td>3</td>\n    </tr>\n    <tr>\n      <th>...</th>\n      <td>...</td>\n      <td>...</td>\n      <td>...</td>\n      <td>...</td>\n    </tr>\n    <tr>\n      <th>64</th>\n      <td>Virtual Pet</td>\n      <td>3</td>\n      <td>1</td>\n      <td>-2</td>\n    </tr>\n    <tr>\n      <th>65</th>\n      <td>Vocabulary</td>\n      <td>2</td>\n      <td>3</td>\n      <td>-3</td>\n    </tr>\n    <tr>\n      <th>66</th>\n      <td>Werewolf</td>\n      <td>-2</td>\n      <td>2</td>\n      <td>3</td>\n    </tr>\n    <tr>\n      <th>67</th>\n      <td>Wild West</td>\n      <td>3</td>\n      <td>2</td>\n      <td>3</td>\n    </tr>\n    <tr>\n      <th>68</th>\n      <td>Zombies</td>\n      <td>2</td>\n      <td>1</td>\n      <td>3</td>\n    </tr>\n  </tbody>\n</table>\n<p>68 rows × 4 columns</p>\n</div>"
     },
     "execution_count": 60,
     "metadata": {},
     "output_type": "execute_result"
    }
   ],
   "source": [
    "audience = audience.applymap(convert_to_numerical)\n",
    "audience"
   ],
   "metadata": {
    "collapsed": false,
    "ExecuteTime": {
     "end_time": "2023-11-22T15:34:03.691121Z",
     "start_time": "2023-11-22T15:34:03.676396Z"
    }
   },
   "id": "fc09949fb06faddc"
  },
  {
   "cell_type": "code",
   "execution_count": 61,
   "outputs": [],
   "source": [
    "system_table = list_of_dfs[3]"
   ],
   "metadata": {
    "collapsed": false,
    "ExecuteTime": {
     "end_time": "2023-11-22T15:35:24.467309Z",
     "start_time": "2023-11-22T15:35:24.432551Z"
    }
   },
   "id": "19ec9ed3489df6e4"
  },
  {
   "cell_type": "code",
   "execution_count": 66,
   "outputs": [
    {
     "data": {
      "text/plain": "               0       1          2    3           4         5       6\n1         System  Action  Adventure  RPG  Simulation  Strategy  Casual\n2             PC       2          3    2           3         3      -3\n3            G64       2          3    2           2         3      -2\n4            TES       1         -2    1           1        -2       3\n5       Master V       2         -2    1           1        -2       3\n6       Gameling       1         -2    2           2        -3       3\n7      Vena Gear       2          1    1           2        -3       3\n8     Vena Oasis       3          1    1           2        -3      -2\n9      Super TES       2          2    2           3        -2       2\n10    Playsystem       3          1    3           2        -2      -3\n11        TES 64       2          1   -2           1        -2       2\n12     DreamVast       3         -2    1           3        -2      -2\n13  Playsystem 2       3          1    3           2        -2       2\n14          mBox       3          1    2           2        -2      -2\n15   Game Sphere       1          1   -2           1        -2       3\n16            GS       2          2    3           2         2       3\n17           PPS       3         -2    3           1         1       1\n18      mBox 360       3          2    3           2        -2       2\n19           Nuu       1         -3   -2           3        -2       3\n20  Playsystem 3       3          2    2           3        -2       1\n21       grPhone       1          1   -2           2        -2       3\n22         grPad       1          2   -2           2         2       3\n23          mPad      -2          2    1           2        -2       2\n24           Wuu       2         -2    1           3        -2       3\n25           OYA       2         -2    1           2         1       3\n26      mBox One       3          1    2           2        -2       2\n27  Playsystem 4       3          1    3           2        -2       2\n28     mBox Next       2          2    2           1        -2       3\n29  Playsystem 5       3         -2    2           3        -2       2",
      "text/html": "<div>\n<style scoped>\n    .dataframe tbody tr th:only-of-type {\n        vertical-align: middle;\n    }\n\n    .dataframe tbody tr th {\n        vertical-align: top;\n    }\n\n    .dataframe thead th {\n        text-align: right;\n    }\n</style>\n<table border=\"1\" class=\"dataframe\">\n  <thead>\n    <tr style=\"text-align: right;\">\n      <th></th>\n      <th>0</th>\n      <th>1</th>\n      <th>2</th>\n      <th>3</th>\n      <th>4</th>\n      <th>5</th>\n      <th>6</th>\n    </tr>\n  </thead>\n  <tbody>\n    <tr>\n      <th>1</th>\n      <td>System</td>\n      <td>Action</td>\n      <td>Adventure</td>\n      <td>RPG</td>\n      <td>Simulation</td>\n      <td>Strategy</td>\n      <td>Casual</td>\n    </tr>\n    <tr>\n      <th>2</th>\n      <td>PC</td>\n      <td>2</td>\n      <td>3</td>\n      <td>2</td>\n      <td>3</td>\n      <td>3</td>\n      <td>-3</td>\n    </tr>\n    <tr>\n      <th>3</th>\n      <td>G64</td>\n      <td>2</td>\n      <td>3</td>\n      <td>2</td>\n      <td>2</td>\n      <td>3</td>\n      <td>-2</td>\n    </tr>\n    <tr>\n      <th>4</th>\n      <td>TES</td>\n      <td>1</td>\n      <td>-2</td>\n      <td>1</td>\n      <td>1</td>\n      <td>-2</td>\n      <td>3</td>\n    </tr>\n    <tr>\n      <th>5</th>\n      <td>Master V</td>\n      <td>2</td>\n      <td>-2</td>\n      <td>1</td>\n      <td>1</td>\n      <td>-2</td>\n      <td>3</td>\n    </tr>\n    <tr>\n      <th>6</th>\n      <td>Gameling</td>\n      <td>1</td>\n      <td>-2</td>\n      <td>2</td>\n      <td>2</td>\n      <td>-3</td>\n      <td>3</td>\n    </tr>\n    <tr>\n      <th>7</th>\n      <td>Vena Gear</td>\n      <td>2</td>\n      <td>1</td>\n      <td>1</td>\n      <td>2</td>\n      <td>-3</td>\n      <td>3</td>\n    </tr>\n    <tr>\n      <th>8</th>\n      <td>Vena Oasis</td>\n      <td>3</td>\n      <td>1</td>\n      <td>1</td>\n      <td>2</td>\n      <td>-3</td>\n      <td>-2</td>\n    </tr>\n    <tr>\n      <th>9</th>\n      <td>Super TES</td>\n      <td>2</td>\n      <td>2</td>\n      <td>2</td>\n      <td>3</td>\n      <td>-2</td>\n      <td>2</td>\n    </tr>\n    <tr>\n      <th>10</th>\n      <td>Playsystem</td>\n      <td>3</td>\n      <td>1</td>\n      <td>3</td>\n      <td>2</td>\n      <td>-2</td>\n      <td>-3</td>\n    </tr>\n    <tr>\n      <th>11</th>\n      <td>TES 64</td>\n      <td>2</td>\n      <td>1</td>\n      <td>-2</td>\n      <td>1</td>\n      <td>-2</td>\n      <td>2</td>\n    </tr>\n    <tr>\n      <th>12</th>\n      <td>DreamVast</td>\n      <td>3</td>\n      <td>-2</td>\n      <td>1</td>\n      <td>3</td>\n      <td>-2</td>\n      <td>-2</td>\n    </tr>\n    <tr>\n      <th>13</th>\n      <td>Playsystem 2</td>\n      <td>3</td>\n      <td>1</td>\n      <td>3</td>\n      <td>2</td>\n      <td>-2</td>\n      <td>2</td>\n    </tr>\n    <tr>\n      <th>14</th>\n      <td>mBox</td>\n      <td>3</td>\n      <td>1</td>\n      <td>2</td>\n      <td>2</td>\n      <td>-2</td>\n      <td>-2</td>\n    </tr>\n    <tr>\n      <th>15</th>\n      <td>Game Sphere</td>\n      <td>1</td>\n      <td>1</td>\n      <td>-2</td>\n      <td>1</td>\n      <td>-2</td>\n      <td>3</td>\n    </tr>\n    <tr>\n      <th>16</th>\n      <td>GS</td>\n      <td>2</td>\n      <td>2</td>\n      <td>3</td>\n      <td>2</td>\n      <td>2</td>\n      <td>3</td>\n    </tr>\n    <tr>\n      <th>17</th>\n      <td>PPS</td>\n      <td>3</td>\n      <td>-2</td>\n      <td>3</td>\n      <td>1</td>\n      <td>1</td>\n      <td>1</td>\n    </tr>\n    <tr>\n      <th>18</th>\n      <td>mBox 360</td>\n      <td>3</td>\n      <td>2</td>\n      <td>3</td>\n      <td>2</td>\n      <td>-2</td>\n      <td>2</td>\n    </tr>\n    <tr>\n      <th>19</th>\n      <td>Nuu</td>\n      <td>1</td>\n      <td>-3</td>\n      <td>-2</td>\n      <td>3</td>\n      <td>-2</td>\n      <td>3</td>\n    </tr>\n    <tr>\n      <th>20</th>\n      <td>Playsystem 3</td>\n      <td>3</td>\n      <td>2</td>\n      <td>2</td>\n      <td>3</td>\n      <td>-2</td>\n      <td>1</td>\n    </tr>\n    <tr>\n      <th>21</th>\n      <td>grPhone</td>\n      <td>1</td>\n      <td>1</td>\n      <td>-2</td>\n      <td>2</td>\n      <td>-2</td>\n      <td>3</td>\n    </tr>\n    <tr>\n      <th>22</th>\n      <td>grPad</td>\n      <td>1</td>\n      <td>2</td>\n      <td>-2</td>\n      <td>2</td>\n      <td>2</td>\n      <td>3</td>\n    </tr>\n    <tr>\n      <th>23</th>\n      <td>mPad</td>\n      <td>-2</td>\n      <td>2</td>\n      <td>1</td>\n      <td>2</td>\n      <td>-2</td>\n      <td>2</td>\n    </tr>\n    <tr>\n      <th>24</th>\n      <td>Wuu</td>\n      <td>2</td>\n      <td>-2</td>\n      <td>1</td>\n      <td>3</td>\n      <td>-2</td>\n      <td>3</td>\n    </tr>\n    <tr>\n      <th>25</th>\n      <td>OYA</td>\n      <td>2</td>\n      <td>-2</td>\n      <td>1</td>\n      <td>2</td>\n      <td>1</td>\n      <td>3</td>\n    </tr>\n    <tr>\n      <th>26</th>\n      <td>mBox One</td>\n      <td>3</td>\n      <td>1</td>\n      <td>2</td>\n      <td>2</td>\n      <td>-2</td>\n      <td>2</td>\n    </tr>\n    <tr>\n      <th>27</th>\n      <td>Playsystem 4</td>\n      <td>3</td>\n      <td>1</td>\n      <td>3</td>\n      <td>2</td>\n      <td>-2</td>\n      <td>2</td>\n    </tr>\n    <tr>\n      <th>28</th>\n      <td>mBox Next</td>\n      <td>2</td>\n      <td>2</td>\n      <td>2</td>\n      <td>1</td>\n      <td>-2</td>\n      <td>3</td>\n    </tr>\n    <tr>\n      <th>29</th>\n      <td>Playsystem 5</td>\n      <td>3</td>\n      <td>-2</td>\n      <td>2</td>\n      <td>3</td>\n      <td>-2</td>\n      <td>2</td>\n    </tr>\n  </tbody>\n</table>\n</div>"
     },
     "execution_count": 66,
     "metadata": {},
     "output_type": "execute_result"
    }
   ],
   "source": [
    "systems_topics = system_table.iloc[1:-3,0:7]\n",
    "systems_topics = systems_topics.applymap(convert_to_numerical)\n",
    "systems_topics"
   ],
   "metadata": {
    "collapsed": false,
    "ExecuteTime": {
     "end_time": "2023-11-22T15:41:08.876367Z",
     "start_time": "2023-11-22T15:41:08.867582Z"
    }
   },
   "id": "8cc323551f9f7bf2"
  },
  {
   "cell_type": "code",
   "execution_count": 68,
   "outputs": [
    {
     "data": {
      "text/plain": "          Topics   8  9  10\n1         System   Y  E   M\n2             PC   1  2   3\n3            G64   1  2   3\n4            TES   3  2  -3\n5       Master V   2  3  -2\n6       Gameling   3  2  -3\n7      Vena Gear   2  3   1\n8     Vena Oasis   1  3   2\n9      Super TES   3  2  -2\n10    Playsystem   1  3   2\n11        TES 64   3  2   2\n12     DreamVast  -2  3   3\n13  Playsystem 2   2  3   1\n14          mBox   1  3   2\n15   Game Sphere   2  2   1\n16            GS   3  2   1\n17           PPS   1  2   3\n18      mBox 360   1  2   3\n19           Nuu   3  3  -2\n20  Playsystem 3   1  3   2\n21       grPhone   2  3  -3\n22         grPad   2  3  -3\n23          mPad  -2  2   1\n24           Wuu   2  3  -2\n25           OYA   1  3   2\n26      mBox One  -2  3   1\n27  Playsystem 4   1  3   2\n28     mBox Next   2  3   1\n29  Playsystem 5   1  3   2",
      "text/html": "<div>\n<style scoped>\n    .dataframe tbody tr th:only-of-type {\n        vertical-align: middle;\n    }\n\n    .dataframe tbody tr th {\n        vertical-align: top;\n    }\n\n    .dataframe thead th {\n        text-align: right;\n    }\n</style>\n<table border=\"1\" class=\"dataframe\">\n  <thead>\n    <tr style=\"text-align: right;\">\n      <th></th>\n      <th>Topics</th>\n      <th>8</th>\n      <th>9</th>\n      <th>10</th>\n    </tr>\n  </thead>\n  <tbody>\n    <tr>\n      <th>1</th>\n      <td>System</td>\n      <td>Y</td>\n      <td>E</td>\n      <td>M</td>\n    </tr>\n    <tr>\n      <th>2</th>\n      <td>PC</td>\n      <td>1</td>\n      <td>2</td>\n      <td>3</td>\n    </tr>\n    <tr>\n      <th>3</th>\n      <td>G64</td>\n      <td>1</td>\n      <td>2</td>\n      <td>3</td>\n    </tr>\n    <tr>\n      <th>4</th>\n      <td>TES</td>\n      <td>3</td>\n      <td>2</td>\n      <td>-3</td>\n    </tr>\n    <tr>\n      <th>5</th>\n      <td>Master V</td>\n      <td>2</td>\n      <td>3</td>\n      <td>-2</td>\n    </tr>\n    <tr>\n      <th>6</th>\n      <td>Gameling</td>\n      <td>3</td>\n      <td>2</td>\n      <td>-3</td>\n    </tr>\n    <tr>\n      <th>7</th>\n      <td>Vena Gear</td>\n      <td>2</td>\n      <td>3</td>\n      <td>1</td>\n    </tr>\n    <tr>\n      <th>8</th>\n      <td>Vena Oasis</td>\n      <td>1</td>\n      <td>3</td>\n      <td>2</td>\n    </tr>\n    <tr>\n      <th>9</th>\n      <td>Super TES</td>\n      <td>3</td>\n      <td>2</td>\n      <td>-2</td>\n    </tr>\n    <tr>\n      <th>10</th>\n      <td>Playsystem</td>\n      <td>1</td>\n      <td>3</td>\n      <td>2</td>\n    </tr>\n    <tr>\n      <th>11</th>\n      <td>TES 64</td>\n      <td>3</td>\n      <td>2</td>\n      <td>2</td>\n    </tr>\n    <tr>\n      <th>12</th>\n      <td>DreamVast</td>\n      <td>-2</td>\n      <td>3</td>\n      <td>3</td>\n    </tr>\n    <tr>\n      <th>13</th>\n      <td>Playsystem 2</td>\n      <td>2</td>\n      <td>3</td>\n      <td>1</td>\n    </tr>\n    <tr>\n      <th>14</th>\n      <td>mBox</td>\n      <td>1</td>\n      <td>3</td>\n      <td>2</td>\n    </tr>\n    <tr>\n      <th>15</th>\n      <td>Game Sphere</td>\n      <td>2</td>\n      <td>2</td>\n      <td>1</td>\n    </tr>\n    <tr>\n      <th>16</th>\n      <td>GS</td>\n      <td>3</td>\n      <td>2</td>\n      <td>1</td>\n    </tr>\n    <tr>\n      <th>17</th>\n      <td>PPS</td>\n      <td>1</td>\n      <td>2</td>\n      <td>3</td>\n    </tr>\n    <tr>\n      <th>18</th>\n      <td>mBox 360</td>\n      <td>1</td>\n      <td>2</td>\n      <td>3</td>\n    </tr>\n    <tr>\n      <th>19</th>\n      <td>Nuu</td>\n      <td>3</td>\n      <td>3</td>\n      <td>-2</td>\n    </tr>\n    <tr>\n      <th>20</th>\n      <td>Playsystem 3</td>\n      <td>1</td>\n      <td>3</td>\n      <td>2</td>\n    </tr>\n    <tr>\n      <th>21</th>\n      <td>grPhone</td>\n      <td>2</td>\n      <td>3</td>\n      <td>-3</td>\n    </tr>\n    <tr>\n      <th>22</th>\n      <td>grPad</td>\n      <td>2</td>\n      <td>3</td>\n      <td>-3</td>\n    </tr>\n    <tr>\n      <th>23</th>\n      <td>mPad</td>\n      <td>-2</td>\n      <td>2</td>\n      <td>1</td>\n    </tr>\n    <tr>\n      <th>24</th>\n      <td>Wuu</td>\n      <td>2</td>\n      <td>3</td>\n      <td>-2</td>\n    </tr>\n    <tr>\n      <th>25</th>\n      <td>OYA</td>\n      <td>1</td>\n      <td>3</td>\n      <td>2</td>\n    </tr>\n    <tr>\n      <th>26</th>\n      <td>mBox One</td>\n      <td>-2</td>\n      <td>3</td>\n      <td>1</td>\n    </tr>\n    <tr>\n      <th>27</th>\n      <td>Playsystem 4</td>\n      <td>1</td>\n      <td>3</td>\n      <td>2</td>\n    </tr>\n    <tr>\n      <th>28</th>\n      <td>mBox Next</td>\n      <td>2</td>\n      <td>3</td>\n      <td>1</td>\n    </tr>\n    <tr>\n      <th>29</th>\n      <td>Playsystem 5</td>\n      <td>1</td>\n      <td>3</td>\n      <td>2</td>\n    </tr>\n  </tbody>\n</table>\n</div>"
     },
     "execution_count": 68,
     "metadata": {},
     "output_type": "execute_result"
    }
   ],
   "source": [
    "systems_audience = system_table.iloc[1:-3,-3:]\n",
    "systems_audience_first_col = system_table.iloc[1:,0]\n",
    "systems_audience.insert(0,\"Topics\",systems_audience_first_col)\n",
    "systems_audience = systems_audience.applymap(convert_to_numerical)\n",
    "systems_audience"
   ],
   "metadata": {
    "collapsed": false,
    "ExecuteTime": {
     "end_time": "2023-11-22T15:43:01.456314Z",
     "start_time": "2023-11-22T15:43:01.432327Z"
    }
   },
   "id": "7f461e08d4e21cef"
  }
 ],
 "metadata": {
  "kernelspec": {
   "display_name": "Python 3",
   "language": "python",
   "name": "python3"
  },
  "language_info": {
   "codemirror_mode": {
    "name": "ipython",
    "version": 2
   },
   "file_extension": ".py",
   "mimetype": "text/x-python",
   "name": "python",
   "nbconvert_exporter": "python",
   "pygments_lexer": "ipython2",
   "version": "2.7.6"
  }
 },
 "nbformat": 4,
 "nbformat_minor": 5
}
